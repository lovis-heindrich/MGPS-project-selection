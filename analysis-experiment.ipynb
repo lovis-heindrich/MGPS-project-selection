{
 "cells": [
  {
   "cell_type": "code",
   "execution_count": 1,
   "metadata": {},
   "outputs": [],
   "source": [
    "\n",
    "import json\n",
    "import pandas as pd\n",
    "import numpy as np\n",
    "from toolz import memoize\n",
    "import datetime\n",
    "import math\n",
    "\n",
    "from tqdm import tqdm\n",
    "from src.utils.mouselab_jas import MouselabJas\n",
    "from src.utils.distributions import Normal, expectation\n",
    "from src.utils.env_creation import create_tree, create_init\n",
    "from src.utils.env_export import create_json\n",
    "from src.utils.data_classes import MouselabConfig, Action\n",
    "from simulation import run_simulation\n",
    "from src.policy.jas_voc_policy import JAS_voc_policy\n",
    "from src.policy.jas_policy import RandomPolicy, ExhaustivePolicy, RandomNPolicy\n",
    "import pandas as pd\n",
    "import seaborn as sns\n",
    "from matplotlib import pyplot as plt\n",
    "from src.utils.utils import sigma_to_tau\n",
    "import numpy as np\n",
    "from src.utils.env_export import format_payoff\n",
    "from src.utils.khalili_env import get_env\n",
    "\n",
    "\n",
    "sns.set(rc={'figure.figsize':(10,6)})\n",
    "sns.set(font_scale=1.5)\n",
    "sns.set_theme()\n",
    "\n",
    "%load_ext autoreload\n",
    "%autoreload 2"
   ]
  },
  {
   "cell_type": "code",
   "execution_count": 3,
   "metadata": {},
   "outputs": [],
   "source": [
    "df = pd.read_csv(\"./data/experiment_results/exp_5.csv\")"
   ]
  },
  {
   "cell_type": "code",
   "execution_count": 4,
   "metadata": {},
   "outputs": [
    {
     "data": {
      "text/plain": [
       "Index(['Unnamed: 0', 'Participant', 'Condition', 'TrialId', 'Score',\n",
       "       'ExpectedScore', 'NumClicks', 'Actions', 'Selection', 'Seed',\n",
       "       'ClickAgreement'],\n",
       "      dtype='object')"
      ]
     },
     "execution_count": 4,
     "metadata": {},
     "output_type": "execute_result"
    }
   ],
   "source": [
    "df.columns"
   ]
  },
  {
   "cell_type": "code",
   "execution_count": 5,
   "metadata": {},
   "outputs": [
    {
     "data": {
      "text/plain": [
       "Condition\n",
       "0    101.0\n",
       "1     98.0\n",
       "2     99.0\n",
       "Name: Participant, dtype: float64"
      ]
     },
     "execution_count": 5,
     "metadata": {},
     "output_type": "execute_result"
    }
   ],
   "source": [
    "df.groupby([\"Condition\"]).count()[\"Participant\"] / 10"
   ]
  },
  {
   "cell_type": "code",
   "execution_count": 6,
   "metadata": {},
   "outputs": [
    {
     "name": "stderr",
     "output_type": "stream",
     "text": [
      "C:\\Users\\lheindrich\\AppData\\Local\\Temp\\ipykernel_4256\\2390542040.py:1: FutureWarning: ['TrialId', 'Actions'] did not aggregate successfully. If any error is raised this will raise in a future version of pandas. Drop these columns/ops to avoid this warning.\n",
      "  df.groupby(\"Condition\").agg([\"mean\", \"std\"]).round(4)[[\"ExpectedScore\", \"ClickAgreement\", \"NumClicks\"]]\n"
     ]
    },
    {
     "data": {
      "text/html": [
       "<div>\n",
       "<style scoped>\n",
       "    .dataframe tbody tr th:only-of-type {\n",
       "        vertical-align: middle;\n",
       "    }\n",
       "\n",
       "    .dataframe tbody tr th {\n",
       "        vertical-align: top;\n",
       "    }\n",
       "\n",
       "    .dataframe thead tr th {\n",
       "        text-align: left;\n",
       "    }\n",
       "\n",
       "    .dataframe thead tr:last-of-type th {\n",
       "        text-align: right;\n",
       "    }\n",
       "</style>\n",
       "<table border=\"1\" class=\"dataframe\">\n",
       "  <thead>\n",
       "    <tr>\n",
       "      <th></th>\n",
       "      <th colspan=\"2\" halign=\"left\">ExpectedScore</th>\n",
       "      <th colspan=\"2\" halign=\"left\">ClickAgreement</th>\n",
       "      <th colspan=\"2\" halign=\"left\">NumClicks</th>\n",
       "    </tr>\n",
       "    <tr>\n",
       "      <th></th>\n",
       "      <th>mean</th>\n",
       "      <th>std</th>\n",
       "      <th>mean</th>\n",
       "      <th>std</th>\n",
       "      <th>mean</th>\n",
       "      <th>std</th>\n",
       "    </tr>\n",
       "    <tr>\n",
       "      <th>Condition</th>\n",
       "      <th></th>\n",
       "      <th></th>\n",
       "      <th></th>\n",
       "      <th></th>\n",
       "      <th></th>\n",
       "      <th></th>\n",
       "    </tr>\n",
       "  </thead>\n",
       "  <tbody>\n",
       "    <tr>\n",
       "      <th>0</th>\n",
       "      <td>3.5176</td>\n",
       "      <td>0.1973</td>\n",
       "      <td>0.2521</td>\n",
       "      <td>0.2777</td>\n",
       "      <td>3.5950</td>\n",
       "      <td>1.8660</td>\n",
       "    </tr>\n",
       "    <tr>\n",
       "      <th>1</th>\n",
       "      <td>3.5858</td>\n",
       "      <td>0.1903</td>\n",
       "      <td>0.4271</td>\n",
       "      <td>0.3211</td>\n",
       "      <td>4.0306</td>\n",
       "      <td>1.4204</td>\n",
       "    </tr>\n",
       "    <tr>\n",
       "      <th>2</th>\n",
       "      <td>3.5265</td>\n",
       "      <td>0.1922</td>\n",
       "      <td>0.2664</td>\n",
       "      <td>0.2547</td>\n",
       "      <td>3.8646</td>\n",
       "      <td>1.8177</td>\n",
       "    </tr>\n",
       "  </tbody>\n",
       "</table>\n",
       "</div>"
      ],
      "text/plain": [
       "          ExpectedScore         ClickAgreement         NumClicks        \n",
       "                   mean     std           mean     std      mean     std\n",
       "Condition                                                               \n",
       "0                3.5176  0.1973         0.2521  0.2777    3.5950  1.8660\n",
       "1                3.5858  0.1903         0.4271  0.3211    4.0306  1.4204\n",
       "2                3.5265  0.1922         0.2664  0.2547    3.8646  1.8177"
      ]
     },
     "execution_count": 6,
     "metadata": {},
     "output_type": "execute_result"
    }
   ],
   "source": [
    "df.groupby(\"Condition\").agg([\"mean\", \"std\"]).round(4)[[\"ExpectedScore\", \"ClickAgreement\", \"NumClicks\"]]"
   ]
  },
  {
   "cell_type": "code",
   "execution_count": 7,
   "metadata": {},
   "outputs": [
    {
     "data": {
      "text/plain": [
       "<AxesSubplot: xlabel='Condition', ylabel='ClickAgreement'>"
      ]
     },
     "execution_count": 7,
     "metadata": {},
     "output_type": "execute_result"
    },
    {
     "data": {
      "image/png": "[encoded data removed]",
      "text/plain": [
       "<Figure size 1000x600 with 1 Axes>"
      ]
     },
     "metadata": {},
     "output_type": "display_data"
    }
   ],
   "source": [
    "sns.barplot(df, y=\"ClickAgreement\", x=\"Condition\")"
   ]
  },
  {
   "cell_type": "code",
   "execution_count": 8,
   "metadata": {},
   "outputs": [
    {
     "data": {
      "text/plain": [
       "(3.3, 3.7)"
      ]
     },
     "execution_count": 8,
     "metadata": {},
     "output_type": "execute_result"
    },
    {
     "data": {
      "image/png": "[encoded data removed]",
      "text/plain": [
       "<Figure size 1000x600 with 1 Axes>"
      ]
     },
     "metadata": {},
     "output_type": "display_data"
    }
   ],
   "source": [
    "g = sns.barplot(df, y=\"ExpectedScore\", x=\"Condition\")\n",
    "g.set_ylim(3.3, 3.7)"
   ]
  },
  {
   "cell_type": "code",
   "execution_count": 9,
   "metadata": {},
   "outputs": [
    {
     "data": {
      "text/html": [
       "<div>\n",
       "<style scoped>\n",
       "    .dataframe tbody tr th:only-of-type {\n",
       "        vertical-align: middle;\n",
       "    }\n",
       "\n",
       "    .dataframe tbody tr th {\n",
       "        vertical-align: top;\n",
       "    }\n",
       "\n",
       "    .dataframe thead th {\n",
       "        text-align: right;\n",
       "    }\n",
       "</style>\n",
       "<table border=\"1\" class=\"dataframe\">\n",
       "  <thead>\n",
       "    <tr style=\"text-align: right;\">\n",
       "      <th></th>\n",
       "      <th>Unnamed: 0</th>\n",
       "      <th>reward</th>\n",
       "      <th>actions</th>\n",
       "      <th>runtime</th>\n",
       "      <th>true_reward</th>\n",
       "      <th>expected_reward</th>\n",
       "    </tr>\n",
       "    <tr>\n",
       "      <th>seed</th>\n",
       "      <th></th>\n",
       "      <th></th>\n",
       "      <th></th>\n",
       "      <th></th>\n",
       "      <th></th>\n",
       "      <th></th>\n",
       "    </tr>\n",
       "  </thead>\n",
       "  <tbody>\n",
       "    <tr>\n",
       "      <th>12</th>\n",
       "      <td>0</td>\n",
       "      <td>3.509576</td>\n",
       "      <td>4.9222</td>\n",
       "      <td>0.001303</td>\n",
       "      <td>3.894847</td>\n",
       "      <td>3.509576</td>\n",
       "    </tr>\n",
       "    <tr>\n",
       "      <th>13</th>\n",
       "      <td>1</td>\n",
       "      <td>3.527022</td>\n",
       "      <td>4.9086</td>\n",
       "      <td>0.001295</td>\n",
       "      <td>3.921715</td>\n",
       "      <td>3.527022</td>\n",
       "    </tr>\n",
       "    <tr>\n",
       "      <th>14</th>\n",
       "      <td>2</td>\n",
       "      <td>3.498825</td>\n",
       "      <td>4.9246</td>\n",
       "      <td>0.001308</td>\n",
       "      <td>3.610339</td>\n",
       "      <td>3.498825</td>\n",
       "    </tr>\n",
       "    <tr>\n",
       "      <th>15</th>\n",
       "      <td>3</td>\n",
       "      <td>3.510792</td>\n",
       "      <td>4.9127</td>\n",
       "      <td>0.001473</td>\n",
       "      <td>3.574298</td>\n",
       "      <td>3.510792</td>\n",
       "    </tr>\n",
       "    <tr>\n",
       "      <th>16</th>\n",
       "      <td>4</td>\n",
       "      <td>3.499757</td>\n",
       "      <td>4.9218</td>\n",
       "      <td>0.001420</td>\n",
       "      <td>3.222883</td>\n",
       "      <td>3.499757</td>\n",
       "    </tr>\n",
       "    <tr>\n",
       "      <th>17</th>\n",
       "      <td>5</td>\n",
       "      <td>3.572623</td>\n",
       "      <td>4.9146</td>\n",
       "      <td>0.001420</td>\n",
       "      <td>4.224300</td>\n",
       "      <td>3.572623</td>\n",
       "    </tr>\n",
       "    <tr>\n",
       "      <th>18</th>\n",
       "      <td>6</td>\n",
       "      <td>3.544299</td>\n",
       "      <td>4.9184</td>\n",
       "      <td>0.001367</td>\n",
       "      <td>3.676118</td>\n",
       "      <td>3.544299</td>\n",
       "    </tr>\n",
       "    <tr>\n",
       "      <th>19</th>\n",
       "      <td>7</td>\n",
       "      <td>3.537451</td>\n",
       "      <td>4.9148</td>\n",
       "      <td>0.001414</td>\n",
       "      <td>3.952736</td>\n",
       "      <td>3.537451</td>\n",
       "    </tr>\n",
       "    <tr>\n",
       "      <th>20</th>\n",
       "      <td>8</td>\n",
       "      <td>3.517815</td>\n",
       "      <td>4.9179</td>\n",
       "      <td>0.001444</td>\n",
       "      <td>3.435968</td>\n",
       "      <td>3.517815</td>\n",
       "    </tr>\n",
       "    <tr>\n",
       "      <th>21</th>\n",
       "      <td>9</td>\n",
       "      <td>3.502410</td>\n",
       "      <td>4.9111</td>\n",
       "      <td>0.001369</td>\n",
       "      <td>3.539911</td>\n",
       "      <td>3.502410</td>\n",
       "    </tr>\n",
       "  </tbody>\n",
       "</table>\n",
       "</div>"
      ],
      "text/plain": [
       "      Unnamed: 0    reward  actions   runtime  true_reward  expected_reward\n",
       "seed                                                                       \n",
       "12             0  3.509576   4.9222  0.001303     3.894847         3.509576\n",
       "13             1  3.527022   4.9086  0.001295     3.921715         3.527022\n",
       "14             2  3.498825   4.9246  0.001308     3.610339         3.498825\n",
       "15             3  3.510792   4.9127  0.001473     3.574298         3.510792\n",
       "16             4  3.499757   4.9218  0.001420     3.222883         3.499757\n",
       "17             5  3.572623   4.9146  0.001420     4.224300         3.572623\n",
       "18             6  3.544299   4.9184  0.001367     3.676118         3.544299\n",
       "19             7  3.537451   4.9148  0.001414     3.952736         3.537451\n",
       "20             8  3.517815   4.9179  0.001444     3.435968         3.517815\n",
       "21             9  3.502410   4.9111  0.001369     3.539911         3.502410"
      ]
     },
     "execution_count": 9,
     "metadata": {},
     "output_type": "execute_result"
    }
   ],
   "source": [
    "baseline_df = pd.read_csv(\"./data/experiment_results/random_baseline.csv\")\n",
    "baseline_df = baseline_df.astype({'seed':'int'}).set_index(\"seed\")\n",
    "baseline_df"
   ]
  },
  {
   "cell_type": "code",
   "execution_count": 10,
   "metadata": {},
   "outputs": [
    {
     "name": "stdout",
     "output_type": "stream",
     "text": [
      "mean    0.106879\n",
      "std     1.000000\n",
      "Name: NormalizedReward, dtype: float64\n"
     ]
    },
    {
     "data": {
      "text/plain": [
       "Text(0.5, 1.0, '(participant_scores - mean(baseline_scores)) / std(participant_scores)')"
      ]
     },
     "execution_count": 10,
     "metadata": {},
     "output_type": "execute_result"
    },
    {
     "data": {
      "image/png": "[encoded data removed]",
      "text/plain": [
       "<Figure size 1000x600 with 1 Axes>"
      ]
     },
     "metadata": {},
     "output_type": "display_data"
    }
   ],
   "source": [
    "mean = baseline_df[\"reward\"].mean()\n",
    "std = df[\"ExpectedScore\"].std()\n",
    "df[\"NormalizedReward\"] = (df[\"ExpectedScore\"] - mean) / std\n",
    "print(df[\"NormalizedReward\"].agg([\"mean\", \"std\"]))\n",
    "g = sns.barplot(df, y=\"NormalizedReward\", x=\"Condition\")\n",
    "g.set_title(\"(participant_scores - mean(baseline_scores)) / std(participant_scores)\")"
   ]
  },
  {
   "cell_type": "code",
   "execution_count": 13,
   "metadata": {},
   "outputs": [
    {
     "data": {
      "text/html": [
       "<div>\n",
       "<style scoped>\n",
       "    .dataframe tbody tr th:only-of-type {\n",
       "        vertical-align: middle;\n",
       "    }\n",
       "\n",
       "    .dataframe tbody tr th {\n",
       "        vertical-align: top;\n",
       "    }\n",
       "\n",
       "    .dataframe thead tr th {\n",
       "        text-align: left;\n",
       "    }\n",
       "\n",
       "    .dataframe thead tr:last-of-type th {\n",
       "        text-align: right;\n",
       "    }\n",
       "</style>\n",
       "<table border=\"1\" class=\"dataframe\">\n",
       "  <thead>\n",
       "    <tr>\n",
       "      <th></th>\n",
       "      <th colspan=\"2\" halign=\"left\">NormalizedReward</th>\n",
       "      <th colspan=\"2\" halign=\"left\">ClickAgreement</th>\n",
       "    </tr>\n",
       "    <tr>\n",
       "      <th></th>\n",
       "      <th>mean</th>\n",
       "      <th>std</th>\n",
       "      <th>mean</th>\n",
       "      <th>std</th>\n",
       "    </tr>\n",
       "    <tr>\n",
       "      <th>Condition</th>\n",
       "      <th></th>\n",
       "      <th></th>\n",
       "      <th></th>\n",
       "      <th></th>\n",
       "    </tr>\n",
       "  </thead>\n",
       "  <tbody>\n",
       "    <tr>\n",
       "      <th>0</th>\n",
       "      <td>-0.0227</td>\n",
       "      <td>1.0087</td>\n",
       "      <td>0.2521</td>\n",
       "      <td>0.2777</td>\n",
       "    </tr>\n",
       "    <tr>\n",
       "      <th>1</th>\n",
       "      <td>0.3256</td>\n",
       "      <td>0.9727</td>\n",
       "      <td>0.4271</td>\n",
       "      <td>0.3211</td>\n",
       "    </tr>\n",
       "    <tr>\n",
       "      <th>2</th>\n",
       "      <td>0.0225</td>\n",
       "      <td>0.9827</td>\n",
       "      <td>0.2664</td>\n",
       "      <td>0.2547</td>\n",
       "    </tr>\n",
       "  </tbody>\n",
       "</table>\n",
       "</div>"
      ],
      "text/plain": [
       "          NormalizedReward         ClickAgreement        \n",
       "                      mean     std           mean     std\n",
       "Condition                                                \n",
       "0                  -0.0227  1.0087         0.2521  0.2777\n",
       "1                   0.3256  0.9727         0.4271  0.3211\n",
       "2                   0.0225  0.9827         0.2664  0.2547"
      ]
     },
     "execution_count": 13,
     "metadata": {},
     "output_type": "execute_result"
    }
   ],
   "source": [
    "df[[\"Condition\", \"NormalizedReward\", \"ClickAgreement\"]].groupby(\"Condition\").agg([\"mean\", \"std\"]).round(4)"
   ]
  },
  {
   "cell_type": "code",
   "execution_count": 15,
   "metadata": {},
   "outputs": [
    {
     "data": {
      "text/html": [
       "<div>\n",
       "<style scoped>\n",
       "    .dataframe tbody tr th:only-of-type {\n",
       "        vertical-align: middle;\n",
       "    }\n",
       "\n",
       "    .dataframe tbody tr th {\n",
       "        vertical-align: top;\n",
       "    }\n",
       "\n",
       "    .dataframe thead tr th {\n",
       "        text-align: left;\n",
       "    }\n",
       "\n",
       "    .dataframe thead tr:last-of-type th {\n",
       "        text-align: right;\n",
       "    }\n",
       "</style>\n",
       "<table border=\"1\" class=\"dataframe\">\n",
       "  <thead>\n",
       "    <tr>\n",
       "      <th></th>\n",
       "      <th colspan=\"3\" halign=\"left\">NormalizedReward</th>\n",
       "      <th>ci95</th>\n",
       "    </tr>\n",
       "    <tr>\n",
       "      <th></th>\n",
       "      <th>mean</th>\n",
       "      <th>count</th>\n",
       "      <th>std</th>\n",
       "      <th></th>\n",
       "    </tr>\n",
       "    <tr>\n",
       "      <th>Condition</th>\n",
       "      <th></th>\n",
       "      <th></th>\n",
       "      <th></th>\n",
       "      <th></th>\n",
       "    </tr>\n",
       "  </thead>\n",
       "  <tbody>\n",
       "    <tr>\n",
       "      <th>0</th>\n",
       "      <td>-0.0227</td>\n",
       "      <td>1010</td>\n",
       "      <td>1.0087</td>\n",
       "      <td>0.0622</td>\n",
       "    </tr>\n",
       "    <tr>\n",
       "      <th>1</th>\n",
       "      <td>0.3256</td>\n",
       "      <td>980</td>\n",
       "      <td>0.9727</td>\n",
       "      <td>0.0609</td>\n",
       "    </tr>\n",
       "    <tr>\n",
       "      <th>2</th>\n",
       "      <td>0.0225</td>\n",
       "      <td>990</td>\n",
       "      <td>0.9827</td>\n",
       "      <td>0.0612</td>\n",
       "    </tr>\n",
       "  </tbody>\n",
       "</table>\n",
       "</div>"
      ],
      "text/plain": [
       "          NormalizedReward                  ci95\n",
       "                      mean count     std        \n",
       "Condition                                       \n",
       "0                  -0.0227  1010  1.0087  0.0622\n",
       "1                   0.3256   980  0.9727  0.0609\n",
       "2                   0.0225   990  0.9827  0.0612"
      ]
     },
     "execution_count": 15,
     "metadata": {},
     "output_type": "execute_result"
    }
   ],
   "source": [
    "def ci(column):\n",
    "    stats = df[[\"Condition\", column]].groupby(\"Condition\").agg([\"mean\", \"count\", \"std\"])\n",
    "    ci95 = []\n",
    "\n",
    "    for i in stats.index:\n",
    "        m, c, s = stats.loc[i]\n",
    "        ci95.append(1.96*s/math.sqrt(c))\n",
    "    \n",
    "    stats['ci95'] = ci95\n",
    "    return stats.round(4)\n",
    "\n",
    "ci(\"NormalizedReward\")"
   ]
  },
  {
   "cell_type": "code",
   "execution_count": 16,
   "metadata": {},
   "outputs": [
    {
     "data": {
      "text/html": [
       "<div>\n",
       "<style scoped>\n",
       "    .dataframe tbody tr th:only-of-type {\n",
       "        vertical-align: middle;\n",
       "    }\n",
       "\n",
       "    .dataframe tbody tr th {\n",
       "        vertical-align: top;\n",
       "    }\n",
       "\n",
       "    .dataframe thead tr th {\n",
       "        text-align: left;\n",
       "    }\n",
       "\n",
       "    .dataframe thead tr:last-of-type th {\n",
       "        text-align: right;\n",
       "    }\n",
       "</style>\n",
       "<table border=\"1\" class=\"dataframe\">\n",
       "  <thead>\n",
       "    <tr>\n",
       "      <th></th>\n",
       "      <th colspan=\"3\" halign=\"left\">ClickAgreement</th>\n",
       "      <th>ci95</th>\n",
       "    </tr>\n",
       "    <tr>\n",
       "      <th></th>\n",
       "      <th>mean</th>\n",
       "      <th>count</th>\n",
       "      <th>std</th>\n",
       "      <th></th>\n",
       "    </tr>\n",
       "    <tr>\n",
       "      <th>Condition</th>\n",
       "      <th></th>\n",
       "      <th></th>\n",
       "      <th></th>\n",
       "      <th></th>\n",
       "    </tr>\n",
       "  </thead>\n",
       "  <tbody>\n",
       "    <tr>\n",
       "      <th>0</th>\n",
       "      <td>0.2521</td>\n",
       "      <td>1010</td>\n",
       "      <td>0.2777</td>\n",
       "      <td>0.0171</td>\n",
       "    </tr>\n",
       "    <tr>\n",
       "      <th>1</th>\n",
       "      <td>0.4271</td>\n",
       "      <td>980</td>\n",
       "      <td>0.3211</td>\n",
       "      <td>0.0201</td>\n",
       "    </tr>\n",
       "    <tr>\n",
       "      <th>2</th>\n",
       "      <td>0.2664</td>\n",
       "      <td>990</td>\n",
       "      <td>0.2547</td>\n",
       "      <td>0.0159</td>\n",
       "    </tr>\n",
       "  </tbody>\n",
       "</table>\n",
       "</div>"
      ],
      "text/plain": [
       "          ClickAgreement                  ci95\n",
       "                    mean count     std        \n",
       "Condition                                     \n",
       "0                 0.2521  1010  0.2777  0.0171\n",
       "1                 0.4271   980  0.3211  0.0201\n",
       "2                 0.2664   990  0.2547  0.0159"
      ]
     },
     "execution_count": 16,
     "metadata": {},
     "output_type": "execute_result"
    }
   ],
   "source": [
    "ci(\"ClickAgreement\")"
   ]
  },
  {
   "cell_type": "code",
   "execution_count": 17,
   "metadata": {},
   "outputs": [
    {
     "name": "stdout",
     "output_type": "stream",
     "text": [
      "Cohen's d between choice tutor and no tutor: 0.351383844014203\n",
      "Cohen's d between choice tutor and dummy tutor: 0.3099789489468115\n",
      "Cohen's d between no tutor and dummy tutor: -0.04536646854659123\n"
     ]
    }
   ],
   "source": [
    "def cohend(d1, d2):\n",
    "    # https://machinelearningmastery.com/effect-size-measures-in-python/\n",
    "    n1, n2 = len(d1), len(d2)\n",
    "    s1, s2 = np.var(d1, ddof=1), np.var(d2, ddof=1)\n",
    "    s = np.sqrt(((n1 - 1) * s1 + (n2 - 1) * s2) / (n1 + n2 - 2))\n",
    "    u1, u2 = np.mean(d1), np.mean(d2)\n",
    "    return (u1 - u2) / s\n",
    "\n",
    "def effect_size(column):\n",
    "    no_tutor = df[df[\"Condition\"]==0][column]\n",
    "    choice_tutor = df[df[\"Condition\"]==1][column]\n",
    "    dummy_tutor = df[df[\"Condition\"]==2][column]\n",
    "\n",
    "    print(\"Cohen's d between choice tutor and no tutor:\", cohend(choice_tutor, no_tutor))\n",
    "    print(\"Cohen's d between choice tutor and dummy tutor:\", cohend(choice_tutor, dummy_tutor))\n",
    "    print(\"Cohen's d between no tutor and dummy tutor:\", cohend(no_tutor, dummy_tutor))\n",
    "\n",
    "effect_size(\"ExpectedScore\")"
   ]
  },
  {
   "cell_type": "code",
   "execution_count": 18,
   "metadata": {},
   "outputs": [
    {
     "name": "stdout",
     "output_type": "stream",
     "text": [
      "Cohen's d between choice tutor and no tutor: 0.5838100844483174\n",
      "Cohen's d between choice tutor and dummy tutor: 0.5547391888972275\n",
      "Cohen's d between no tutor and dummy tutor: -0.0539016017253772\n"
     ]
    }
   ],
   "source": [
    "effect_size(\"ClickAgreement\")"
   ]
  },
  {
   "cell_type": "code",
   "execution_count": 19,
   "metadata": {},
   "outputs": [
    {
     "name": "stderr",
     "output_type": "stream",
     "text": [
      "100%|██████████| 10/10 [00:09<00:00,  1.04it/s]\n"
     ]
    },
    {
     "data": {
      "text/html": [
       "<div>\n",
       "<style scoped>\n",
       "    .dataframe tbody tr th:only-of-type {\n",
       "        vertical-align: middle;\n",
       "    }\n",
       "\n",
       "    .dataframe tbody tr th {\n",
       "        vertical-align: top;\n",
       "    }\n",
       "\n",
       "    .dataframe thead th {\n",
       "        text-align: right;\n",
       "    }\n",
       "</style>\n",
       "<table border=\"1\" class=\"dataframe\">\n",
       "  <thead>\n",
       "    <tr style=\"text-align: right;\">\n",
       "      <th></th>\n",
       "      <th>reward</th>\n",
       "      <th>actions</th>\n",
       "      <th>seed</th>\n",
       "      <th>runtime</th>\n",
       "      <th>true_reward</th>\n",
       "      <th>expected_reward</th>\n",
       "    </tr>\n",
       "  </thead>\n",
       "  <tbody>\n",
       "    <tr>\n",
       "      <th>0</th>\n",
       "      <td>4.330025</td>\n",
       "      <td>5</td>\n",
       "      <td>12</td>\n",
       "      <td>1.109375</td>\n",
       "      <td>4.330025</td>\n",
       "      <td>3.716219</td>\n",
       "    </tr>\n",
       "    <tr>\n",
       "      <th>1</th>\n",
       "      <td>4.498135</td>\n",
       "      <td>2</td>\n",
       "      <td>13</td>\n",
       "      <td>0.671875</td>\n",
       "      <td>4.498135</td>\n",
       "      <td>3.823586</td>\n",
       "    </tr>\n",
       "    <tr>\n",
       "      <th>2</th>\n",
       "      <td>4.102660</td>\n",
       "      <td>5</td>\n",
       "      <td>14</td>\n",
       "      <td>1.109375</td>\n",
       "      <td>4.102660</td>\n",
       "      <td>3.716219</td>\n",
       "    </tr>\n",
       "    <tr>\n",
       "      <th>3</th>\n",
       "      <td>4.280379</td>\n",
       "      <td>3</td>\n",
       "      <td>15</td>\n",
       "      <td>0.921875</td>\n",
       "      <td>4.280379</td>\n",
       "      <td>3.821586</td>\n",
       "    </tr>\n",
       "    <tr>\n",
       "      <th>4</th>\n",
       "      <td>3.518098</td>\n",
       "      <td>5</td>\n",
       "      <td>16</td>\n",
       "      <td>1.062500</td>\n",
       "      <td>3.518098</td>\n",
       "      <td>3.499094</td>\n",
       "    </tr>\n",
       "    <tr>\n",
       "      <th>5</th>\n",
       "      <td>5.007722</td>\n",
       "      <td>5</td>\n",
       "      <td>17</td>\n",
       "      <td>1.046875</td>\n",
       "      <td>5.007722</td>\n",
       "      <td>3.817586</td>\n",
       "    </tr>\n",
       "    <tr>\n",
       "      <th>6</th>\n",
       "      <td>3.775033</td>\n",
       "      <td>3</td>\n",
       "      <td>18</td>\n",
       "      <td>0.843750</td>\n",
       "      <td>3.775033</td>\n",
       "      <td>3.821586</td>\n",
       "    </tr>\n",
       "    <tr>\n",
       "      <th>7</th>\n",
       "      <td>4.179104</td>\n",
       "      <td>4</td>\n",
       "      <td>19</td>\n",
       "      <td>1.031250</td>\n",
       "      <td>4.179104</td>\n",
       "      <td>3.819586</td>\n",
       "    </tr>\n",
       "    <tr>\n",
       "      <th>8</th>\n",
       "      <td>3.922634</td>\n",
       "      <td>2</td>\n",
       "      <td>20</td>\n",
       "      <td>0.640625</td>\n",
       "      <td>3.922634</td>\n",
       "      <td>3.823586</td>\n",
       "    </tr>\n",
       "    <tr>\n",
       "      <th>9</th>\n",
       "      <td>3.673830</td>\n",
       "      <td>5</td>\n",
       "      <td>21</td>\n",
       "      <td>1.109375</td>\n",
       "      <td>3.673830</td>\n",
       "      <td>3.658340</td>\n",
       "    </tr>\n",
       "  </tbody>\n",
       "</table>\n",
       "</div>"
      ],
      "text/plain": [
       "     reward  actions  seed   runtime  true_reward  expected_reward\n",
       "0  4.330025        5    12  1.109375     4.330025         3.716219\n",
       "1  4.498135        2    13  0.671875     4.498135         3.823586\n",
       "2  4.102660        5    14  1.109375     4.102660         3.716219\n",
       "3  4.280379        3    15  0.921875     4.280379         3.821586\n",
       "4  3.518098        5    16  1.062500     3.518098         3.499094\n",
       "5  5.007722        5    17  1.046875     5.007722         3.817586\n",
       "6  3.775033        3    18  0.843750     3.775033         3.821586\n",
       "7  4.179104        4    19  1.031250     4.179104         3.819586\n",
       "8  3.922634        2    20  0.640625     3.922634         3.823586\n",
       "9  3.673830        5    21  1.109375     3.673830         3.658340"
      ]
     },
     "execution_count": 19,
     "metadata": {},
     "output_type": "execute_result"
    }
   ],
   "source": [
    "# MGPS reward\n",
    "from simulation import run_simulation\n",
    "env, config = get_env(5, term_belief=False)\n",
    "voc_policy = JAS_voc_policy(discrete_observations=True, cost_weight=0.5798921379230035)\n",
    "\n",
    "mgps_res, mgps_actions = run_simulation(env, voc_policy, n=10, start_seed=12)\n",
    "mgps_res\n"
   ]
  },
  {
   "cell_type": "code",
   "execution_count": 20,
   "metadata": {},
   "outputs": [
    {
     "name": "stdout",
     "output_type": "stream",
     "text": [
      "mean    1.174134\n",
      "std     0.549778\n",
      "Name: NormalizedReward, dtype: float64\n",
      "0.3407559011074728\n"
     ]
    }
   ],
   "source": [
    "mean = baseline_df[\"reward\"].mean()\n",
    "std = df[\"ExpectedScore\"].std()\n",
    "mgps_res[\"NormalizedReward\"] = (mgps_res[\"expected_reward\"] - mean) / std\n",
    "print(mgps_res[\"NormalizedReward\"].agg([\"mean\", \"std\"]))\n",
    "print(1.96*mgps_res[\"NormalizedReward\"].std()/math.sqrt(mgps_res[\"NormalizedReward\"].count()))"
   ]
  },
  {
   "cell_type": "code",
   "execution_count": 21,
   "metadata": {},
   "outputs": [
    {
     "data": {
      "text/html": [
       "<div>\n",
       "<style scoped>\n",
       "    .dataframe tbody tr th:only-of-type {\n",
       "        vertical-align: middle;\n",
       "    }\n",
       "\n",
       "    .dataframe tbody tr th {\n",
       "        vertical-align: top;\n",
       "    }\n",
       "\n",
       "    .dataframe thead th {\n",
       "        text-align: right;\n",
       "    }\n",
       "</style>\n",
       "<table border=\"1\" class=\"dataframe\">\n",
       "  <thead>\n",
       "    <tr style=\"text-align: right;\">\n",
       "      <th></th>\n",
       "      <th>reward</th>\n",
       "      <th>actions</th>\n",
       "      <th>seed</th>\n",
       "      <th>runtime</th>\n",
       "      <th>true_reward</th>\n",
       "      <th>expected_reward</th>\n",
       "      <th>NormalizedReward</th>\n",
       "    </tr>\n",
       "  </thead>\n",
       "  <tbody>\n",
       "    <tr>\n",
       "      <th>0</th>\n",
       "      <td>4.330025</td>\n",
       "      <td>5</td>\n",
       "      <td>12</td>\n",
       "      <td>1.109375</td>\n",
       "      <td>4.330025</td>\n",
       "      <td>3.716219</td>\n",
       "      <td>0.992555</td>\n",
       "    </tr>\n",
       "    <tr>\n",
       "      <th>1</th>\n",
       "      <td>4.498135</td>\n",
       "      <td>2</td>\n",
       "      <td>13</td>\n",
       "      <td>0.671875</td>\n",
       "      <td>4.498135</td>\n",
       "      <td>3.823586</td>\n",
       "      <td>1.541417</td>\n",
       "    </tr>\n",
       "    <tr>\n",
       "      <th>2</th>\n",
       "      <td>4.102660</td>\n",
       "      <td>5</td>\n",
       "      <td>14</td>\n",
       "      <td>1.109375</td>\n",
       "      <td>4.102660</td>\n",
       "      <td>3.716219</td>\n",
       "      <td>0.992555</td>\n",
       "    </tr>\n",
       "    <tr>\n",
       "      <th>3</th>\n",
       "      <td>4.280379</td>\n",
       "      <td>3</td>\n",
       "      <td>15</td>\n",
       "      <td>0.921875</td>\n",
       "      <td>4.280379</td>\n",
       "      <td>3.821586</td>\n",
       "      <td>1.531193</td>\n",
       "    </tr>\n",
       "    <tr>\n",
       "      <th>4</th>\n",
       "      <td>3.518098</td>\n",
       "      <td>5</td>\n",
       "      <td>16</td>\n",
       "      <td>1.062500</td>\n",
       "      <td>3.518098</td>\n",
       "      <td>3.499094</td>\n",
       "      <td>-0.117385</td>\n",
       "    </tr>\n",
       "    <tr>\n",
       "      <th>5</th>\n",
       "      <td>5.007722</td>\n",
       "      <td>5</td>\n",
       "      <td>17</td>\n",
       "      <td>1.046875</td>\n",
       "      <td>5.007722</td>\n",
       "      <td>3.817586</td>\n",
       "      <td>1.510745</td>\n",
       "    </tr>\n",
       "    <tr>\n",
       "      <th>6</th>\n",
       "      <td>3.775033</td>\n",
       "      <td>3</td>\n",
       "      <td>18</td>\n",
       "      <td>0.843750</td>\n",
       "      <td>3.775033</td>\n",
       "      <td>3.821586</td>\n",
       "      <td>1.531193</td>\n",
       "    </tr>\n",
       "    <tr>\n",
       "      <th>7</th>\n",
       "      <td>4.179104</td>\n",
       "      <td>4</td>\n",
       "      <td>19</td>\n",
       "      <td>1.031250</td>\n",
       "      <td>4.179104</td>\n",
       "      <td>3.819586</td>\n",
       "      <td>1.520969</td>\n",
       "    </tr>\n",
       "    <tr>\n",
       "      <th>8</th>\n",
       "      <td>3.922634</td>\n",
       "      <td>2</td>\n",
       "      <td>20</td>\n",
       "      <td>0.640625</td>\n",
       "      <td>3.922634</td>\n",
       "      <td>3.823586</td>\n",
       "      <td>1.541417</td>\n",
       "    </tr>\n",
       "    <tr>\n",
       "      <th>9</th>\n",
       "      <td>3.673830</td>\n",
       "      <td>5</td>\n",
       "      <td>21</td>\n",
       "      <td>1.109375</td>\n",
       "      <td>3.673830</td>\n",
       "      <td>3.658340</td>\n",
       "      <td>0.696680</td>\n",
       "    </tr>\n",
       "  </tbody>\n",
       "</table>\n",
       "</div>"
      ],
      "text/plain": [
       "     reward  actions  seed   runtime  true_reward  expected_reward  \\\n",
       "0  4.330025        5    12  1.109375     4.330025         3.716219   \n",
       "1  4.498135        2    13  0.671875     4.498135         3.823586   \n",
       "2  4.102660        5    14  1.109375     4.102660         3.716219   \n",
       "3  4.280379        3    15  0.921875     4.280379         3.821586   \n",
       "4  3.518098        5    16  1.062500     3.518098         3.499094   \n",
       "5  5.007722        5    17  1.046875     5.007722         3.817586   \n",
       "6  3.775033        3    18  0.843750     3.775033         3.821586   \n",
       "7  4.179104        4    19  1.031250     4.179104         3.819586   \n",
       "8  3.922634        2    20  0.640625     3.922634         3.823586   \n",
       "9  3.673830        5    21  1.109375     3.673830         3.658340   \n",
       "\n",
       "   NormalizedReward  \n",
       "0          0.992555  \n",
       "1          1.541417  \n",
       "2          0.992555  \n",
       "3          1.531193  \n",
       "4         -0.117385  \n",
       "5          1.510745  \n",
       "6          1.531193  \n",
       "7          1.520969  \n",
       "8          1.541417  \n",
       "9          0.696680  "
      ]
     },
     "execution_count": 21,
     "metadata": {},
     "output_type": "execute_result"
    }
   ],
   "source": [
    "mgps_res"
   ]
  },
  {
   "cell_type": "code",
   "execution_count": 33,
   "metadata": {},
   "outputs": [
    {
     "name": "stdout",
     "output_type": "stream",
     "text": [
      "NormalizedReward    0.22449\n",
      "dtype: float64\n"
     ]
    }
   ],
   "source": [
    "import warnings\n",
    "warnings.simplefilter(action='ignore', category=FutureWarning)\n",
    "mgps_tutor_mean = df[[\"Participant\", \"NormalizedReward\"]][df[\"Condition\"]==1].groupby(\"Participant\").mean()\n",
    "print(np.mean(mgps_tutor_mean > 0.9))"
   ]
  },
  {
   "cell_type": "code",
   "execution_count": 34,
   "metadata": {},
   "outputs": [
    {
     "data": {
      "text/plain": [
       "<AxesSubplot: ylabel='Percent'>"
      ]
     },
     "execution_count": 34,
     "metadata": {},
     "output_type": "execute_result"
    },
    {
     "data": {
      "image/png": "[encoded data removed]",
      "text/plain": [
       "<Figure size 1000x600 with 1 Axes>"
      ]
     },
     "metadata": {},
     "output_type": "display_data"
    }
   ],
   "source": [
    "sns.histplot(mgps_tutor_mean, stat=\"percent\")"
   ]
  },
  {
   "cell_type": "code",
   "execution_count": null,
   "metadata": {},
   "outputs": [],
   "source": []
  }
 ],
 "metadata": {
  "kernelspec": {
   "display_name": "jas",
   "language": "python",
   "name": "python3"
  },
  "language_info": {
   "codemirror_mode": {
    "name": "ipython",
    "version": 3
   },
   "file_extension": ".py",
   "mimetype": "text/x-python",
   "name": "python",
   "nbconvert_exporter": "python",
   "pygments_lexer": "ipython3",
   "version": "3.10.6"
  },
  "orig_nbformat": 4
 },
 "nbformat": 4,
 "nbformat_minor": 2
}
