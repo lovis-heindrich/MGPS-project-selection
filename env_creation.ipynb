{
 "cells": [
  {
   "cell_type": "code",
   "execution_count": 1,
   "metadata": {},
   "outputs": [],
   "source": [
    "from src.utils.mouselab_JAS import MouselabJas\n",
    "from src.utils.distributions import Normal\n",
    "\n",
    "%load_ext autoreload\n",
    "%autoreload 2"
   ]
  },
  {
   "cell_type": "code",
   "execution_count": 1,
   "metadata": {},
   "outputs": [
    {
     "ename": "NameError",
     "evalue": "name 'Normal' is not defined",
     "output_type": "error",
     "traceback": [
      "\u001b[1;31m---------------------------------------------------------------------------\u001b[0m",
      "\u001b[1;31mNameError\u001b[0m                                 Traceback (most recent call last)",
      "Cell \u001b[1;32mIn [1], line 2\u001b[0m\n\u001b[0;32m      1\u001b[0m tree \u001b[38;5;241m=\u001b[39m [[\u001b[38;5;241m1\u001b[39m, \u001b[38;5;241m2\u001b[39m], [], []]\n\u001b[1;32m----> 2\u001b[0m init \u001b[38;5;241m=\u001b[39m [\u001b[43mNormal\u001b[49m(\u001b[38;5;241m0\u001b[39m, \u001b[38;5;241m1\u001b[39m), Normal(\u001b[38;5;241m0\u001b[39m, \u001b[38;5;241m100\u001b[39m), Normal(\u001b[38;5;241m0\u001b[39m, \u001b[38;5;241m100\u001b[39m)]\n\u001b[0;32m      4\u001b[0m expert_costs \u001b[38;5;241m=\u001b[39m [\u001b[38;5;241m1\u001b[39m, \u001b[38;5;241m0.5\u001b[39m, \u001b[38;5;241m0.1\u001b[39m]\n\u001b[0;32m      5\u001b[0m expert_taus \u001b[38;5;241m=\u001b[39m [\u001b[38;5;241m1\u001b[39m, \u001b[38;5;241m0.1\u001b[39m, \u001b[38;5;241m0.005\u001b[39m]\n",
      "\u001b[1;31mNameError\u001b[0m: name 'Normal' is not defined"
     ]
    }
   ],
   "source": [
    "tree = [[1, 2], [], []]\n",
    "init = [Normal(0, 1), Normal(0, 100), Normal(0, 100)]\n",
    "\n",
    "expert_costs = [1, 0.5, 0.1]\n",
    "expert_taus = [1, 0.1, 0.005]"
   ]
  },
  {
   "cell_type": "code",
   "execution_count": null,
   "metadata": {},
   "outputs": [
    {
     "name": "stdout",
     "output_type": "stream",
     "text": [
      "[ 1.          3.16227766 14.14213562]\n",
      "[  0.         197.12073913  24.0930622 ]\n",
      "[[197.11462563  24.45476824]\n",
      " [195.05518919  25.48600115]\n",
      " [192.33918857  23.08510026]]\n"
     ]
    }
   ],
   "source": [
    "env = MouselabJas(tree, init, expert_costs=expert_costs, expert_taus=expert_taus)\n",
    "print(env.expert_sigma)\n",
    "print(env.ground_truth)\n",
    "print(env.expert_truths)"
   ]
  },
  {
   "cell_type": "code",
   "execution_count": null,
   "metadata": {},
   "outputs": [],
   "source": []
  },
  {
   "cell_type": "code",
   "execution_count": null,
   "metadata": {},
   "outputs": [
    {
     "name": "stdout",
     "output_type": "stream",
     "text": [
      "[(0, 1), (1, 1), (2, 1), (0, 2), (1, 2), (2, 2), 0]\n"
     ]
    }
   ],
   "source": [
    "print(list(env.actions(env._state)))"
   ]
  },
  {
   "cell_type": "code",
   "execution_count": 64,
   "metadata": {},
   "outputs": [
    {
     "data": {
      "text/plain": [
       "((0, Norm(0.00, 100.00), Norm(0.00, 100.00)), -1, False, True)"
      ]
     },
     "execution_count": 64,
     "metadata": {},
     "output_type": "execute_result"
    }
   ],
   "source": [
    "env._step((1,2))"
   ]
  }
 ],
 "metadata": {
  "kernelspec": {
   "display_name": "Python 3.10.5 ('jas')",
   "language": "python",
   "name": "python3"
  },
  "language_info": {
   "codemirror_mode": {
    "name": "ipython",
    "version": 3
   },
   "file_extension": ".py",
   "mimetype": "text/x-python",
   "name": "python",
   "nbconvert_exporter": "python",
   "pygments_lexer": "ipython3",
   "version": "3.10.5"
  },
  "orig_nbformat": 4,
  "vscode": {
   "interpreter": {
    "hash": "cdc273f54b2f1f6750df25f1e10f8ad37a1a4b9d58873afdb9059fc1ead861fe"
   }
  }
 },
 "nbformat": 4,
 "nbformat_minor": 2
}
