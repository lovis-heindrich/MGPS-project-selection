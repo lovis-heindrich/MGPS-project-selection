{
 "cells": [
  {
   "cell_type": "code",
   "execution_count": 2,
   "metadata": {},
   "outputs": [
    {
     "name": "stdout",
     "output_type": "stream",
     "text": [
      "The autoreload extension is already loaded. To reload it, use:\n",
      "  %reload_ext autoreload\n"
     ]
    }
   ],
   "source": [
    "from src.utils.env_export import create_json\n",
    "from src.utils.khalili_env import get_env\n",
    "\n",
    "%load_ext autoreload\n",
    "%autoreload 2"
   ]
  },
  {
   "cell_type": "code",
   "execution_count": 7,
   "metadata": {},
   "outputs": [],
   "source": [
    "cost_weight= 0.5798921379230035\n",
    "\n",
    "for size in range(2, 6):\n",
    "    env, config = get_env(size)\n",
    "    create_json(f\"./data/khalili_env_{size}.json\", config, list(range(1, 31)), cost_weight=cost_weight)"
   ]
  }
 ],
 "metadata": {
  "kernelspec": {
   "display_name": "Python 3.10.5 ('jas')",
   "language": "python",
   "name": "python3"
  },
  "language_info": {
   "codemirror_mode": {
    "name": "ipython",
    "version": 3
   },
   "file_extension": ".py",
   "mimetype": "text/x-python",
   "name": "python",
   "nbconvert_exporter": "python",
   "pygments_lexer": "ipython3",
   "version": "3.10.6"
  },
  "orig_nbformat": 4,
  "vscode": {
   "interpreter": {
    "hash": "cdc273f54b2f1f6750df25f1e10f8ad37a1a4b9d58873afdb9059fc1ead861fe"
   }
  }
 },
 "nbformat": 4,
 "nbformat_minor": 2
}
