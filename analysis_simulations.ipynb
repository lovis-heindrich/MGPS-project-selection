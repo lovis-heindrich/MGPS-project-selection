{
 "cells": [
  {
   "cell_type": "code",
   "execution_count": 1,
   "metadata": {},
   "outputs": [],
   "source": [
    "import os, json\n",
    "import pandas as pd\n",
    "import seaborn as sns\n",
    "from matplotlib import pyplot as plt\n",
    "import math\n",
    "\n",
    "sns.set_theme()\n",
    "\n",
    "order = [\"PO-UCT: 10\", \"PO-UCT: 100\", \"PO-UCT: 1000\", \"PO-UCT: 5000\", \"Ours\"]"
   ]
  },
  {
   "cell_type": "code",
   "execution_count": 2,
   "metadata": {},
   "outputs": [
    {
     "data": {
      "text/html": [
       "<div>\n",
       "<style scoped>\n",
       "    .dataframe tbody tr th:only-of-type {\n",
       "        vertical-align: middle;\n",
       "    }\n",
       "\n",
       "    .dataframe tbody tr th {\n",
       "        vertical-align: top;\n",
       "    }\n",
       "\n",
       "    .dataframe thead th {\n",
       "        text-align: right;\n",
       "    }\n",
       "</style>\n",
       "<table border=\"1\" class=\"dataframe\">\n",
       "  <thead>\n",
       "    <tr style=\"text-align: right;\">\n",
       "      <th></th>\n",
       "      <th>Unnamed: 0</th>\n",
       "      <th>reward</th>\n",
       "      <th>actions</th>\n",
       "      <th>seed</th>\n",
       "      <th>runtime</th>\n",
       "      <th>true_reward</th>\n",
       "      <th>expected_reward</th>\n",
       "      <th>steps</th>\n",
       "      <th>exploration_coeff</th>\n",
       "      <th>rollout_depth</th>\n",
       "      <th>type</th>\n",
       "    </tr>\n",
       "  </thead>\n",
       "  <tbody>\n",
       "    <tr>\n",
       "      <th>0</th>\n",
       "      <td>0</td>\n",
       "      <td>3.732784</td>\n",
       "      <td>5</td>\n",
       "      <td>5000</td>\n",
       "      <td>1.707762</td>\n",
       "      <td>4.035003</td>\n",
       "      <td>3.732784</td>\n",
       "      <td>1000</td>\n",
       "      <td>10.0</td>\n",
       "      <td>0</td>\n",
       "      <td>PO-UCT: 1000</td>\n",
       "    </tr>\n",
       "    <tr>\n",
       "      <th>1</th>\n",
       "      <td>1</td>\n",
       "      <td>3.642689</td>\n",
       "      <td>5</td>\n",
       "      <td>5001</td>\n",
       "      <td>1.815193</td>\n",
       "      <td>4.204752</td>\n",
       "      <td>3.642689</td>\n",
       "      <td>1000</td>\n",
       "      <td>10.0</td>\n",
       "      <td>0</td>\n",
       "      <td>PO-UCT: 1000</td>\n",
       "    </tr>\n",
       "    <tr>\n",
       "      <th>2</th>\n",
       "      <td>2</td>\n",
       "      <td>3.707361</td>\n",
       "      <td>5</td>\n",
       "      <td>5002</td>\n",
       "      <td>1.933776</td>\n",
       "      <td>4.891583</td>\n",
       "      <td>3.707361</td>\n",
       "      <td>1000</td>\n",
       "      <td>10.0</td>\n",
       "      <td>0</td>\n",
       "      <td>PO-UCT: 1000</td>\n",
       "    </tr>\n",
       "    <tr>\n",
       "      <th>3</th>\n",
       "      <td>3</td>\n",
       "      <td>3.758194</td>\n",
       "      <td>5</td>\n",
       "      <td>5003</td>\n",
       "      <td>2.119002</td>\n",
       "      <td>5.131884</td>\n",
       "      <td>3.758194</td>\n",
       "      <td>1000</td>\n",
       "      <td>10.0</td>\n",
       "      <td>0</td>\n",
       "      <td>PO-UCT: 1000</td>\n",
       "    </tr>\n",
       "    <tr>\n",
       "      <th>4</th>\n",
       "      <td>4</td>\n",
       "      <td>3.922327</td>\n",
       "      <td>5</td>\n",
       "      <td>5004</td>\n",
       "      <td>2.121899</td>\n",
       "      <td>4.297647</td>\n",
       "      <td>3.922327</td>\n",
       "      <td>1000</td>\n",
       "      <td>10.0</td>\n",
       "      <td>0</td>\n",
       "      <td>PO-UCT: 1000</td>\n",
       "    </tr>\n",
       "  </tbody>\n",
       "</table>\n",
       "</div>"
      ],
      "text/plain": [
       "   Unnamed: 0    reward  actions  seed   runtime  true_reward  \\\n",
       "0           0  3.732784        5  5000  1.707762     4.035003   \n",
       "1           1  3.642689        5  5001  1.815193     4.204752   \n",
       "2           2  3.707361        5  5002  1.933776     4.891583   \n",
       "3           3  3.758194        5  5003  2.119002     5.131884   \n",
       "4           4  3.922327        5  5004  2.121899     4.297647   \n",
       "\n",
       "   expected_reward  steps  exploration_coeff  rollout_depth          type  \n",
       "0         3.732784   1000               10.0              0  PO-UCT: 1000  \n",
       "1         3.642689   1000               10.0              0  PO-UCT: 1000  \n",
       "2         3.707361   1000               10.0              0  PO-UCT: 1000  \n",
       "3         3.758194   1000               10.0              0  PO-UCT: 1000  \n",
       "4         3.922327   1000               10.0              0  PO-UCT: 1000  "
      ]
     },
     "execution_count": 2,
     "metadata": {},
     "output_type": "execute_result"
    }
   ],
   "source": [
    "# Load PO-UCT results\n",
    "data_path = \"./data/simulation_results/pouct_eval/\"\n",
    "file_names = [f for f in os.listdir(data_path) if f.endswith('.csv')]\n",
    "\n",
    "data = []\n",
    "for file_name in file_names:\n",
    "    data.append(pd.read_csv(data_path+file_name))\n",
    "\n",
    "\n",
    "pouct_data = pd.concat(data)\n",
    "pouct_data[\"type\"] = \"PO-UCT: \" + pouct_data[\"steps\"].astype(str)\n",
    "pouct_data.head()\n"
   ]
  },
  {
   "cell_type": "code",
   "execution_count": 3,
   "metadata": {},
   "outputs": [
    {
     "data": {
      "text/html": [
       "<div>\n",
       "<style scoped>\n",
       "    .dataframe tbody tr th:only-of-type {\n",
       "        vertical-align: middle;\n",
       "    }\n",
       "\n",
       "    .dataframe tbody tr th {\n",
       "        vertical-align: top;\n",
       "    }\n",
       "\n",
       "    .dataframe thead th {\n",
       "        text-align: right;\n",
       "    }\n",
       "</style>\n",
       "<table border=\"1\" class=\"dataframe\">\n",
       "  <thead>\n",
       "    <tr style=\"text-align: right;\">\n",
       "      <th></th>\n",
       "      <th>Unnamed: 0</th>\n",
       "      <th>reward</th>\n",
       "      <th>actions</th>\n",
       "      <th>seed</th>\n",
       "      <th>runtime</th>\n",
       "      <th>true_reward</th>\n",
       "      <th>expected_reward</th>\n",
       "      <th>type</th>\n",
       "    </tr>\n",
       "  </thead>\n",
       "  <tbody>\n",
       "    <tr>\n",
       "      <th>0</th>\n",
       "      <td>0</td>\n",
       "      <td>3.821586</td>\n",
       "      <td>3</td>\n",
       "      <td>5000</td>\n",
       "      <td>0.765625</td>\n",
       "      <td>4.039003</td>\n",
       "      <td>3.821586</td>\n",
       "      <td>Ours</td>\n",
       "    </tr>\n",
       "    <tr>\n",
       "      <th>1</th>\n",
       "      <td>1</td>\n",
       "      <td>3.819586</td>\n",
       "      <td>4</td>\n",
       "      <td>5001</td>\n",
       "      <td>0.890625</td>\n",
       "      <td>3.173295</td>\n",
       "      <td>3.819586</td>\n",
       "      <td>Ours</td>\n",
       "    </tr>\n",
       "    <tr>\n",
       "      <th>2</th>\n",
       "      <td>2</td>\n",
       "      <td>3.716219</td>\n",
       "      <td>5</td>\n",
       "      <td>5002</td>\n",
       "      <td>0.875000</td>\n",
       "      <td>4.638325</td>\n",
       "      <td>3.716219</td>\n",
       "      <td>Ours</td>\n",
       "    </tr>\n",
       "    <tr>\n",
       "      <th>3</th>\n",
       "      <td>3</td>\n",
       "      <td>3.821586</td>\n",
       "      <td>3</td>\n",
       "      <td>5003</td>\n",
       "      <td>0.718750</td>\n",
       "      <td>5.135884</td>\n",
       "      <td>3.821586</td>\n",
       "      <td>Ours</td>\n",
       "    </tr>\n",
       "    <tr>\n",
       "      <th>4</th>\n",
       "      <td>4</td>\n",
       "      <td>3.658340</td>\n",
       "      <td>5</td>\n",
       "      <td>5004</td>\n",
       "      <td>0.890625</td>\n",
       "      <td>4.297647</td>\n",
       "      <td>3.658340</td>\n",
       "      <td>Ours</td>\n",
       "    </tr>\n",
       "  </tbody>\n",
       "</table>\n",
       "</div>"
      ],
      "text/plain": [
       "   Unnamed: 0    reward  actions  seed   runtime  true_reward  \\\n",
       "0           0  3.821586        3  5000  0.765625     4.039003   \n",
       "1           1  3.819586        4  5001  0.890625     3.173295   \n",
       "2           2  3.716219        5  5002  0.875000     4.638325   \n",
       "3           3  3.821586        3  5003  0.718750     5.135884   \n",
       "4           4  3.658340        5  5004  0.890625     4.297647   \n",
       "\n",
       "   expected_reward  type  \n",
       "0         3.821586  Ours  \n",
       "1         3.819586  Ours  \n",
       "2         3.716219  Ours  \n",
       "3         3.821586  Ours  \n",
       "4         3.658340  Ours  "
      ]
     },
     "execution_count": 3,
     "metadata": {},
     "output_type": "execute_result"
    }
   ],
   "source": [
    "project_data = pd.read_csv(\"./data/simulation_results/eval_voc.csv\")\n",
    "project_data[\"type\"] = \"Ours\"\n",
    "project_data.head()"
   ]
  },
  {
   "cell_type": "code",
   "execution_count": 9,
   "metadata": {},
   "outputs": [
    {
     "data": {
      "text/plain": [
       "type                object\n",
       "expected_reward    float64\n",
       "true_reward        float64\n",
       "actions              int64\n",
       "runtime            float64\n",
       "seed                 int64\n",
       "dtype: object"
      ]
     },
     "execution_count": 9,
     "metadata": {},
     "output_type": "execute_result"
    }
   ],
   "source": [
    "merge_col = [\"type\", \"expected_reward\", \"true_reward\", \"actions\", \"runtime\", \"seed\"]\n",
    "temp1 = project_data[merge_col]\n",
    "temp2 = pouct_data[merge_col]\n",
    "\n",
    "df = pd.concat([temp1, temp2])\n",
    "df.dtypes\n"
   ]
  },
  {
   "cell_type": "code",
   "execution_count": 10,
   "metadata": {},
   "outputs": [
    {
     "data": {
      "text/plain": [
       "Text(0.5, 0, '')"
      ]
     },
     "execution_count": 10,
     "metadata": {},
     "output_type": "execute_result"
    },
    {
     "data": {
      "image/png": "[encoded data removed]",
      "text/plain": [
       "<Figure size 1500x1000 with 4 Axes>"
      ]
     },
     "metadata": {},
     "output_type": "display_data"
    }
   ],
   "source": [
    "order = [\"PO-UCT: 10\", \"PO-UCT: 100\", \"PO-UCT: 1000\", \"PO-UCT: 5000\", \"Ours\"]\n",
    "\n",
    "fig, axes =plt.subplots(2,2, figsize=(15,10))\n",
    "axes = axes.flatten()\n",
    "\n",
    "g = sns.barplot(df, y=\"expected_reward\", x=\"type\", ax=axes[0], order=order)\n",
    "g.set_ylim((3.3, 3.8))\n",
    "g.set_ylabel(\"Expected Reward\")\n",
    "g.set_xlabel(\"\")\n",
    "g = sns.barplot(df, y=\"true_reward\", x=\"type\", ax=axes[1], order=order)\n",
    "g.set_ylim((3.3, 4))\n",
    "g.set_ylabel(\"True Reward\")\n",
    "g.set_xlabel(\"\")\n",
    "g = sns.barplot(df, y=\"actions\", x=\"type\", ax=axes[2], order=order)\n",
    "g.set_ylabel(\"Number of actions\")\n",
    "g.set_xlabel(\"\")\n",
    "g = sns.barplot(df, y=\"runtime\", x=\"type\", ax=axes[3], order=order)\n",
    "g.set_ylabel(\"Runtime\")\n",
    "g.set_xlabel(\"\")"
   ]
  },
  {
   "cell_type": "code",
   "execution_count": 7,
   "metadata": {},
   "outputs": [],
   "source": [
    "#df.to_csv(\"./data/simulation_results/simulation_data.csv\")"
   ]
  },
  {
   "cell_type": "code",
   "execution_count": 2,
   "metadata": {},
   "outputs": [],
   "source": [
    "df = pd.read_csv(\"./data/simulation_results/simulation_data.csv\")"
   ]
  },
  {
   "cell_type": "code",
   "execution_count": 3,
   "metadata": {},
   "outputs": [
    {
     "data": {
      "text/plain": [
       "Index(['Unnamed: 0', 'type', 'expected_reward', 'true_reward', 'actions',\n",
       "       'runtime'],\n",
       "      dtype='object')"
      ]
     },
     "execution_count": 3,
     "metadata": {},
     "output_type": "execute_result"
    }
   ],
   "source": [
    "df.columns"
   ]
  },
  {
   "cell_type": "code",
   "execution_count": 4,
   "metadata": {},
   "outputs": [
    {
     "name": "stdout",
     "output_type": "stream",
     "text": [
      "mean    0.61283\n",
      "std     1.00000\n",
      "Name: normalized_reward, dtype: float64\n"
     ]
    }
   ],
   "source": [
    "baseline_df = pd.read_csv(\"./data/simulation_results/random_baseline.csv\")\n",
    "mean = baseline_df[\"reward\"].mean()\n",
    "std = df[\"expected_reward\"].std()\n",
    "df[\"normalized_reward\"] = (df[\"expected_reward\"] - mean) / std\n",
    "print(df[\"normalized_reward\"].agg([\"mean\", \"std\"]))"
   ]
  },
  {
   "cell_type": "code",
   "execution_count": 5,
   "metadata": {},
   "outputs": [
    {
     "data": {
      "text/plain": [
       "Text(0.5, 1.0, 'Z-scored expected reward')"
      ]
     },
     "execution_count": 5,
     "metadata": {},
     "output_type": "execute_result"
    },
    {
     "data": {
      "image/png": "[encoded data removed]",
      "text/plain": [
       "<Figure size 640x480 with 1 Axes>"
      ]
     },
     "metadata": {},
     "output_type": "display_data"
    }
   ],
   "source": [
    "g = sns.barplot(df, y=\"normalized_reward\", x=\"type\", order=order)\n",
    "g.set_ylabel(\"Normalized Reward\")\n",
    "g.set_xlabel(\"\")\n",
    "g.set_title(\"Z-scored expected reward\")"
   ]
  },
  {
   "cell_type": "code",
   "execution_count": 6,
   "metadata": {},
   "outputs": [
    {
     "data": {
      "text/html": [
       "<div>\n",
       "<style scoped>\n",
       "    .dataframe tbody tr th:only-of-type {\n",
       "        vertical-align: middle;\n",
       "    }\n",
       "\n",
       "    .dataframe tbody tr th {\n",
       "        vertical-align: top;\n",
       "    }\n",
       "\n",
       "    .dataframe thead tr th {\n",
       "        text-align: left;\n",
       "    }\n",
       "\n",
       "    .dataframe thead tr:last-of-type th {\n",
       "        text-align: right;\n",
       "    }\n",
       "</style>\n",
       "<table border=\"1\" class=\"dataframe\">\n",
       "  <thead>\n",
       "    <tr>\n",
       "      <th></th>\n",
       "      <th colspan=\"2\" halign=\"left\">expected_reward</th>\n",
       "      <th colspan=\"2\" halign=\"left\">normalized_reward</th>\n",
       "      <th colspan=\"2\" halign=\"left\">runtime</th>\n",
       "    </tr>\n",
       "    <tr>\n",
       "      <th></th>\n",
       "      <th>mean</th>\n",
       "      <th>std</th>\n",
       "      <th>mean</th>\n",
       "      <th>std</th>\n",
       "      <th>mean</th>\n",
       "      <th>std</th>\n",
       "    </tr>\n",
       "    <tr>\n",
       "      <th>type</th>\n",
       "      <th></th>\n",
       "      <th></th>\n",
       "      <th></th>\n",
       "      <th></th>\n",
       "      <th></th>\n",
       "      <th></th>\n",
       "    </tr>\n",
       "  </thead>\n",
       "  <tbody>\n",
       "    <tr>\n",
       "      <th>Ours</th>\n",
       "      <td>3.7037</td>\n",
       "      <td>0.1550</td>\n",
       "      <td>0.9942</td>\n",
       "      <td>0.8433</td>\n",
       "      <td>0.9079</td>\n",
       "      <td>0.1886</td>\n",
       "    </tr>\n",
       "    <tr>\n",
       "      <th>PO-UCT: 10</th>\n",
       "      <td>3.4411</td>\n",
       "      <td>0.0703</td>\n",
       "      <td>-0.4344</td>\n",
       "      <td>0.3823</td>\n",
       "      <td>0.0175</td>\n",
       "      <td>0.0135</td>\n",
       "    </tr>\n",
       "    <tr>\n",
       "      <th>PO-UCT: 100</th>\n",
       "      <td>3.6553</td>\n",
       "      <td>0.2001</td>\n",
       "      <td>0.7309</td>\n",
       "      <td>1.0891</td>\n",
       "      <td>0.1972</td>\n",
       "      <td>0.0285</td>\n",
       "    </tr>\n",
       "    <tr>\n",
       "      <th>PO-UCT: 1000</th>\n",
       "      <td>3.6805</td>\n",
       "      <td>0.1697</td>\n",
       "      <td>0.8681</td>\n",
       "      <td>0.9233</td>\n",
       "      <td>2.3567</td>\n",
       "      <td>0.1013</td>\n",
       "    </tr>\n",
       "    <tr>\n",
       "      <th>PO-UCT: 5000</th>\n",
       "      <td>3.6873</td>\n",
       "      <td>0.1535</td>\n",
       "      <td>0.9054</td>\n",
       "      <td>0.8354</td>\n",
       "      <td>10.8913</td>\n",
       "      <td>0.6240</td>\n",
       "    </tr>\n",
       "  </tbody>\n",
       "</table>\n",
       "</div>"
      ],
      "text/plain": [
       "             expected_reward         normalized_reward          runtime  \\\n",
       "                        mean     std              mean     std     mean   \n",
       "type                                                                      \n",
       "Ours                  3.7037  0.1550            0.9942  0.8433   0.9079   \n",
       "PO-UCT: 10            3.4411  0.0703           -0.4344  0.3823   0.0175   \n",
       "PO-UCT: 100           3.6553  0.2001            0.7309  1.0891   0.1972   \n",
       "PO-UCT: 1000          3.6805  0.1697            0.8681  0.9233   2.3567   \n",
       "PO-UCT: 5000          3.6873  0.1535            0.9054  0.8354  10.8913   \n",
       "\n",
       "                      \n",
       "                 std  \n",
       "type                  \n",
       "Ours          0.1886  \n",
       "PO-UCT: 10    0.0135  \n",
       "PO-UCT: 100   0.0285  \n",
       "PO-UCT: 1000  0.1013  \n",
       "PO-UCT: 5000  0.6240  "
      ]
     },
     "execution_count": 6,
     "metadata": {},
     "output_type": "execute_result"
    }
   ],
   "source": [
    "df.groupby(\"type\").agg([\"mean\", \"std\"])[[\"expected_reward\", \"normalized_reward\", \"runtime\"]].round(4)"
   ]
  },
  {
   "cell_type": "code",
   "execution_count": 7,
   "metadata": {},
   "outputs": [
    {
     "data": {
      "text/html": [
       "<div>\n",
       "<style scoped>\n",
       "    .dataframe tbody tr th:only-of-type {\n",
       "        vertical-align: middle;\n",
       "    }\n",
       "\n",
       "    .dataframe tbody tr th {\n",
       "        vertical-align: top;\n",
       "    }\n",
       "\n",
       "    .dataframe thead th {\n",
       "        text-align: right;\n",
       "    }\n",
       "</style>\n",
       "<table border=\"1\" class=\"dataframe\">\n",
       "  <thead>\n",
       "    <tr style=\"text-align: right;\">\n",
       "      <th></th>\n",
       "      <th>mean</th>\n",
       "      <th>count</th>\n",
       "      <th>std</th>\n",
       "      <th>ci95</th>\n",
       "    </tr>\n",
       "    <tr>\n",
       "      <th>type</th>\n",
       "      <th></th>\n",
       "      <th></th>\n",
       "      <th></th>\n",
       "      <th></th>\n",
       "    </tr>\n",
       "  </thead>\n",
       "  <tbody>\n",
       "    <tr>\n",
       "      <th>Ours</th>\n",
       "      <td>0.9942</td>\n",
       "      <td>5000</td>\n",
       "      <td>0.8433</td>\n",
       "      <td>0.0234</td>\n",
       "    </tr>\n",
       "    <tr>\n",
       "      <th>PO-UCT: 10</th>\n",
       "      <td>-0.4344</td>\n",
       "      <td>5000</td>\n",
       "      <td>0.3823</td>\n",
       "      <td>0.0106</td>\n",
       "    </tr>\n",
       "    <tr>\n",
       "      <th>PO-UCT: 100</th>\n",
       "      <td>0.7309</td>\n",
       "      <td>5000</td>\n",
       "      <td>1.0891</td>\n",
       "      <td>0.0302</td>\n",
       "    </tr>\n",
       "    <tr>\n",
       "      <th>PO-UCT: 1000</th>\n",
       "      <td>0.8681</td>\n",
       "      <td>5000</td>\n",
       "      <td>0.9233</td>\n",
       "      <td>0.0256</td>\n",
       "    </tr>\n",
       "    <tr>\n",
       "      <th>PO-UCT: 5000</th>\n",
       "      <td>0.9054</td>\n",
       "      <td>5000</td>\n",
       "      <td>0.8354</td>\n",
       "      <td>0.0232</td>\n",
       "    </tr>\n",
       "  </tbody>\n",
       "</table>\n",
       "</div>"
      ],
      "text/plain": [
       "                mean  count     std    ci95\n",
       "type                                       \n",
       "Ours          0.9942   5000  0.8433  0.0234\n",
       "PO-UCT: 10   -0.4344   5000  0.3823  0.0106\n",
       "PO-UCT: 100   0.7309   5000  1.0891  0.0302\n",
       "PO-UCT: 1000  0.8681   5000  0.9233  0.0256\n",
       "PO-UCT: 5000  0.9054   5000  0.8354  0.0232"
      ]
     },
     "execution_count": 7,
     "metadata": {},
     "output_type": "execute_result"
    }
   ],
   "source": [
    "def ci(column):\n",
    "    stats = df.groupby(\"type\").agg([\"mean\", \"count\", \"std\"])[column]\n",
    "    ci95 = []\n",
    "\n",
    "    for i in stats.index:\n",
    "        m, c, s = stats.loc[i]\n",
    "        ci95.append(1.96*s/math.sqrt(c))\n",
    "    \n",
    "    stats['ci95'] = ci95\n",
    "    return stats.round(4)\n",
    "\n",
    "ci(\"normalized_reward\")"
   ]
  },
  {
   "cell_type": "code",
   "execution_count": 8,
   "metadata": {},
   "outputs": [
    {
     "data": {
      "text/html": [
       "<div>\n",
       "<style scoped>\n",
       "    .dataframe tbody tr th:only-of-type {\n",
       "        vertical-align: middle;\n",
       "    }\n",
       "\n",
       "    .dataframe tbody tr th {\n",
       "        vertical-align: top;\n",
       "    }\n",
       "\n",
       "    .dataframe thead th {\n",
       "        text-align: right;\n",
       "    }\n",
       "</style>\n",
       "<table border=\"1\" class=\"dataframe\">\n",
       "  <thead>\n",
       "    <tr style=\"text-align: right;\">\n",
       "      <th></th>\n",
       "      <th>mean</th>\n",
       "      <th>count</th>\n",
       "      <th>std</th>\n",
       "      <th>ci95</th>\n",
       "    </tr>\n",
       "    <tr>\n",
       "      <th>type</th>\n",
       "      <th></th>\n",
       "      <th></th>\n",
       "      <th></th>\n",
       "      <th></th>\n",
       "    </tr>\n",
       "  </thead>\n",
       "  <tbody>\n",
       "    <tr>\n",
       "      <th>Ours</th>\n",
       "      <td>0.9079</td>\n",
       "      <td>5000</td>\n",
       "      <td>0.1886</td>\n",
       "      <td>0.0052</td>\n",
       "    </tr>\n",
       "    <tr>\n",
       "      <th>PO-UCT: 10</th>\n",
       "      <td>0.0175</td>\n",
       "      <td>5000</td>\n",
       "      <td>0.0135</td>\n",
       "      <td>0.0004</td>\n",
       "    </tr>\n",
       "    <tr>\n",
       "      <th>PO-UCT: 100</th>\n",
       "      <td>0.1972</td>\n",
       "      <td>5000</td>\n",
       "      <td>0.0285</td>\n",
       "      <td>0.0008</td>\n",
       "    </tr>\n",
       "    <tr>\n",
       "      <th>PO-UCT: 1000</th>\n",
       "      <td>2.3567</td>\n",
       "      <td>5000</td>\n",
       "      <td>0.1013</td>\n",
       "      <td>0.0028</td>\n",
       "    </tr>\n",
       "    <tr>\n",
       "      <th>PO-UCT: 5000</th>\n",
       "      <td>10.8913</td>\n",
       "      <td>5000</td>\n",
       "      <td>0.6240</td>\n",
       "      <td>0.0173</td>\n",
       "    </tr>\n",
       "  </tbody>\n",
       "</table>\n",
       "</div>"
      ],
      "text/plain": [
       "                 mean  count     std    ci95\n",
       "type                                        \n",
       "Ours           0.9079   5000  0.1886  0.0052\n",
       "PO-UCT: 10     0.0175   5000  0.0135  0.0004\n",
       "PO-UCT: 100    0.1972   5000  0.0285  0.0008\n",
       "PO-UCT: 1000   2.3567   5000  0.1013  0.0028\n",
       "PO-UCT: 5000  10.8913   5000  0.6240  0.0173"
      ]
     },
     "execution_count": 8,
     "metadata": {},
     "output_type": "execute_result"
    }
   ],
   "source": [
    "ci(\"runtime\")"
   ]
  },
  {
   "cell_type": "code",
   "execution_count": 10,
   "metadata": {},
   "outputs": [
    {
     "name": "stdout",
     "output_type": "stream",
     "text": [
      "Cohen's d between ours and 10 step: 2.181971302312702\n",
      "Cohen's d between ours and 100 step: 0.27028310530293115\n",
      "Cohen's d between ours and 1000 step: 0.14255795034112073\n",
      "Cohen's d between ours and 5000 step: 0.10575920004576697\n"
     ]
    }
   ],
   "source": [
    "import numpy as np\n",
    "\n",
    "def cohend(d1, d2):\n",
    "    # https://machinelearningmastery.com/effect-size-measures-in-python/\n",
    "    n1, n2 = len(d1), len(d2)\n",
    "    s1, s2 = np.var(d1, ddof=1), np.var(d2, ddof=1)\n",
    "    s = np.sqrt(((n1 - 1) * s1 + (n2 - 1) * s2) / (n1 + n2 - 2))\n",
    "    u1, u2 = np.mean(d1), np.mean(d2)\n",
    "    return (u1 - u2) / s\n",
    "\n",
    "ours = df[df[\"type\"]==\"Ours\"][\"expected_reward\"]\n",
    "po_10 = df[df[\"type\"]==\"PO-UCT: 10\"][\"expected_reward\"]\n",
    "po_100 = df[df[\"type\"]==\"PO-UCT: 100\"][\"expected_reward\"]\n",
    "po_1000 = df[df[\"type\"]==\"PO-UCT: 1000\"][\"expected_reward\"]\n",
    "po_5000 = df[df[\"type\"]==\"PO-UCT: 5000\"][\"expected_reward\"]\n",
    "\n",
    "print(\"Cohen's d between ours and 10 step:\", cohend(ours, po_10))\n",
    "print(\"Cohen's d between ours and 100 step:\", cohend(ours, po_100))\n",
    "print(\"Cohen's d between ours and 1000 step:\", cohend(ours, po_1000))\n",
    "print(\"Cohen's d between ours and 5000 step:\", cohend(ours, po_5000))"
   ]
  },
  {
   "cell_type": "code",
   "execution_count": null,
   "metadata": {},
   "outputs": [],
   "source": []
  }
 ],
 "metadata": {
  "kernelspec": {
   "display_name": "jas",
   "language": "python",
   "name": "python3"
  },
  "language_info": {
   "codemirror_mode": {
    "name": "ipython",
    "version": 3
   },
   "file_extension": ".py",
   "mimetype": "text/x-python",
   "name": "python",
   "nbconvert_exporter": "python",
   "pygments_lexer": "ipython3",
   "version": "3.10.6"
  },
  "orig_nbformat": 4
 },
 "nbformat": 4,
 "nbformat_minor": 2
}
