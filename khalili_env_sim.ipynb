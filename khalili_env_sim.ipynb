{
 "cells": [
  {
   "cell_type": "code",
   "execution_count": 6,
   "metadata": {},
   "outputs": [
    {
     "name": "stdout",
     "output_type": "stream",
     "text": [
      "The autoreload extension is already loaded. To reload it, use:\n",
      "  %reload_ext autoreload\n"
     ]
    }
   ],
   "source": [
    "%load_ext autoreload\n",
    "%autoreload 2\n",
    "\n",
    "from src.utils.env_creation import create_tree, create_init\n",
    "from src.utils.mouselab_jas import MouselabJas\n",
    "from src.utils.data_classes import MouselabConfig\n",
    "from src.utils.utils import sigma_to_tau\n",
    "import numpy as np\n",
    "from simulation import run_simulation\n",
    "from src.policy.jas_voc_policy import JAS_voc_policy\n",
    "from src.policy.jas_policy import RandomPolicy, ExhaustivePolicy, RandomNPolicy\n",
    "import pandas as pd\n",
    "import seaborn as sns\n",
    "from matplotlib import pyplot as plt"
   ]
  },
  {
   "cell_type": "code",
   "execution_count": 7,
   "metadata": {},
   "outputs": [],
   "source": [
    "# Fixed from paper\n",
    "num_projects = 5\n",
    "num_criteria = 6\n",
    "weights = [0.0206795, 0.0672084, 0.2227102, 0.1067428, 0.4665054, 0.1161537]\n",
    "expert_stds = [1.5616618964384956, 1.449172525995787, 1.5205992970609392, 1.5469422429523034, 1.511270787760881, 1.455189251463794]\n",
    "expert_taus = sigma_to_tau(np.array(expert_stds))\n",
    "\n",
    "mu = [3.6, 3.1666666666666665, 3.6, 3.1333333333333333, 3.6666666666666665, 2.3]\n",
    "sigma = [1.3544307876819288, 1.2617266038997932, 1.3796551293211172, 1.2521246311585852, 1.5161960871578068, 0.9523111632886272]\n",
    "\n",
    "init = create_init([0]+(mu*num_projects), [0]+(sigma*num_projects))\n",
    "expert_costs = [0.002]*6\n",
    "\n",
    "config = MouselabConfig(num_projects, num_criteria, expert_costs, expert_taus, init, criteria_scale=weights)\n",
    "env = MouselabJas(config=config)"
   ]
  },
  {
   "cell_type": "code",
   "execution_count": 8,
   "metadata": {},
   "outputs": [
    {
     "data": {
      "text/plain": [
       "3.401163603333334"
      ]
     },
     "execution_count": 8,
     "metadata": {},
     "output_type": "execute_result"
    }
   ],
   "source": [
    "env.expected_term_reward(env.state)"
   ]
  },
  {
   "cell_type": "code",
   "execution_count": 9,
   "metadata": {},
   "outputs": [],
   "source": [
    "voc_policy = JAS_voc_policy()\n",
    "random_policy = RandomPolicy()\n",
    "exhaustive_policy = ExhaustivePolicy()\n",
    "random_6_policy = RandomNPolicy(N=6)"
   ]
  },
  {
   "cell_type": "code",
   "execution_count": 10,
   "metadata": {},
   "outputs": [],
   "source": [
    "res_random = run_simulation(env, random_policy, n=100)\n",
    "res_exhaustive = run_simulation(env, exhaustive_policy, n=100)\n",
    "res_random_6 = run_simulation(env, random_6_policy, n=100)\n",
    "res_voc = run_simulation(env, voc_policy, n=100)\n",
    "\n",
    "res_voc[\"algorithm\"] = \"MGPO\"\n",
    "res_exhaustive[\"algorithm\"] = \"Exhaustive\"\n",
    "res_random[\"algorithm\"] = \"Random\"\n",
    "res_random_6[\"algorithm\"] = \"Random 6\"\n",
    "res = pd.concat([res_voc, res_random_6, res_exhaustive, res_random])"
   ]
  },
  {
   "cell_type": "code",
   "execution_count": 16,
   "metadata": {},
   "outputs": [
    {
     "data": {
      "text/html": [
       "<div>\n",
       "<style scoped>\n",
       "    .dataframe tbody tr th:only-of-type {\n",
       "        vertical-align: middle;\n",
       "    }\n",
       "\n",
       "    .dataframe tbody tr th {\n",
       "        vertical-align: top;\n",
       "    }\n",
       "\n",
       "    .dataframe thead tr th {\n",
       "        text-align: left;\n",
       "    }\n",
       "\n",
       "    .dataframe thead tr:last-of-type th {\n",
       "        text-align: right;\n",
       "    }\n",
       "</style>\n",
       "<table border=\"1\" class=\"dataframe\">\n",
       "  <thead>\n",
       "    <tr>\n",
       "      <th></th>\n",
       "      <th colspan=\"2\" halign=\"left\">reward</th>\n",
       "      <th colspan=\"2\" halign=\"left\">actions</th>\n",
       "    </tr>\n",
       "    <tr>\n",
       "      <th></th>\n",
       "      <th>mean</th>\n",
       "      <th>std</th>\n",
       "      <th>mean</th>\n",
       "      <th>std</th>\n",
       "    </tr>\n",
       "    <tr>\n",
       "      <th>algorithm</th>\n",
       "      <th></th>\n",
       "      <th></th>\n",
       "      <th></th>\n",
       "      <th></th>\n",
       "    </tr>\n",
       "  </thead>\n",
       "  <tbody>\n",
       "    <tr>\n",
       "      <th>Exhaustive</th>\n",
       "      <td>2.877870</td>\n",
       "      <td>0.339607</td>\n",
       "      <td>181.00</td>\n",
       "      <td>0.000000</td>\n",
       "    </tr>\n",
       "    <tr>\n",
       "      <th>MGPO</th>\n",
       "      <td>3.393314</td>\n",
       "      <td>0.305544</td>\n",
       "      <td>17.90</td>\n",
       "      <td>7.076066</td>\n",
       "    </tr>\n",
       "    <tr>\n",
       "      <th>Random</th>\n",
       "      <td>3.170116</td>\n",
       "      <td>0.321981</td>\n",
       "      <td>101.07</td>\n",
       "      <td>55.362945</td>\n",
       "    </tr>\n",
       "    <tr>\n",
       "      <th>Random 6</th>\n",
       "      <td>3.431362</td>\n",
       "      <td>0.093957</td>\n",
       "      <td>7.00</td>\n",
       "      <td>0.000000</td>\n",
       "    </tr>\n",
       "  </tbody>\n",
       "</table>\n",
       "</div>"
      ],
      "text/plain": [
       "              reward           actions           \n",
       "                mean       std    mean        std\n",
       "algorithm                                        \n",
       "Exhaustive  2.877870  0.339607  181.00   0.000000\n",
       "MGPO        3.393314  0.305544   17.90   7.076066\n",
       "Random      3.170116  0.321981  101.07  55.362945\n",
       "Random 6    3.431362  0.093957    7.00   0.000000"
      ]
     },
     "execution_count": 16,
     "metadata": {},
     "output_type": "execute_result"
    }
   ],
   "source": [
    "res[[\"reward\", \"actions\", \"algorithm\"]].groupby(\"algorithm\").agg([\"mean\", \"std\"])"
   ]
  },
  {
   "cell_type": "code",
   "execution_count": 11,
   "metadata": {},
   "outputs": [
    {
     "data": {
      "text/plain": [
       "Text(0, 0.5, 'Actions')"
      ]
     },
     "execution_count": 11,
     "metadata": {},
     "output_type": "execute_result"
    },
    {
     "data": {
      "image/png": "[encoded data removed]",
      "text/plain": [
       "<Figure size 1500x400 with 3 Axes>"
      ]
     },
     "metadata": {},
     "output_type": "display_data"
    }
   ],
   "source": [
    "\n",
    "fig, axes = plt.subplots(1,3, figsize=(15,4), sharex=False, sharey=False)\n",
    "axes = axes.flatten()\n",
    "\n",
    "g = sns.barplot(data=res, x=\"algorithm\", y=\"reward\", ax=axes[0])\n",
    "g.set_title(\"\")\n",
    "g.set_xlabel(\"\")\n",
    "g.set_ylabel(\"Reward\")\n",
    "\n",
    "g = sns.barplot(data=res, x=\"algorithm\", y=\"runtime\", ax=axes[1])\n",
    "g.set_title(\"\")\n",
    "g.set_xlabel(\"\")\n",
    "g.set_ylabel(\"Runtime\")\n",
    "\n",
    "g = sns.barplot(data=res, x=\"algorithm\", y=\"actions\", ax=axes[2])\n",
    "g.set_title(\"\")\n",
    "g.set_xlabel(\"\")\n",
    "g.set_ylabel(\"Actions\")"
   ]
  },
  {
   "cell_type": "code",
   "execution_count": null,
   "metadata": {},
   "outputs": [],
   "source": []
  }
 ],
 "metadata": {
  "kernelspec": {
   "display_name": "jas",
   "language": "python",
   "name": "python3"
  },
  "language_info": {
   "codemirror_mode": {
    "name": "ipython",
    "version": 3
   },
   "file_extension": ".py",
   "mimetype": "text/x-python",
   "name": "python",
   "nbconvert_exporter": "python",
   "pygments_lexer": "ipython3",
   "version": "3.10.6 | packaged by conda-forge | (main, Aug 22 2022, 20:29:51) [MSC v.1929 64 bit (AMD64)]"
  },
  "orig_nbformat": 4,
  "vscode": {
   "interpreter": {
    "hash": "cdc273f54b2f1f6750df25f1e10f8ad37a1a4b9d58873afdb9059fc1ead861fe"
   }
  }
 },
 "nbformat": 4,
 "nbformat_minor": 2
}
