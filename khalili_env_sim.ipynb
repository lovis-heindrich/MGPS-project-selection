{
 "cells": [
  {
   "cell_type": "code",
   "execution_count": 6,
   "metadata": {},
   "outputs": [
    {
     "name": "stdout",
     "output_type": "stream",
     "text": [
      "The autoreload extension is already loaded. To reload it, use:\n",
      "  %reload_ext autoreload\n"
     ]
    }
   ],
   "source": [
    "%load_ext autoreload\n",
    "%autoreload 2\n",
    "\n",
    "from src.utils.env_creation import create_tree, create_init\n",
    "from src.utils.mouselab_jas import MouselabJas\n",
    "from src.utils.data_classes import MouselabConfig, Action\n",
    "from src.utils.utils import sigma_to_tau, tau_to_sigma\n",
    "import numpy as np\n",
    "from simulation import run_simulation\n",
    "from src.policy.jas_voc_policy import JAS_voc_policy\n",
    "from src.policy.jas_policy import RandomPolicy, ExhaustivePolicy, RandomNPolicy\n",
    "import pandas as pd\n",
    "import seaborn as sns\n",
    "from matplotlib import pyplot as plt\n",
    "import GPyOpt\n",
    "import time"
   ]
  },
  {
   "cell_type": "code",
   "execution_count": 7,
   "metadata": {},
   "outputs": [],
   "source": [
    "# Fixed from paper\n",
    "num_projects = 5\n",
    "num_criteria = 6\n",
    "weights = [0.0206795, 0.0672084, 0.2227102, 0.1067428, 0.4665054, 0.1161537]\n",
    "expert_stds = [1.5616618964384956, 1.449172525995787, 1.5205992970609392, 1.5469422429523034, 1.511270787760881, 1.455189251463794]\n",
    "expert_taus = sigma_to_tau(np.array(expert_stds))\n",
    "\n",
    "mu = [3.6, 3.1666666666666665, 3.6, 3.1333333333333333, 3.6666666666666665, 2.3]\n",
    "sigma = [1.3544307876819288, 1.2617266038997932, 1.3796551293211172, 1.2521246311585852, 1.5161960871578068, 0.9523111632886272]\n",
    "\n",
    "init = create_init([0]+(mu*num_projects), [0]+(sigma*num_projects))\n",
    "expert_costs = [0.002]*6\n",
    "\n",
    "config = MouselabConfig(num_projects, num_criteria, expert_costs, expert_taus, init, criteria_scale=weights, term_belief=False, max_actions=5)\n",
    "env = MouselabJas(config=config)"
   ]
  },
  {
   "cell_type": "code",
   "execution_count": 5,
   "metadata": {},
   "outputs": [
    {
     "name": "stderr",
     "output_type": "stream",
     "text": [
      "100%|██████████| 10/10 [00:03<00:00,  3.26it/s]"
     ]
    },
    {
     "name": "stdout",
     "output_type": "stream",
     "text": [
      "10\n"
     ]
    },
    {
     "name": "stderr",
     "output_type": "stream",
     "text": [
      "\n"
     ]
    },
    {
     "data": {
      "text/html": [
       "<div>\n",
       "<style scoped>\n",
       "    .dataframe tbody tr th:only-of-type {\n",
       "        vertical-align: middle;\n",
       "    }\n",
       "\n",
       "    .dataframe tbody tr th {\n",
       "        vertical-align: top;\n",
       "    }\n",
       "\n",
       "    .dataframe thead th {\n",
       "        text-align: right;\n",
       "    }\n",
       "</style>\n",
       "<table border=\"1\" class=\"dataframe\">\n",
       "  <thead>\n",
       "    <tr style=\"text-align: right;\">\n",
       "      <th></th>\n",
       "      <th>reward</th>\n",
       "      <th>actions</th>\n",
       "      <th>seed</th>\n",
       "      <th>runtime</th>\n",
       "      <th>true_reward</th>\n",
       "      <th>expected_reward</th>\n",
       "    </tr>\n",
       "  </thead>\n",
       "  <tbody>\n",
       "    <tr>\n",
       "      <th>mean</th>\n",
       "      <td>4.050447</td>\n",
       "      <td>3.500000</td>\n",
       "      <td>15.50000</td>\n",
       "      <td>0.304688</td>\n",
       "      <td>4.050447</td>\n",
       "      <td>3.675345</td>\n",
       "    </tr>\n",
       "    <tr>\n",
       "      <th>std</th>\n",
       "      <td>0.359223</td>\n",
       "      <td>1.354006</td>\n",
       "      <td>3.02765</td>\n",
       "      <td>0.110792</td>\n",
       "      <td>0.359223</td>\n",
       "      <td>0.073368</td>\n",
       "    </tr>\n",
       "  </tbody>\n",
       "</table>\n",
       "</div>"
      ],
      "text/plain": [
       "        reward   actions      seed   runtime  true_reward  expected_reward\n",
       "mean  4.050447  3.500000  15.50000  0.304688     4.050447         3.675345\n",
       "std   0.359223  1.354006   3.02765  0.110792     0.359223         0.073368"
      ]
     },
     "execution_count": 5,
     "metadata": {},
     "output_type": "execute_result"
    }
   ],
   "source": [
    "# Cost weight 0.5798921379230035 for discrete with max 5 actions\n",
    "voc_policy = JAS_voc_policy(discrete_observation=True, cost_weight=0.5798921379230035)\n",
    "res = run_simulation(env, voc_policy, start_seed=11, n=10)\n",
    "print(len(res))\n",
    "res.agg([\"mean\", \"std\"])"
   ]
  },
  {
   "cell_type": "code",
   "execution_count": 4,
   "metadata": {},
   "outputs": [
    {
     "name": "stderr",
     "output_type": "stream",
     "text": [
      "100%|██████████| 10/10 [00:04<00:00,  2.30it/s]"
     ]
    },
    {
     "name": "stdout",
     "output_type": "stream",
     "text": [
      "10\n"
     ]
    },
    {
     "name": "stderr",
     "output_type": "stream",
     "text": [
      "\n"
     ]
    },
    {
     "data": {
      "text/html": [
       "<div>\n",
       "<style scoped>\n",
       "    .dataframe tbody tr th:only-of-type {\n",
       "        vertical-align: middle;\n",
       "    }\n",
       "\n",
       "    .dataframe tbody tr th {\n",
       "        vertical-align: top;\n",
       "    }\n",
       "\n",
       "    .dataframe thead th {\n",
       "        text-align: right;\n",
       "    }\n",
       "</style>\n",
       "<table border=\"1\" class=\"dataframe\">\n",
       "  <thead>\n",
       "    <tr style=\"text-align: right;\">\n",
       "      <th></th>\n",
       "      <th>reward</th>\n",
       "      <th>actions</th>\n",
       "      <th>seed</th>\n",
       "      <th>runtime</th>\n",
       "      <th>true_reward</th>\n",
       "      <th>expected_reward</th>\n",
       "    </tr>\n",
       "  </thead>\n",
       "  <tbody>\n",
       "    <tr>\n",
       "      <th>mean</th>\n",
       "      <td>4.004477</td>\n",
       "      <td>5.800000</td>\n",
       "      <td>15.50000</td>\n",
       "      <td>0.429688</td>\n",
       "      <td>4.004477</td>\n",
       "      <td>3.691934</td>\n",
       "    </tr>\n",
       "    <tr>\n",
       "      <th>std</th>\n",
       "      <td>0.456692</td>\n",
       "      <td>0.421637</td>\n",
       "      <td>3.02765</td>\n",
       "      <td>0.042473</td>\n",
       "      <td>0.456692</td>\n",
       "      <td>0.091003</td>\n",
       "    </tr>\n",
       "  </tbody>\n",
       "</table>\n",
       "</div>"
      ],
      "text/plain": [
       "        reward   actions      seed   runtime  true_reward  expected_reward\n",
       "mean  4.004477  5.800000  15.50000  0.429688     4.004477         3.691934\n",
       "std   0.456692  0.421637   3.02765  0.042473     0.456692         0.091003"
      ]
     },
     "execution_count": 4,
     "metadata": {},
     "output_type": "execute_result"
    }
   ],
   "source": [
    "voc_policy = JAS_voc_policy(discrete_observations=False, cost_weight=0.2)\n",
    "res = run_simulation(env, voc_policy, start_seed=11, n=10)\n",
    "print(len(res))\n",
    "res.agg([\"mean\", \"std\"])"
   ]
  },
  {
   "cell_type": "code",
   "execution_count": 14,
   "metadata": {},
   "outputs": [
    {
     "name": "stderr",
     "output_type": "stream",
     "text": [
      "100%|██████████| 200/200 [05:26<00:00,  1.63s/it]\n"
     ]
    },
    {
     "data": {
      "text/html": [
       "<div>\n",
       "<style scoped>\n",
       "    .dataframe tbody tr th:only-of-type {\n",
       "        vertical-align: middle;\n",
       "    }\n",
       "\n",
       "    .dataframe tbody tr th {\n",
       "        vertical-align: top;\n",
       "    }\n",
       "\n",
       "    .dataframe thead th {\n",
       "        text-align: right;\n",
       "    }\n",
       "</style>\n",
       "<table border=\"1\" class=\"dataframe\">\n",
       "  <thead>\n",
       "    <tr style=\"text-align: right;\">\n",
       "      <th></th>\n",
       "      <th>reward</th>\n",
       "      <th>expected_reward</th>\n",
       "      <th>actions</th>\n",
       "    </tr>\n",
       "  </thead>\n",
       "  <tbody>\n",
       "    <tr>\n",
       "      <th>mean</th>\n",
       "      <td>4.108619</td>\n",
       "      <td>3.764095</td>\n",
       "      <td>8.095000</td>\n",
       "    </tr>\n",
       "    <tr>\n",
       "      <th>std</th>\n",
       "      <td>0.686664</td>\n",
       "      <td>0.151127</td>\n",
       "      <td>5.028159</td>\n",
       "    </tr>\n",
       "  </tbody>\n",
       "</table>\n",
       "</div>"
      ],
      "text/plain": [
       "        reward  expected_reward   actions\n",
       "mean  4.108619         3.764095  8.095000\n",
       "std   0.686664         0.151127  5.028159"
      ]
     },
     "execution_count": 14,
     "metadata": {},
     "output_type": "execute_result"
    }
   ],
   "source": [
    "voc_policy = JAS_voc_policy(discrete_observations=True, cost_weight=0.05)\n",
    "res = run_simulation(env, voc_policy, start_seed=1, n=200)\n",
    "res.agg([\"mean\", \"std\"])[[\"reward\", \"expected_reward\", \"actions\"]]"
   ]
  },
  {
   "cell_type": "code",
   "execution_count": 5,
   "metadata": {},
   "outputs": [
    {
     "name": "stderr",
     "output_type": "stream",
     "text": [
      "100%|██████████| 5/5 [00:07<00:00,  1.41s/it]\n"
     ]
    },
    {
     "data": {
      "text/plain": [
       "(3.7755826824732823, 3.906706417934256)"
      ]
     },
     "execution_count": 5,
     "metadata": {},
     "output_type": "execute_result"
    }
   ],
   "source": [
    "voc_policy = JAS_voc_policy(discrete_observations=True, discrete_depth=1, cost_weight=0.5)\n",
    "res = run_simulation(env, voc_policy, start_seed=0, n=5)\n",
    "res[\"expected_reward\"].mean(), res[\"true_reward\"].mean()"
   ]
  },
  {
   "cell_type": "code",
   "execution_count": 9,
   "metadata": {},
   "outputs": [
    {
     "name": "stderr",
     "output_type": "stream",
     "text": [
      "100%|██████████| 100/100 [01:30<00:00,  1.11it/s]\n"
     ]
    },
    {
     "name": "stdout",
     "output_type": "stream",
     "text": [
      "[[0.12696983]] 3.724207883724077 4.070134490293525\n"
     ]
    },
    {
     "name": "stderr",
     "output_type": "stream",
     "text": [
      "100%|██████████| 100/100 [01:07<00:00,  1.49it/s]\n"
     ]
    },
    {
     "name": "stdout",
     "output_type": "stream",
     "text": [
      "[[0.96671784]] 3.697812200549826 3.908535886070014\n"
     ]
    },
    {
     "name": "stderr",
     "output_type": "stream",
     "text": [
      "100%|██████████| 100/100 [01:43<00:00,  1.04s/it]\n"
     ]
    },
    {
     "name": "stdout",
     "output_type": "stream",
     "text": [
      "[[0.26047601]] 3.724207883724077 4.070134490293525\n"
     ]
    },
    {
     "name": "stderr",
     "output_type": "stream",
     "text": [
      "100%|██████████| 100/100 [01:07<00:00,  1.47it/s]\n"
     ]
    },
    {
     "name": "stdout",
     "output_type": "stream",
     "text": [
      "[[0.89723652]] 3.710102061875902 3.9111677790802046\n"
     ]
    },
    {
     "name": "stderr",
     "output_type": "stream",
     "text": [
      "100%|██████████| 100/100 [01:57<00:00,  1.17s/it]\n"
     ]
    },
    {
     "name": "stdout",
     "output_type": "stream",
     "text": [
      "[[0.37674972]] 3.7255179983427116 4.070154490293525\n"
     ]
    },
    {
     "name": "stderr",
     "output_type": "stream",
     "text": [
      "100%|██████████| 100/100 [01:29<00:00,  1.12it/s]\n"
     ]
    },
    {
     "name": "stdout",
     "output_type": "stream",
     "text": [
      "[[0.47311062]] 3.7255179983427116 4.070154490293525\n",
      "num acquisition: 1, time elapsed: 89.44s\n"
     ]
    },
    {
     "name": "stderr",
     "output_type": "stream",
     "text": [
      "100%|██████████| 100/100 [01:26<00:00,  1.15it/s]\n"
     ]
    },
    {
     "name": "stdout",
     "output_type": "stream",
     "text": [
      "[[0.67200542]] 3.727468146613378 4.069332059829\n",
      "num acquisition: 2, time elapsed: 176.58s\n"
     ]
    },
    {
     "name": "stderr",
     "output_type": "stream",
     "text": [
      "100%|██████████| 100/100 [01:49<00:00,  1.09s/it]\n"
     ]
    },
    {
     "name": "stdout",
     "output_type": "stream",
     "text": [
      "[[0.]] 3.724987304732433 4.068574490293525\n",
      "num acquisition: 3, time elapsed: 286.16s\n"
     ]
    },
    {
     "name": "stderr",
     "output_type": "stream",
     "text": [
      "100%|██████████| 100/100 [01:27<00:00,  1.15it/s]\n"
     ]
    },
    {
     "name": "stdout",
     "output_type": "stream",
     "text": [
      "[[0.6245991]] 3.727468146613378 4.069332059829\n",
      "num acquisition: 4, time elapsed: 373.59s\n"
     ]
    },
    {
     "name": "stderr",
     "output_type": "stream",
     "text": [
      "100%|██████████| 100/100 [01:24<00:00,  1.18it/s]\n"
     ]
    },
    {
     "name": "stdout",
     "output_type": "stream",
     "text": [
      "[[0.64888298]] 3.727468146613378 4.069332059829\n",
      "num acquisition: 5, time elapsed: 458.52s\n"
     ]
    },
    {
     "name": "stderr",
     "output_type": "stream",
     "text": [
      "100%|██████████| 100/100 [01:25<00:00,  1.17it/s]\n"
     ]
    },
    {
     "name": "stdout",
     "output_type": "stream",
     "text": [
      "[[0.7146829]] 3.727468146613378 4.069332059829\n",
      "num acquisition: 6, time elapsed: 544.00s\n"
     ]
    },
    {
     "name": "stderr",
     "output_type": "stream",
     "text": [
      "100%|██████████| 100/100 [01:42<00:00,  1.02s/it]\n"
     ]
    },
    {
     "name": "stdout",
     "output_type": "stream",
     "text": [
      "[[0.57989214]] 3.7279183459353766 4.0693120598290005\n",
      "num acquisition: 7, time elapsed: 646.66s\n"
     ]
    },
    {
     "name": "stderr",
     "output_type": "stream",
     "text": [
      "100%|██████████| 100/100 [01:24<00:00,  1.19it/s]\n"
     ]
    },
    {
     "name": "stdout",
     "output_type": "stream",
     "text": [
      "[[0.55707598]] 3.7279183459353766 4.0693120598290005\n",
      "num acquisition: 8, time elapsed: 730.97s\n"
     ]
    },
    {
     "name": "stderr",
     "output_type": "stream",
     "text": [
      "100%|██████████| 100/100 [01:25<00:00,  1.18it/s]\n"
     ]
    },
    {
     "name": "stdout",
     "output_type": "stream",
     "text": [
      "[[0.56805]] 3.7279183459353766 4.0693120598290005\n",
      "num acquisition: 9, time elapsed: 816.21s\n"
     ]
    },
    {
     "name": "stderr",
     "output_type": "stream",
     "text": [
      "100%|██████████| 100/100 [01:29<00:00,  1.12it/s]\n"
     ]
    },
    {
     "name": "stdout",
     "output_type": "stream",
     "text": [
      "[[0.76120514]] 3.727468146613378 4.069332059829\n",
      "num acquisition: 10, time elapsed: 905.55s\n"
     ]
    },
    {
     "name": "stderr",
     "output_type": "stream",
     "text": [
      "100%|██████████| 100/100 [01:28<00:00,  1.13it/s]\n"
     ]
    },
    {
     "name": "stdout",
     "output_type": "stream",
     "text": [
      "[[0.05591745]] 3.724207883724077 4.070134490293525\n",
      "num acquisition: 11, time elapsed: 994.50s\n"
     ]
    },
    {
     "name": "stderr",
     "output_type": "stream",
     "text": [
      "100%|██████████| 100/100 [01:24<00:00,  1.19it/s]\n"
     ]
    },
    {
     "name": "stdout",
     "output_type": "stream",
     "text": [
      "[[0.53539444]] 3.7279183459353766 4.0693120598290005\n",
      "num acquisition: 12, time elapsed: 1079.02s\n"
     ]
    },
    {
     "name": "stderr",
     "output_type": "stream",
     "text": [
      "100%|██████████| 100/100 [01:26<00:00,  1.16it/s]\n"
     ]
    },
    {
     "name": "stdout",
     "output_type": "stream",
     "text": [
      "[[0.32436357]] 3.724207883724077 4.070134490293525\n",
      "num acquisition: 13, time elapsed: 1165.69s\n"
     ]
    },
    {
     "name": "stderr",
     "output_type": "stream",
     "text": [
      "100%|██████████| 100/100 [01:27<00:00,  1.14it/s]\n"
     ]
    },
    {
     "name": "stdout",
     "output_type": "stream",
     "text": [
      "[[0.54433833]] 3.7279183459353766 4.0693120598290005\n",
      "num acquisition: 14, time elapsed: 1253.47s\n"
     ]
    },
    {
     "name": "stderr",
     "output_type": "stream",
     "text": [
      "100%|██████████| 100/100 [01:26<00:00,  1.16it/s]\n"
     ]
    },
    {
     "name": "stdout",
     "output_type": "stream",
     "text": [
      "[[0.74131477]] 3.727468146613378 4.069332059829\n",
      "num acquisition: 15, time elapsed: 1339.72s\n"
     ]
    },
    {
     "name": "stderr",
     "output_type": "stream",
     "text": [
      "100%|██████████| 100/100 [01:33<00:00,  1.07it/s]\n"
     ]
    },
    {
     "name": "stdout",
     "output_type": "stream",
     "text": [
      "[[0.19383891]] 3.724207883724077 4.070134490293525\n",
      "num acquisition: 16, time elapsed: 1433.42s\n"
     ]
    },
    {
     "name": "stderr",
     "output_type": "stream",
     "text": [
      "100%|██████████| 100/100 [01:25<00:00,  1.17it/s]\n"
     ]
    },
    {
     "name": "stdout",
     "output_type": "stream",
     "text": [
      "[[0.79411071]] 3.727468146613378 4.069332059829\n",
      "num acquisition: 17, time elapsed: 1518.81s\n"
     ]
    },
    {
     "name": "stderr",
     "output_type": "stream",
     "text": [
      "100%|██████████| 100/100 [01:24<00:00,  1.18it/s]\n"
     ]
    },
    {
     "name": "stdout",
     "output_type": "stream",
     "text": [
      "[[0.59414769]] 3.7279183459353766 4.0693120598290005\n",
      "num acquisition: 18, time elapsed: 1603.55s\n"
     ]
    },
    {
     "name": "stderr",
     "output_type": "stream",
     "text": [
      "100%|██████████| 100/100 [01:32<00:00,  1.09it/s]\n"
     ]
    },
    {
     "name": "stdout",
     "output_type": "stream",
     "text": [
      "[[0.5204079]] 3.7279183459353766 4.0693120598290005\n",
      "num acquisition: 19, time elapsed: 1695.77s\n"
     ]
    },
    {
     "name": "stderr",
     "output_type": "stream",
     "text": [
      "100%|██████████| 100/100 [01:27<00:00,  1.15it/s]\n"
     ]
    },
    {
     "name": "stdout",
     "output_type": "stream",
     "text": [
      "[[0.52679033]] 3.7279183459353766 4.0693120598290005\n",
      "num acquisition: 20, time elapsed: 1783.20s\n"
     ]
    },
    {
     "name": "stderr",
     "output_type": "stream",
     "text": [
      "100%|██████████| 100/100 [01:41<00:00,  1.02s/it]\n"
     ]
    },
    {
     "name": "stdout",
     "output_type": "stream",
     "text": [
      "[[0.50954796]] 3.7255179983427116 4.070154490293525\n",
      "num acquisition: 21, time elapsed: 1885.26s\n"
     ]
    },
    {
     "name": "stderr",
     "output_type": "stream",
     "text": [
      "100%|██████████| 100/100 [01:36<00:00,  1.04it/s]\n"
     ]
    },
    {
     "name": "stdout",
     "output_type": "stream",
     "text": [
      "[[0.43211513]] 3.7255179983427116 4.070154490293525\n",
      "num acquisition: 22, time elapsed: 1981.89s\n"
     ]
    },
    {
     "name": "stderr",
     "output_type": "stream",
     "text": [
      "100%|██████████| 100/100 [01:24<00:00,  1.18it/s]\n"
     ]
    },
    {
     "name": "stdout",
     "output_type": "stream",
     "text": [
      "[[0.82460616]] 3.727468146613378 4.069332059829\n",
      "num acquisition: 23, time elapsed: 2066.63s\n"
     ]
    },
    {
     "name": "stderr",
     "output_type": "stream",
     "text": [
      "100%|██████████| 100/100 [01:25<00:00,  1.17it/s]\n"
     ]
    },
    {
     "name": "stdout",
     "output_type": "stream",
     "text": [
      "[[0.69363157]] 3.727468146613378 4.069332059829\n",
      "num acquisition: 24, time elapsed: 2152.13s\n"
     ]
    },
    {
     "name": "stderr",
     "output_type": "stream",
     "text": [
      "100%|██████████| 100/100 [01:24<00:00,  1.18it/s]"
     ]
    },
    {
     "name": "stdout",
     "output_type": "stream",
     "text": [
      "[[0.81104956]] 3.727468146613378 4.069332059829\n",
      "num acquisition: 25, time elapsed: 2236.83s\n",
      "\n",
      "Seconds: 2682.9701557159424\n",
      "Weights: 0.5798921379230035\n"
     ]
    },
    {
     "name": "stderr",
     "output_type": "stream",
     "text": [
      "\n"
     ]
    }
   ],
   "source": [
    "n_eval = 100\n",
    "restarts = 5\n",
    "steps = 25\n",
    "\n",
    "def blackbox(W):\n",
    "    voc_policy = JAS_voc_policy(discrete_observations=True, cost_weight=W[0,0])\n",
    "    res = run_simulation(env, voc_policy, start_seed=0, n=n_eval)\n",
    "    print(W, res[\"expected_reward\"].mean(), res[\"true_reward\"].mean())\n",
    "    return - (res[\"expected_reward\"].mean())\n",
    "    \n",
    "np.random.seed(123456)\n",
    "\n",
    "space = [{'name': 'cost_weight', 'type': 'continuous', 'domain': (0,1)}]\n",
    "feasible_region = GPyOpt.Design_space(space = space)\n",
    "initial_design = GPyOpt.experiment_design.initial_design('random', feasible_region, restarts)\n",
    "objective = GPyOpt.core.task.SingleObjective(blackbox)\n",
    "model = GPyOpt.models.GPModel(exact_feval=True,optimize_restarts=restarts,verbose=False)\n",
    "aquisition_optimizer = GPyOpt.optimization.AcquisitionOptimizer(feasible_region)\n",
    "acquisition = GPyOpt.acquisitions.AcquisitionEI(model, feasible_region, optimizer=aquisition_optimizer)\n",
    "evaluator = GPyOpt.core.evaluators.Sequential(acquisition)\n",
    "bo = GPyOpt.methods.ModularBayesianOptimization(model, feasible_region, objective, acquisition, evaluator, initial_design)\n",
    "\n",
    "# --- Stop conditions\n",
    "max_time  = None\n",
    "tolerance = 1e-6     # distance between two consecutive observations        \n",
    "\n",
    "# Run the optimization\n",
    "max_iter  = steps\n",
    "time_start = time.time()\n",
    "train_tic = time_start\n",
    "bo.run_optimization(max_iter = max_iter, max_time = max_time, eps = tolerance, verbosity=True)\n",
    "\n",
    "W = np.array([bo.x_opt])[0,0]\n",
    "train_toc = time.time()\n",
    "\n",
    "print(\"\\nSeconds:\", train_toc-train_tic)\n",
    "print(\"Weights:\", W)"
   ]
  },
  {
   "cell_type": "code",
   "execution_count": 10,
   "metadata": {},
   "outputs": [
    {
     "name": "stderr",
     "output_type": "stream",
     "text": [
      "100%|██████████| 100/100 [00:47<00:00,  2.11it/s]\n"
     ]
    },
    {
     "name": "stdout",
     "output_type": "stream",
     "text": [
      "[[0.12696983]] 3.676248754431715 3.980543353129198\n"
     ]
    },
    {
     "name": "stderr",
     "output_type": "stream",
     "text": [
      "100%|██████████| 100/100 [00:09<00:00, 10.48it/s]\n"
     ]
    },
    {
     "name": "stdout",
     "output_type": "stream",
     "text": [
      "[[0.96671784]] 3.401163603333332 3.427881016653363\n"
     ]
    },
    {
     "name": "stderr",
     "output_type": "stream",
     "text": [
      "100%|██████████| 100/100 [00:47<00:00,  2.12it/s]\n"
     ]
    },
    {
     "name": "stdout",
     "output_type": "stream",
     "text": [
      "[[0.26047601]] 3.674949194754314 3.9563924001589132\n"
     ]
    },
    {
     "name": "stderr",
     "output_type": "stream",
     "text": [
      "100%|██████████| 100/100 [00:26<00:00,  3.71it/s]\n"
     ]
    },
    {
     "name": "stdout",
     "output_type": "stream",
     "text": [
      "[[0.89723652]] 3.609530310377128 3.7818315316172058\n"
     ]
    },
    {
     "name": "stderr",
     "output_type": "stream",
     "text": [
      "100%|██████████| 100/100 [00:32<00:00,  3.07it/s]\n"
     ]
    },
    {
     "name": "stdout",
     "output_type": "stream",
     "text": [
      "[[0.37674972]] 3.660518961665437 3.935935431461447\n"
     ]
    },
    {
     "name": "stderr",
     "output_type": "stream",
     "text": [
      "100%|██████████| 100/100 [00:47<00:00,  2.09it/s]\n"
     ]
    },
    {
     "name": "stdout",
     "output_type": "stream",
     "text": [
      "[[0.1339241]] 3.676248754431715 3.980543353129198\n",
      "num acquisition: 1, time elapsed: 48.20s\n"
     ]
    },
    {
     "name": "stderr",
     "output_type": "stream",
     "text": [
      "100%|██████████| 100/100 [00:32<00:00,  3.05it/s]\n"
     ]
    },
    {
     "name": "stdout",
     "output_type": "stream",
     "text": [
      "[[0.31461843]] 3.660518961665437 3.935935431461447\n",
      "num acquisition: 2, time elapsed: 81.21s\n"
     ]
    },
    {
     "name": "stderr",
     "output_type": "stream",
     "text": [
      "100%|██████████| 100/100 [00:36<00:00,  2.77it/s]\n"
     ]
    },
    {
     "name": "stdout",
     "output_type": "stream",
     "text": [
      "[[0.71270421]] 3.6632919816020277 3.935955431461447\n",
      "num acquisition: 3, time elapsed: 117.65s\n"
     ]
    },
    {
     "name": "stderr",
     "output_type": "stream",
     "text": [
      "100%|██████████| 100/100 [00:32<00:00,  3.11it/s]\n"
     ]
    },
    {
     "name": "stdout",
     "output_type": "stream",
     "text": [
      "[[0.81258036]] 3.6625574381605905 3.9359754314614475\n",
      "num acquisition: 4, time elapsed: 150.03s\n"
     ]
    },
    {
     "name": "stderr",
     "output_type": "stream",
     "text": [
      "100%|██████████| 100/100 [00:31<00:00,  3.13it/s]\n"
     ]
    },
    {
     "name": "stdout",
     "output_type": "stream",
     "text": [
      "[[0.55772447]] 3.660518961665437 3.935935431461447\n",
      "num acquisition: 5, time elapsed: 182.09s\n"
     ]
    },
    {
     "name": "stderr",
     "output_type": "stream",
     "text": [
      "100%|██████████| 100/100 [00:47<00:00,  2.11it/s]\n"
     ]
    },
    {
     "name": "stdout",
     "output_type": "stream",
     "text": [
      "[[0.]] 3.6762287544317154 3.9805233531291977\n",
      "num acquisition: 6, time elapsed: 229.63s\n"
     ]
    },
    {
     "name": "stderr",
     "output_type": "stream",
     "text": [
      "100%|██████████| 100/100 [00:32<00:00,  3.04it/s]\n"
     ]
    },
    {
     "name": "stdout",
     "output_type": "stream",
     "text": [
      "[[0.4693162]] 3.660518961665437 3.935935431461447\n",
      "num acquisition: 7, time elapsed: 262.66s\n"
     ]
    },
    {
     "name": "stderr",
     "output_type": "stream",
     "text": [
      "100%|██████████| 100/100 [00:33<00:00,  3.00it/s]\n"
     ]
    },
    {
     "name": "stdout",
     "output_type": "stream",
     "text": [
      "[[0.63824016]] 3.6632919816020277 3.935955431461447\n",
      "num acquisition: 8, time elapsed: 296.12s\n"
     ]
    },
    {
     "name": "stderr",
     "output_type": "stream",
     "text": [
      "100%|██████████| 100/100 [00:51<00:00,  1.96it/s]\n"
     ]
    },
    {
     "name": "stdout",
     "output_type": "stream",
     "text": [
      "[[0.20818603]] 3.674949194754314 3.9563924001589132\n",
      "num acquisition: 9, time elapsed: 347.47s\n"
     ]
    },
    {
     "name": "stderr",
     "output_type": "stream",
     "text": [
      "100%|██████████| 100/100 [00:51<00:00,  1.93it/s]\n"
     ]
    },
    {
     "name": "stdout",
     "output_type": "stream",
     "text": [
      "[[0.04652745]] 3.6762287544317154 3.9805233531291977\n",
      "num acquisition: 10, time elapsed: 399.63s\n"
     ]
    },
    {
     "name": "stderr",
     "output_type": "stream",
     "text": [
      "100%|██████████| 100/100 [00:50<00:00,  1.98it/s]\n"
     ]
    },
    {
     "name": "stdout",
     "output_type": "stream",
     "text": [
      "[[0.08050494]] 3.676248754431715 3.980543353129198\n",
      "num acquisition: 11, time elapsed: 450.49s\n"
     ]
    },
    {
     "name": "stderr",
     "output_type": "stream",
     "text": [
      "100%|██████████| 100/100 [00:54<00:00,  1.83it/s]\n"
     ]
    },
    {
     "name": "stdout",
     "output_type": "stream",
     "text": [
      "[[0.23739048]] 3.674949194754314 3.9563924001589132\n",
      "num acquisition: 12, time elapsed: 505.45s\n"
     ]
    },
    {
     "name": "stderr",
     "output_type": "stream",
     "text": [
      "100%|██████████| 100/100 [00:55<00:00,  1.81it/s]\n"
     ]
    },
    {
     "name": "stdout",
     "output_type": "stream",
     "text": [
      "[[0.01927985]] 3.6762287544317154 3.9805233531291977\n",
      "num acquisition: 13, time elapsed: 560.96s\n"
     ]
    },
    {
     "name": "stderr",
     "output_type": "stream",
     "text": [
      "100%|██████████| 100/100 [00:47<00:00,  2.08it/s]\n"
     ]
    },
    {
     "name": "stdout",
     "output_type": "stream",
     "text": [
      "[[0.16962991]] 3.674949194754314 3.9563924001589132\n",
      "num acquisition: 14, time elapsed: 609.17s\n"
     ]
    },
    {
     "name": "stderr",
     "output_type": "stream",
     "text": [
      "100%|██████████| 100/100 [00:55<00:00,  1.80it/s]\n"
     ]
    },
    {
     "name": "stdout",
     "output_type": "stream",
     "text": [
      "[[0.1010973]] 3.676248754431715 3.980543353129198\n",
      "num acquisition: 15, time elapsed: 665.10s\n"
     ]
    },
    {
     "name": "stderr",
     "output_type": "stream",
     "text": [
      "100%|██████████| 100/100 [00:56<00:00,  1.77it/s]\n"
     ]
    },
    {
     "name": "stdout",
     "output_type": "stream",
     "text": [
      "[[0.06312374]] 3.6762287544317154 3.9805233531291977\n",
      "num acquisition: 16, time elapsed: 722.09s\n"
     ]
    },
    {
     "name": "stderr",
     "output_type": "stream",
     "text": [
      "100%|██████████| 100/100 [00:36<00:00,  2.72it/s]\n"
     ]
    },
    {
     "name": "stdout",
     "output_type": "stream",
     "text": [
      "[[0.76218301]] 3.6632919816020277 3.935955431461447\n",
      "num acquisition: 17, time elapsed: 759.12s\n"
     ]
    },
    {
     "name": "stderr",
     "output_type": "stream",
     "text": [
      " 67%|██████▋   | 67/100 [00:27<00:12,  2.64it/s]"
     ]
    }
   ],
   "source": [
    "n_eval = 100\n",
    "restarts = 5\n",
    "steps = 25\n",
    "\n",
    "def blackbox(W):\n",
    "    voc_policy = JAS_voc_policy(discrete_observations=False, cost_weight=W[0,0])\n",
    "    res = run_simulation(env, voc_policy, start_seed=0, n=n_eval)\n",
    "    print(W, res[\"expected_reward\"].mean(), res[\"true_reward\"].mean())\n",
    "    return - (res[\"expected_reward\"].mean())\n",
    "    \n",
    "np.random.seed(123456)\n",
    "\n",
    "space = [{'name': 'cost_weight', 'type': 'continuous', 'domain': (0,1)}]\n",
    "feasible_region = GPyOpt.Design_space(space = space)\n",
    "initial_design = GPyOpt.experiment_design.initial_design('random', feasible_region, restarts)\n",
    "objective = GPyOpt.core.task.SingleObjective(blackbox)\n",
    "model = GPyOpt.models.GPModel(exact_feval=True,optimize_restarts=restarts,verbose=False)\n",
    "aquisition_optimizer = GPyOpt.optimization.AcquisitionOptimizer(feasible_region)\n",
    "acquisition = GPyOpt.acquisitions.AcquisitionEI(model, feasible_region, optimizer=aquisition_optimizer)\n",
    "evaluator = GPyOpt.core.evaluators.Sequential(acquisition)\n",
    "bo = GPyOpt.methods.ModularBayesianOptimization(model, feasible_region, objective, acquisition, evaluator, initial_design)\n",
    "\n",
    "# --- Stop conditions\n",
    "max_time  = None\n",
    "tolerance = 1e-6     # distance between two consecutive observations        \n",
    "\n",
    "# Run the optimization\n",
    "max_iter  = steps\n",
    "time_start = time.time()\n",
    "train_tic = time_start\n",
    "bo.run_optimization(max_iter = max_iter, max_time = max_time, eps = tolerance, verbosity=True)\n",
    "\n",
    "W = np.array([bo.x_opt])[0,0]\n",
    "train_toc = time.time()\n",
    "\n",
    "print(\"\\nSeconds:\", train_toc-train_tic)\n",
    "print(\"Weights:\", W)"
   ]
  },
  {
   "cell_type": "code",
   "execution_count": 9,
   "metadata": {},
   "outputs": [],
   "source": [
    "# Run comparisons between discrete VOC calculation for different versions of the environment\n",
    "\n",
    "def compare(config, n=100, seed=0):\n",
    "    env = MouselabJas(config=config)\n",
    "    voc_policy_disc = JAS_voc_policy(discrete_observations=True)\n",
    "    voc_policy_disc_1 = JAS_voc_policy(discrete_observations=True, discrete_depth=1)\n",
    "    #voc_policy_disc_2 = JAS_voc_policy(discrete_observations=True, discrete_depth=2)\n",
    "    voc_policy = JAS_voc_policy(discrete_observations=False)\n",
    "    res_voc = run_simulation(env, voc_policy, start_seed=seed, n=n)\n",
    "    res_voc[\"algorithm\"] = \"MGPO_cont\"\n",
    "    res_voc_disc = run_simulation(env, voc_policy_disc, start_seed=seed, n=n)\n",
    "    res_voc_disc[\"algorithm\"] = \"MGPO_disc_old\"\n",
    "    res_voc_disc1 = run_simulation(env, voc_policy_disc_1, start_seed=seed, n=n)\n",
    "    res_voc_disc1[\"algorithm\"] = \"MGPO_disc_d1\"\n",
    "    # res_voc_disc2 = run_simulation(env, voc_policy_disc_2, start_seed=seed, n=n)\n",
    "    # res_voc_disc2[\"algorithm\"] = \"MGPO_disc_d2\"\n",
    "    res = pd.concat([res_voc, res_voc_disc, res_voc_disc1])\n",
    "    return res"
   ]
  },
  {
   "cell_type": "code",
   "execution_count": 11,
   "metadata": {},
   "outputs": [
    {
     "name": "stderr",
     "output_type": "stream",
     "text": [
      "100%|██████████| 100/100 [06:59<00:00,  4.19s/it]\n",
      "100%|██████████| 100/100 [04:09<00:00,  2.50s/it]\n",
      "100%|██████████| 100/100 [05:18<00:00,  3.18s/it]\n"
     ]
    },
    {
     "data": {
      "text/html": [
       "<div>\n",
       "<style scoped>\n",
       "    .dataframe tbody tr th:only-of-type {\n",
       "        vertical-align: middle;\n",
       "    }\n",
       "\n",
       "    .dataframe tbody tr th {\n",
       "        vertical-align: top;\n",
       "    }\n",
       "\n",
       "    .dataframe thead tr th {\n",
       "        text-align: left;\n",
       "    }\n",
       "\n",
       "    .dataframe thead tr:last-of-type th {\n",
       "        text-align: right;\n",
       "    }\n",
       "</style>\n",
       "<table border=\"1\" class=\"dataframe\">\n",
       "  <thead>\n",
       "    <tr>\n",
       "      <th></th>\n",
       "      <th colspan=\"2\" halign=\"left\">reward</th>\n",
       "      <th colspan=\"2\" halign=\"left\">actions</th>\n",
       "      <th colspan=\"2\" halign=\"left\">seed</th>\n",
       "      <th colspan=\"2\" halign=\"left\">runtime</th>\n",
       "      <th colspan=\"2\" halign=\"left\">true_reward</th>\n",
       "      <th colspan=\"2\" halign=\"left\">expected_reward</th>\n",
       "    </tr>\n",
       "    <tr>\n",
       "      <th></th>\n",
       "      <th>mean</th>\n",
       "      <th>std</th>\n",
       "      <th>mean</th>\n",
       "      <th>std</th>\n",
       "      <th>mean</th>\n",
       "      <th>std</th>\n",
       "      <th>mean</th>\n",
       "      <th>std</th>\n",
       "      <th>mean</th>\n",
       "      <th>std</th>\n",
       "      <th>mean</th>\n",
       "      <th>std</th>\n",
       "    </tr>\n",
       "    <tr>\n",
       "      <th>algorithm</th>\n",
       "      <th></th>\n",
       "      <th></th>\n",
       "      <th></th>\n",
       "      <th></th>\n",
       "      <th></th>\n",
       "      <th></th>\n",
       "      <th></th>\n",
       "      <th></th>\n",
       "      <th></th>\n",
       "      <th></th>\n",
       "      <th></th>\n",
       "      <th></th>\n",
       "    </tr>\n",
       "  </thead>\n",
       "  <tbody>\n",
       "    <tr>\n",
       "      <th>MGPO_cont</th>\n",
       "      <td>21.887407</td>\n",
       "      <td>2.908221</td>\n",
       "      <td>30.15</td>\n",
       "      <td>14.275341</td>\n",
       "      <td>49.5</td>\n",
       "      <td>29.011492</td>\n",
       "      <td>4.151562</td>\n",
       "      <td>1.942538</td>\n",
       "      <td>21.887407</td>\n",
       "      <td>2.908221</td>\n",
       "      <td>21.026890</td>\n",
       "      <td>0.879394</td>\n",
       "    </tr>\n",
       "    <tr>\n",
       "      <th>MGPO_disc_d1</th>\n",
       "      <td>20.614276</td>\n",
       "      <td>2.748784</td>\n",
       "      <td>14.25</td>\n",
       "      <td>9.016679</td>\n",
       "      <td>49.5</td>\n",
       "      <td>29.011492</td>\n",
       "      <td>3.147656</td>\n",
       "      <td>1.867932</td>\n",
       "      <td>20.614276</td>\n",
       "      <td>2.748784</td>\n",
       "      <td>20.799079</td>\n",
       "      <td>0.560703</td>\n",
       "    </tr>\n",
       "    <tr>\n",
       "      <th>MGPO_disc_old</th>\n",
       "      <td>20.493104</td>\n",
       "      <td>3.214186</td>\n",
       "      <td>10.08</td>\n",
       "      <td>6.201466</td>\n",
       "      <td>49.5</td>\n",
       "      <td>29.011492</td>\n",
       "      <td>2.476406</td>\n",
       "      <td>1.532426</td>\n",
       "      <td>20.493104</td>\n",
       "      <td>3.214186</td>\n",
       "      <td>20.645934</td>\n",
       "      <td>0.470721</td>\n",
       "    </tr>\n",
       "  </tbody>\n",
       "</table>\n",
       "</div>"
      ],
      "text/plain": [
       "                  reward           actions             seed             \\\n",
       "                    mean       std    mean        std  mean        std   \n",
       "algorithm                                                                \n",
       "MGPO_cont      21.887407  2.908221   30.15  14.275341  49.5  29.011492   \n",
       "MGPO_disc_d1   20.614276  2.748784   14.25   9.016679  49.5  29.011492   \n",
       "MGPO_disc_old  20.493104  3.214186   10.08   6.201466  49.5  29.011492   \n",
       "\n",
       "                runtime           true_reward           expected_reward  \\\n",
       "                   mean       std        mean       std            mean   \n",
       "algorithm                                                                 \n",
       "MGPO_cont      4.151562  1.942538   21.887407  2.908221       21.026890   \n",
       "MGPO_disc_d1   3.147656  1.867932   20.614276  2.748784       20.799079   \n",
       "MGPO_disc_old  2.476406  1.532426   20.493104  3.214186       20.645934   \n",
       "\n",
       "                         \n",
       "                    std  \n",
       "algorithm                \n",
       "MGPO_cont      0.879394  \n",
       "MGPO_disc_d1   0.560703  \n",
       "MGPO_disc_old  0.470721  "
      ]
     },
     "execution_count": 11,
     "metadata": {},
     "output_type": "execute_result"
    }
   ],
   "source": [
    "# Standard setup\n",
    "config = MouselabConfig(num_projects=num_projects, num_criterias=num_criteria, expert_costs=expert_costs, expert_taus=expert_taus, init=init, criteria_scale=[1 for weight in weights], term_belief=False)\n",
    "res = compare(config, n=100)\n",
    "res.groupby(\"algorithm\").agg([\"mean\", \"std\"])"
   ]
  },
  {
   "cell_type": "code",
   "execution_count": 12,
   "metadata": {},
   "outputs": [
    {
     "data": {
      "text/html": [
       "<div>\n",
       "<style scoped>\n",
       "    .dataframe tbody tr th:only-of-type {\n",
       "        vertical-align: middle;\n",
       "    }\n",
       "\n",
       "    .dataframe tbody tr th {\n",
       "        vertical-align: top;\n",
       "    }\n",
       "\n",
       "    .dataframe thead tr th {\n",
       "        text-align: left;\n",
       "    }\n",
       "\n",
       "    .dataframe thead tr:last-of-type th {\n",
       "        text-align: right;\n",
       "    }\n",
       "</style>\n",
       "<table border=\"1\" class=\"dataframe\">\n",
       "  <thead>\n",
       "    <tr>\n",
       "      <th></th>\n",
       "      <th colspan=\"2\" halign=\"left\">expected_reward</th>\n",
       "      <th colspan=\"2\" halign=\"left\">true_reward</th>\n",
       "    </tr>\n",
       "    <tr>\n",
       "      <th></th>\n",
       "      <th>mean</th>\n",
       "      <th>std</th>\n",
       "      <th>mean</th>\n",
       "      <th>std</th>\n",
       "    </tr>\n",
       "    <tr>\n",
       "      <th>algorithm</th>\n",
       "      <th></th>\n",
       "      <th></th>\n",
       "      <th></th>\n",
       "      <th></th>\n",
       "    </tr>\n",
       "  </thead>\n",
       "  <tbody>\n",
       "    <tr>\n",
       "      <th>MGPO_cont</th>\n",
       "      <td>21.026890</td>\n",
       "      <td>0.879394</td>\n",
       "      <td>21.887407</td>\n",
       "      <td>2.908221</td>\n",
       "    </tr>\n",
       "    <tr>\n",
       "      <th>MGPO_disc_d1</th>\n",
       "      <td>20.799079</td>\n",
       "      <td>0.560703</td>\n",
       "      <td>20.614276</td>\n",
       "      <td>2.748784</td>\n",
       "    </tr>\n",
       "    <tr>\n",
       "      <th>MGPO_disc_old</th>\n",
       "      <td>20.645934</td>\n",
       "      <td>0.470721</td>\n",
       "      <td>20.493104</td>\n",
       "      <td>3.214186</td>\n",
       "    </tr>\n",
       "  </tbody>\n",
       "</table>\n",
       "</div>"
      ],
      "text/plain": [
       "              expected_reward           true_reward          \n",
       "                         mean       std        mean       std\n",
       "algorithm                                                    \n",
       "MGPO_cont           21.026890  0.879394   21.887407  2.908221\n",
       "MGPO_disc_d1        20.799079  0.560703   20.614276  2.748784\n",
       "MGPO_disc_old       20.645934  0.470721   20.493104  3.214186"
      ]
     },
     "execution_count": 12,
     "metadata": {},
     "output_type": "execute_result"
    }
   ],
   "source": [
    "res.groupby(\"algorithm\").agg([\"mean\", \"std\"])[[\"expected_reward\", \"true_reward\"]]"
   ]
  },
  {
   "cell_type": "code",
   "execution_count": 12,
   "metadata": {},
   "outputs": [
    {
     "name": "stderr",
     "output_type": "stream",
     "text": [
      "100%|██████████| 100/100 [03:35<00:00,  2.15s/it]\n",
      "100%|██████████| 100/100 [01:08<00:00,  1.46it/s]\n"
     ]
    },
    {
     "data": {
      "text/html": [
       "<div>\n",
       "<style scoped>\n",
       "    .dataframe tbody tr th:only-of-type {\n",
       "        vertical-align: middle;\n",
       "    }\n",
       "\n",
       "    .dataframe tbody tr th {\n",
       "        vertical-align: top;\n",
       "    }\n",
       "\n",
       "    .dataframe thead tr th {\n",
       "        text-align: left;\n",
       "    }\n",
       "\n",
       "    .dataframe thead tr:last-of-type th {\n",
       "        text-align: right;\n",
       "    }\n",
       "</style>\n",
       "<table border=\"1\" class=\"dataframe\">\n",
       "  <thead>\n",
       "    <tr>\n",
       "      <th></th>\n",
       "      <th colspan=\"2\" halign=\"left\">reward</th>\n",
       "      <th colspan=\"2\" halign=\"left\">actions</th>\n",
       "      <th colspan=\"2\" halign=\"left\">seed</th>\n",
       "      <th colspan=\"2\" halign=\"left\">runtime</th>\n",
       "      <th colspan=\"2\" halign=\"left\">true_reward</th>\n",
       "      <th colspan=\"2\" halign=\"left\">expected_reward</th>\n",
       "    </tr>\n",
       "    <tr>\n",
       "      <th></th>\n",
       "      <th>mean</th>\n",
       "      <th>std</th>\n",
       "      <th>mean</th>\n",
       "      <th>std</th>\n",
       "      <th>mean</th>\n",
       "      <th>std</th>\n",
       "      <th>mean</th>\n",
       "      <th>std</th>\n",
       "      <th>mean</th>\n",
       "      <th>std</th>\n",
       "      <th>mean</th>\n",
       "      <th>std</th>\n",
       "    </tr>\n",
       "    <tr>\n",
       "      <th>algorithm</th>\n",
       "      <th></th>\n",
       "      <th></th>\n",
       "      <th></th>\n",
       "      <th></th>\n",
       "      <th></th>\n",
       "      <th></th>\n",
       "      <th></th>\n",
       "      <th></th>\n",
       "      <th></th>\n",
       "      <th></th>\n",
       "      <th></th>\n",
       "      <th></th>\n",
       "    </tr>\n",
       "  </thead>\n",
       "  <tbody>\n",
       "    <tr>\n",
       "      <th>MGPO</th>\n",
       "      <td>21.299387</td>\n",
       "      <td>3.210390</td>\n",
       "      <td>17.95</td>\n",
       "      <td>8.819601</td>\n",
       "      <td>49.5</td>\n",
       "      <td>29.011492</td>\n",
       "      <td>2.150469</td>\n",
       "      <td>1.037320</td>\n",
       "      <td>20.510562</td>\n",
       "      <td>0.741526</td>\n",
       "      <td>21.299387</td>\n",
       "      <td>3.210390</td>\n",
       "    </tr>\n",
       "    <tr>\n",
       "      <th>MGPO_disc</th>\n",
       "      <td>20.680366</td>\n",
       "      <td>2.812661</td>\n",
       "      <td>7.88</td>\n",
       "      <td>4.209849</td>\n",
       "      <td>49.5</td>\n",
       "      <td>29.011492</td>\n",
       "      <td>0.684688</td>\n",
       "      <td>0.374674</td>\n",
       "      <td>20.429795</td>\n",
       "      <td>0.483453</td>\n",
       "      <td>20.680366</td>\n",
       "      <td>2.812661</td>\n",
       "    </tr>\n",
       "  </tbody>\n",
       "</table>\n",
       "</div>"
      ],
      "text/plain": [
       "              reward           actions            seed              runtime  \\\n",
       "                mean       std    mean       std  mean        std      mean   \n",
       "algorithm                                                                     \n",
       "MGPO       21.299387  3.210390   17.95  8.819601  49.5  29.011492  2.150469   \n",
       "MGPO_disc  20.680366  2.812661    7.88  4.209849  49.5  29.011492  0.684688   \n",
       "\n",
       "                    true_reward           expected_reward            \n",
       "                std        mean       std            mean       std  \n",
       "algorithm                                                            \n",
       "MGPO       1.037320   20.510562  0.741526       21.299387  3.210390  \n",
       "MGPO_disc  0.374674   20.429795  0.483453       20.680366  2.812661  "
      ]
     },
     "execution_count": 12,
     "metadata": {},
     "output_type": "execute_result"
    }
   ],
   "source": [
    "# Higher cost\n",
    "config = MouselabConfig(num_projects=num_projects, num_criterias=num_criteria, expert_costs=[cost*10 for cost in expert_costs], expert_taus=expert_taus, init=init, criteria_scale=[1 for weight in weights], term_belief=False)\n",
    "res = compare(config)\n",
    "res.groupby(\"algorithm\").agg([\"mean\", \"std\"])"
   ]
  },
  {
   "cell_type": "code",
   "execution_count": 17,
   "metadata": {},
   "outputs": [
    {
     "data": {
      "text/html": [
       "<div>\n",
       "<style scoped>\n",
       "    .dataframe tbody tr th:only-of-type {\n",
       "        vertical-align: middle;\n",
       "    }\n",
       "\n",
       "    .dataframe tbody tr th {\n",
       "        vertical-align: top;\n",
       "    }\n",
       "\n",
       "    .dataframe thead tr th {\n",
       "        text-align: left;\n",
       "    }\n",
       "\n",
       "    .dataframe thead tr:last-of-type th {\n",
       "        text-align: right;\n",
       "    }\n",
       "</style>\n",
       "<table border=\"1\" class=\"dataframe\">\n",
       "  <thead>\n",
       "    <tr>\n",
       "      <th></th>\n",
       "      <th colspan=\"2\" halign=\"left\">reward</th>\n",
       "      <th colspan=\"2\" halign=\"left\">actions</th>\n",
       "      <th colspan=\"2\" halign=\"left\">seed</th>\n",
       "      <th colspan=\"2\" halign=\"left\">runtime</th>\n",
       "      <th colspan=\"2\" halign=\"left\">true_reward</th>\n",
       "      <th colspan=\"2\" halign=\"left\">expected_reward</th>\n",
       "    </tr>\n",
       "    <tr>\n",
       "      <th></th>\n",
       "      <th>mean</th>\n",
       "      <th>std</th>\n",
       "      <th>mean</th>\n",
       "      <th>std</th>\n",
       "      <th>mean</th>\n",
       "      <th>std</th>\n",
       "      <th>mean</th>\n",
       "      <th>std</th>\n",
       "      <th>mean</th>\n",
       "      <th>std</th>\n",
       "      <th>mean</th>\n",
       "      <th>std</th>\n",
       "    </tr>\n",
       "    <tr>\n",
       "      <th>algorithm</th>\n",
       "      <th></th>\n",
       "      <th></th>\n",
       "      <th></th>\n",
       "      <th></th>\n",
       "      <th></th>\n",
       "      <th></th>\n",
       "      <th></th>\n",
       "      <th></th>\n",
       "      <th></th>\n",
       "      <th></th>\n",
       "      <th></th>\n",
       "      <th></th>\n",
       "    </tr>\n",
       "  </thead>\n",
       "  <tbody>\n",
       "    <tr>\n",
       "      <th>MGPO</th>\n",
       "      <td>4.019096</td>\n",
       "      <td>0.649313</td>\n",
       "      <td>27.693</td>\n",
       "      <td>13.597413</td>\n",
       "      <td>499.5</td>\n",
       "      <td>288.819436</td>\n",
       "      <td>3.285000</td>\n",
       "      <td>1.573218</td>\n",
       "      <td>3.734444</td>\n",
       "      <td>0.208692</td>\n",
       "      <td>4.019096</td>\n",
       "      <td>0.649313</td>\n",
       "    </tr>\n",
       "    <tr>\n",
       "      <th>MGPO_disc</th>\n",
       "      <td>4.072416</td>\n",
       "      <td>0.633514</td>\n",
       "      <td>7.709</td>\n",
       "      <td>4.478434</td>\n",
       "      <td>499.5</td>\n",
       "      <td>288.819436</td>\n",
       "      <td>0.494531</td>\n",
       "      <td>0.264765</td>\n",
       "      <td>3.753304</td>\n",
       "      <td>0.146468</td>\n",
       "      <td>4.072416</td>\n",
       "      <td>0.633514</td>\n",
       "    </tr>\n",
       "  </tbody>\n",
       "</table>\n",
       "</div>"
      ],
      "text/plain": [
       "             reward           actions              seed               runtime  \\\n",
       "               mean       std    mean        std   mean         std      mean   \n",
       "algorithm                                                                       \n",
       "MGPO       4.019096  0.649313  27.693  13.597413  499.5  288.819436  3.285000   \n",
       "MGPO_disc  4.072416  0.633514   7.709   4.478434  499.5  288.819436  0.494531   \n",
       "\n",
       "                    true_reward           expected_reward            \n",
       "                std        mean       std            mean       std  \n",
       "algorithm                                                            \n",
       "MGPO       1.573218    3.734444  0.208692        4.019096  0.649313  \n",
       "MGPO_disc  0.264765    3.753304  0.146468        4.072416  0.633514  "
      ]
     },
     "execution_count": 17,
     "metadata": {},
     "output_type": "execute_result"
    }
   ],
   "source": [
    "res.groupby(\"algorithm\").agg([\"mean\", \"std\"])"
   ]
  },
  {
   "cell_type": "code",
   "execution_count": 10,
   "metadata": {},
   "outputs": [
    {
     "data": {
      "text/plain": [
       "Text(0, 0.5, 'Actions')"
      ]
     },
     "execution_count": 10,
     "metadata": {},
     "output_type": "execute_result"
    },
    {
     "data": {
      "image/png": "[encoded data removed]",
      "text/plain": [
       "<Figure size 1500x400 with 3 Axes>"
      ]
     },
     "metadata": {},
     "output_type": "display_data"
    }
   ],
   "source": [
    "\n",
    "\n",
    "fig, axes = plt.subplots(1,3, figsize=(15,4), sharex=False, sharey=False)\n",
    "axes = axes.flatten()\n",
    "\n",
    "g = sns.barplot(data=res, x=\"algorithm\", y=\"expected_reward\", ax=axes[0])\n",
    "g.set_title(\"\")\n",
    "g.set_xlabel(\"\")\n",
    "g.set_ylabel(\"Expected Reward\")\n",
    "\n",
    "g = sns.barplot(data=res, x=\"algorithm\", y=\"true_reward\", ax=axes[1])\n",
    "g.set_title(\"\")\n",
    "g.set_xlabel(\"\")\n",
    "g.set_ylabel(\"True reward\")\n",
    "\n",
    "g = sns.barplot(data=res, x=\"algorithm\", y=\"actions\", ax=axes[2])\n",
    "g.set_title(\"\")\n",
    "g.set_xlabel(\"\")\n",
    "g.set_ylabel(\"Actions\")"
   ]
  },
  {
   "cell_type": "code",
   "execution_count": 25,
   "metadata": {},
   "outputs": [],
   "source": [
    "voc_policy = JAS_voc_policy()\n",
    "random_policy = RandomPolicy()\n",
    "exhaustive_policy = ExhaustivePolicy()\n",
    "random_6_policy = RandomNPolicy(N=6)\n",
    "random_12_policy = RandomNPolicy(N=12)"
   ]
  },
  {
   "cell_type": "code",
   "execution_count": 26,
   "metadata": {},
   "outputs": [],
   "source": [
    "res_random = run_simulation(env, random_policy, n=100)\n",
    "res_exhaustive = run_simulation(env, exhaustive_policy, n=100)\n",
    "res_random_6 = run_simulation(env, random_6_policy, n=100)\n",
    "res_random_12 = run_simulation(env, random_12_policy, n=100)\n",
    "res_voc = run_simulation(env, voc_policy, n=100)\n",
    "\n",
    "res_voc[\"algorithm\"] = \"MGPO\"\n",
    "res_exhaustive[\"algorithm\"] = \"Exhaustive\"\n",
    "res_random[\"algorithm\"] = \"Random\"\n",
    "res_random_6[\"algorithm\"] = \"Random 6\"\n",
    "res_random_12[\"algorithm\"] = \"Random 12\"\n",
    "res = pd.concat([res_voc, res_random_6, res_exhaustive, res_random, res_random_12])"
   ]
  },
  {
   "cell_type": "code",
   "execution_count": null,
   "metadata": {},
   "outputs": [],
   "source": [
    "res = []\n",
    "for cost in [0.001, 0.002, 0.004]:\n",
    "    expert_costs = cost*6\n",
    "    config = MouselabConfig(num_projects, num_criteria, expert_costs, expert_taus, init, criteria_scale=weights, term_belief=True)\n",
    "    env = MouselabJas(config=config)\n",
    "\n",
    "    res_random = run_simulation(env, random_policy, n=10)\n",
    "    res_exhaustive = run_simulation(env, exhaustive_policy, n=10)\n",
    "    res_random_6 = run_simulation(env, random_6_policy, n=10)\n",
    "    res_random_12 = run_simulation(env, random_12_policy, n=10)\n",
    "    res_voc = run_simulation(env, voc_policy, n=10)\n",
    "\n",
    "    res_voc[\"algorithm\"] = \"MGPO\"\n",
    "    res_exhaustive[\"algorithm\"] = \"Exhaustive\"\n",
    "    res_random[\"algorithm\"] = \"Random\"\n",
    "    res_random_6[\"algorithm\"] = \"Random 6\"\n",
    "    res_random_12[\"algorithm\"] = \"Random 12\"\n",
    "    tmp = pd.concat([res_voc, res_random_6, res_exhaustive, res_random, res_random_12])\n",
    "    tmp[\"Cost\"] = cost\n",
    "    res.append(tmp)\n",
    "df_cost = pd.concat(res)"
   ]
  },
  {
   "cell_type": "code",
   "execution_count": 18,
   "metadata": {},
   "outputs": [
    {
     "data": {
      "text/html": [
       "<div>\n",
       "<style scoped>\n",
       "    .dataframe tbody tr th:only-of-type {\n",
       "        vertical-align: middle;\n",
       "    }\n",
       "\n",
       "    .dataframe tbody tr th {\n",
       "        vertical-align: top;\n",
       "    }\n",
       "\n",
       "    .dataframe thead tr th {\n",
       "        text-align: left;\n",
       "    }\n",
       "\n",
       "    .dataframe thead tr:last-of-type th {\n",
       "        text-align: right;\n",
       "    }\n",
       "</style>\n",
       "<table border=\"1\" class=\"dataframe\">\n",
       "  <thead>\n",
       "    <tr>\n",
       "      <th></th>\n",
       "      <th colspan=\"2\" halign=\"left\">reward</th>\n",
       "      <th colspan=\"2\" halign=\"left\">actions</th>\n",
       "    </tr>\n",
       "    <tr>\n",
       "      <th></th>\n",
       "      <th>mean</th>\n",
       "      <th>std</th>\n",
       "      <th>mean</th>\n",
       "      <th>std</th>\n",
       "    </tr>\n",
       "    <tr>\n",
       "      <th>algorithm</th>\n",
       "      <th></th>\n",
       "      <th></th>\n",
       "      <th></th>\n",
       "      <th></th>\n",
       "    </tr>\n",
       "  </thead>\n",
       "  <tbody>\n",
       "    <tr>\n",
       "      <th>Exhaustive</th>\n",
       "      <td>3.603097</td>\n",
       "      <td>0.335080</td>\n",
       "      <td>181.00</td>\n",
       "      <td>0.000000</td>\n",
       "    </tr>\n",
       "    <tr>\n",
       "      <th>MGPO</th>\n",
       "      <td>3.945299</td>\n",
       "      <td>0.240611</td>\n",
       "      <td>11.81</td>\n",
       "      <td>5.241048</td>\n",
       "    </tr>\n",
       "    <tr>\n",
       "      <th>Random</th>\n",
       "      <td>3.654527</td>\n",
       "      <td>0.311977</td>\n",
       "      <td>86.48</td>\n",
       "      <td>49.990601</td>\n",
       "    </tr>\n",
       "    <tr>\n",
       "      <th>Random 12</th>\n",
       "      <td>3.591397</td>\n",
       "      <td>0.207531</td>\n",
       "      <td>13.00</td>\n",
       "      <td>0.000000</td>\n",
       "    </tr>\n",
       "    <tr>\n",
       "      <th>Random 6</th>\n",
       "      <td>3.498768</td>\n",
       "      <td>0.184110</td>\n",
       "      <td>7.00</td>\n",
       "      <td>0.000000</td>\n",
       "    </tr>\n",
       "  </tbody>\n",
       "</table>\n",
       "</div>"
      ],
      "text/plain": [
       "              reward           actions           \n",
       "                mean       std    mean        std\n",
       "algorithm                                        \n",
       "Exhaustive  3.603097  0.335080  181.00   0.000000\n",
       "MGPO        3.945299  0.240611   11.81   5.241048\n",
       "Random      3.654527  0.311977   86.48  49.990601\n",
       "Random 12   3.591397  0.207531   13.00   0.000000\n",
       "Random 6    3.498768  0.184110    7.00   0.000000"
      ]
     },
     "execution_count": 18,
     "metadata": {},
     "output_type": "execute_result"
    }
   ],
   "source": [
    "res[[\"reward\", \"actions\", \"algorithm\"]].groupby(\"algorithm\").agg([\"mean\", \"std\"])"
   ]
  },
  {
   "cell_type": "code",
   "execution_count": 19,
   "metadata": {},
   "outputs": [
    {
     "data": {
      "text/plain": [
       "Text(0, 0.5, 'Actions')"
      ]
     },
     "execution_count": 19,
     "metadata": {},
     "output_type": "execute_result"
    },
    {
     "data": {
      "image/png": "[encoded data removed]",
      "text/plain": [
       "<Figure size 1500x400 with 3 Axes>"
      ]
     },
     "metadata": {},
     "output_type": "display_data"
    }
   ],
   "source": [
    "\n",
    "fig, axes = plt.subplots(1,3, figsize=(15,4), sharex=False, sharey=False)\n",
    "axes = axes.flatten()\n",
    "\n",
    "g = sns.barplot(data=res, x=\"algorithm\", y=\"reward\", ax=axes[0])\n",
    "g.set_title(\"\")\n",
    "g.set_xlabel(\"\")\n",
    "g.set_ylabel(\"Reward\")\n",
    "\n",
    "g = sns.barplot(data=res, x=\"algorithm\", y=\"runtime\", ax=axes[1])\n",
    "g.set_title(\"\")\n",
    "g.set_xlabel(\"\")\n",
    "g.set_ylabel(\"Runtime\")\n",
    "\n",
    "g = sns.barplot(data=res, x=\"algorithm\", y=\"actions\", ax=axes[2])\n",
    "g.set_title(\"\")\n",
    "g.set_xlabel(\"\")\n",
    "g.set_ylabel(\"Actions\")"
   ]
  },
  {
   "cell_type": "code",
   "execution_count": null,
   "metadata": {},
   "outputs": [],
   "source": []
  }
 ],
 "metadata": {
  "kernelspec": {
   "display_name": "jas",
   "language": "python",
   "name": "python3"
  },
  "language_info": {
   "codemirror_mode": {
    "name": "ipython",
    "version": 3
   },
   "file_extension": ".py",
   "mimetype": "text/x-python",
   "name": "python",
   "nbconvert_exporter": "python",
   "pygments_lexer": "ipython3",
   "version": "3.10.6"
  },
  "orig_nbformat": 4,
  "vscode": {
   "interpreter": {
    "hash": "cdc273f54b2f1f6750df25f1e10f8ad37a1a4b9d58873afdb9059fc1ead861fe"
   }
  }
 },
 "nbformat": 4,
 "nbformat_minor": 2
}
