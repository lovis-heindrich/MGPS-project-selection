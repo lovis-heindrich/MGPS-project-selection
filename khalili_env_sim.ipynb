{
 "cells": [
  {
   "cell_type": "code",
   "execution_count": 1,
   "metadata": {},
   "outputs": [],
   "source": [
    "%load_ext autoreload\n",
    "%autoreload 2\n",
    "\n",
    "from src.utils.env_creation import create_tree, create_init\n",
    "from src.utils.mouselab_jas import MouselabJas\n",
    "from src.utils.data_classes import MouselabConfig\n",
    "from src.utils.utils import sigma_to_tau\n",
    "import numpy as np\n",
    "from simulation import run_simulation\n",
    "from src.policy.jas_voc_policy import JAS_voc_policy\n",
    "from src.policy.jas_policy import RandomPolicy, ExhaustivePolicy, RandomNPolicy\n",
    "import pandas as pd\n",
    "import seaborn as sns\n",
    "from matplotlib import pyplot as plt"
   ]
  },
  {
   "cell_type": "code",
   "execution_count": 20,
   "metadata": {},
   "outputs": [],
   "source": [
    "# Fixed from paper\n",
    "num_projects = 5\n",
    "num_criteria = 6\n",
    "weights = [0.0206795, 0.0672084, 0.2227102, 0.1067428, 0.4665054, 0.1161537]\n",
    "expert_stds = [1.5616618964384956, 1.449172525995787, 1.5205992970609392, 1.5469422429523034, 1.511270787760881, 1.455189251463794]\n",
    "expert_taus = sigma_to_tau(np.array(expert_stds))\n",
    "\n",
    "mu = [3.6, 3.1666666666666665, 3.6, 3.1333333333333333, 3.6666666666666665, 2.3]\n",
    "sigma = [1.3544307876819288, 1.2617266038997932, 1.3796551293211172, 1.2521246311585852, 1.5161960871578068, 0.9523111632886272]\n",
    "\n",
    "init = create_init([0]+(mu*num_projects), [0]+(sigma*num_projects))\n",
    "expert_costs = [0.002]*6\n",
    "\n",
    "config = MouselabConfig(num_projects, num_criteria, expert_costs, expert_taus, init, criteria_scale=weights, term_belief=False)\n",
    "env = MouselabJas(config=config)"
   ]
  },
  {
   "cell_type": "code",
   "execution_count": 21,
   "metadata": {},
   "outputs": [
    {
     "data": {
      "text/plain": [
       "3.401163603333334"
      ]
     },
     "execution_count": 21,
     "metadata": {},
     "output_type": "execute_result"
    }
   ],
   "source": [
    "env.expected_term_reward(env.state)"
   ]
  },
  {
   "cell_type": "code",
   "execution_count": 22,
   "metadata": {},
   "outputs": [
    {
     "name": "stdout",
     "output_type": "stream",
     "text": [
      "3.5559527552734713 [0.13495210533919652, -0.03680607043391182, 0.8863835807483859, 0.24770529742452674, 2.2080989380902336, 0.11561890410504058]\n",
      "3.401163603333333 [0.0744462, 0.2128266, 0.80175672, 0.33446077333333335, 1.7105198, 0.26715351]\n"
     ]
    }
   ],
   "source": [
    "env = MouselabJas(config=config)\n",
    "path = [1, 2, 3, 4, 5, 6]\n",
    "truths = [env.ground_truth[node] for node in path]\n",
    "\n",
    "belief = [env.state[node].expectation() for node in path]\n",
    "print(sum(truths), truths)\n",
    "print(sum(belief), belief)"
   ]
  },
  {
   "cell_type": "code",
   "execution_count": 23,
   "metadata": {},
   "outputs": [
    {
     "data": {
      "text/plain": [
       "[3.5559527552734713,\n",
       " 1.9829927431197714,\n",
       " 2.5215370752593493,\n",
       " 3.5187302777116862,\n",
       " 3.86228477337643]"
      ]
     },
     "execution_count": 23,
     "metadata": {},
     "output_type": "execute_result"
    }
   ],
   "source": [
    "[env.ground_truth[list(path)].sum() for path in env.optimal_paths(env.state)]\n"
   ]
  },
  {
   "cell_type": "code",
   "execution_count": 24,
   "metadata": {},
   "outputs": [
    {
     "data": {
      "text/plain": [
       "array([ 0.        ,  0.13495211, -0.03680607,  0.88638358,  0.2477053 ,\n",
       "        2.20809894,  0.1156189 ,  0.07724418,  0.23151282,  0.68926846,\n",
       "        0.42167939,  0.46772249,  0.0955654 ,  0.09253533,  0.21547148,\n",
       "        0.58343332,  0.19227385,  1.1798903 ,  0.25793279,  0.11680434,\n",
       "        0.07956938,  0.9738154 ,  0.28026383,  1.9345179 ,  0.13375943,\n",
       "        0.08042529,  0.23012766,  0.65668303,  0.46351528,  2.26420193,\n",
       "        0.16733159])"
      ]
     },
     "execution_count": 24,
     "metadata": {},
     "output_type": "execute_result"
    }
   ],
   "source": [
    "env.ground_truth"
   ]
  },
  {
   "cell_type": "code",
   "execution_count": 25,
   "metadata": {},
   "outputs": [],
   "source": [
    "voc_policy = JAS_voc_policy()\n",
    "random_policy = RandomPolicy()\n",
    "exhaustive_policy = ExhaustivePolicy()\n",
    "random_6_policy = RandomNPolicy(N=6)\n",
    "random_12_policy = RandomNPolicy(N=12)"
   ]
  },
  {
   "cell_type": "code",
   "execution_count": 26,
   "metadata": {},
   "outputs": [],
   "source": [
    "res_random = run_simulation(env, random_policy, n=100)\n",
    "res_exhaustive = run_simulation(env, exhaustive_policy, n=100)\n",
    "res_random_6 = run_simulation(env, random_6_policy, n=100)\n",
    "res_random_12 = run_simulation(env, random_12_policy, n=100)\n",
    "res_voc = run_simulation(env, voc_policy, n=100)\n",
    "\n",
    "res_voc[\"algorithm\"] = \"MGPO\"\n",
    "res_exhaustive[\"algorithm\"] = \"Exhaustive\"\n",
    "res_random[\"algorithm\"] = \"Random\"\n",
    "res_random_6[\"algorithm\"] = \"Random 6\"\n",
    "res_random_12[\"algorithm\"] = \"Random 12\"\n",
    "res = pd.concat([res_voc, res_random_6, res_exhaustive, res_random, res_random_12])"
   ]
  },
  {
   "cell_type": "code",
   "execution_count": null,
   "metadata": {},
   "outputs": [],
   "source": [
    "res = []\n",
    "for cost in [0.001, 0.002, 0.004]:\n",
    "    expert_costs = cost*6\n",
    "    config = MouselabConfig(num_projects, num_criteria, expert_costs, expert_taus, init, criteria_scale=weights, term_belief=True)\n",
    "    env = MouselabJas(config=config)\n",
    "\n",
    "    res_random = run_simulation(env, random_policy, n=10)\n",
    "    res_exhaustive = run_simulation(env, exhaustive_policy, n=10)\n",
    "    res_random_6 = run_simulation(env, random_6_policy, n=10)\n",
    "    res_random_12 = run_simulation(env, random_12_policy, n=10)\n",
    "    res_voc = run_simulation(env, voc_policy, n=10)\n",
    "\n",
    "    res_voc[\"algorithm\"] = \"MGPO\"\n",
    "    res_exhaustive[\"algorithm\"] = \"Exhaustive\"\n",
    "    res_random[\"algorithm\"] = \"Random\"\n",
    "    res_random_6[\"algorithm\"] = \"Random 6\"\n",
    "    res_random_12[\"algorithm\"] = \"Random 12\"\n",
    "    tmp = pd.concat([res_voc, res_random_6, res_exhaustive, res_random, res_random_12])\n",
    "    tmp[\"Cost\"] = cost\n",
    "    res.append(tmp)\n",
    "df_cost = pd.concat(res)"
   ]
  },
  {
   "cell_type": "code",
   "execution_count": 18,
   "metadata": {},
   "outputs": [
    {
     "data": {
      "text/html": [
       "<div>\n",
       "<style scoped>\n",
       "    .dataframe tbody tr th:only-of-type {\n",
       "        vertical-align: middle;\n",
       "    }\n",
       "\n",
       "    .dataframe tbody tr th {\n",
       "        vertical-align: top;\n",
       "    }\n",
       "\n",
       "    .dataframe thead tr th {\n",
       "        text-align: left;\n",
       "    }\n",
       "\n",
       "    .dataframe thead tr:last-of-type th {\n",
       "        text-align: right;\n",
       "    }\n",
       "</style>\n",
       "<table border=\"1\" class=\"dataframe\">\n",
       "  <thead>\n",
       "    <tr>\n",
       "      <th></th>\n",
       "      <th colspan=\"2\" halign=\"left\">reward</th>\n",
       "      <th colspan=\"2\" halign=\"left\">actions</th>\n",
       "    </tr>\n",
       "    <tr>\n",
       "      <th></th>\n",
       "      <th>mean</th>\n",
       "      <th>std</th>\n",
       "      <th>mean</th>\n",
       "      <th>std</th>\n",
       "    </tr>\n",
       "    <tr>\n",
       "      <th>algorithm</th>\n",
       "      <th></th>\n",
       "      <th></th>\n",
       "      <th></th>\n",
       "      <th></th>\n",
       "    </tr>\n",
       "  </thead>\n",
       "  <tbody>\n",
       "    <tr>\n",
       "      <th>Exhaustive</th>\n",
       "      <td>3.603097</td>\n",
       "      <td>0.335080</td>\n",
       "      <td>181.00</td>\n",
       "      <td>0.000000</td>\n",
       "    </tr>\n",
       "    <tr>\n",
       "      <th>MGPO</th>\n",
       "      <td>3.945299</td>\n",
       "      <td>0.240611</td>\n",
       "      <td>11.81</td>\n",
       "      <td>5.241048</td>\n",
       "    </tr>\n",
       "    <tr>\n",
       "      <th>Random</th>\n",
       "      <td>3.654527</td>\n",
       "      <td>0.311977</td>\n",
       "      <td>86.48</td>\n",
       "      <td>49.990601</td>\n",
       "    </tr>\n",
       "    <tr>\n",
       "      <th>Random 12</th>\n",
       "      <td>3.591397</td>\n",
       "      <td>0.207531</td>\n",
       "      <td>13.00</td>\n",
       "      <td>0.000000</td>\n",
       "    </tr>\n",
       "    <tr>\n",
       "      <th>Random 6</th>\n",
       "      <td>3.498768</td>\n",
       "      <td>0.184110</td>\n",
       "      <td>7.00</td>\n",
       "      <td>0.000000</td>\n",
       "    </tr>\n",
       "  </tbody>\n",
       "</table>\n",
       "</div>"
      ],
      "text/plain": [
       "              reward           actions           \n",
       "                mean       std    mean        std\n",
       "algorithm                                        \n",
       "Exhaustive  3.603097  0.335080  181.00   0.000000\n",
       "MGPO        3.945299  0.240611   11.81   5.241048\n",
       "Random      3.654527  0.311977   86.48  49.990601\n",
       "Random 12   3.591397  0.207531   13.00   0.000000\n",
       "Random 6    3.498768  0.184110    7.00   0.000000"
      ]
     },
     "execution_count": 18,
     "metadata": {},
     "output_type": "execute_result"
    }
   ],
   "source": [
    "res[[\"reward\", \"actions\", \"algorithm\"]].groupby(\"algorithm\").agg([\"mean\", \"std\"])"
   ]
  },
  {
   "cell_type": "code",
   "execution_count": 19,
   "metadata": {},
   "outputs": [
    {
     "data": {
      "text/plain": [
       "Text(0, 0.5, 'Actions')"
      ]
     },
     "execution_count": 19,
     "metadata": {},
     "output_type": "execute_result"
    },
    {
     "data": {
      "image/png": "[encoded data removed]",
      "text/plain": [
       "<Figure size 1500x400 with 3 Axes>"
      ]
     },
     "metadata": {},
     "output_type": "display_data"
    }
   ],
   "source": [
    "\n",
    "fig, axes = plt.subplots(1,3, figsize=(15,4), sharex=False, sharey=False)\n",
    "axes = axes.flatten()\n",
    "\n",
    "g = sns.barplot(data=res, x=\"algorithm\", y=\"reward\", ax=axes[0])\n",
    "g.set_title(\"\")\n",
    "g.set_xlabel(\"\")\n",
    "g.set_ylabel(\"Reward\")\n",
    "\n",
    "g = sns.barplot(data=res, x=\"algorithm\", y=\"runtime\", ax=axes[1])\n",
    "g.set_title(\"\")\n",
    "g.set_xlabel(\"\")\n",
    "g.set_ylabel(\"Runtime\")\n",
    "\n",
    "g = sns.barplot(data=res, x=\"algorithm\", y=\"actions\", ax=axes[2])\n",
    "g.set_title(\"\")\n",
    "g.set_xlabel(\"\")\n",
    "g.set_ylabel(\"Actions\")"
   ]
  },
  {
   "cell_type": "code",
   "execution_count": null,
   "metadata": {},
   "outputs": [],
   "source": []
  }
 ],
 "metadata": {
  "kernelspec": {
   "display_name": "jas",
   "language": "python",
   "name": "python3"
  },
  "language_info": {
   "codemirror_mode": {
    "name": "ipython",
    "version": 3
   },
   "file_extension": ".py",
   "mimetype": "text/x-python",
   "name": "python",
   "nbconvert_exporter": "python",
   "pygments_lexer": "ipython3",
   "version": "3.10.6 | packaged by conda-forge | (main, Aug 22 2022, 20:29:51) [MSC v.1929 64 bit (AMD64)]"
  },
  "orig_nbformat": 4,
  "vscode": {
   "interpreter": {
    "hash": "cdc273f54b2f1f6750df25f1e10f8ad37a1a4b9d58873afdb9059fc1ead861fe"
   }
  }
 },
 "nbformat": 4,
 "nbformat_minor": 2
}
