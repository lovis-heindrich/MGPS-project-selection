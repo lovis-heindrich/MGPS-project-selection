{
 "cells": [
  {
   "cell_type": "code",
   "execution_count": 2,
   "metadata": {},
   "outputs": [],
   "source": [
    "import numpy as np\n",
    "from src.policy.jas_voc_policy import JAS_voc_policy\n",
    "from src.utils.mouselab_jas import MouselabJas\n",
    "from src.utils.data_classes import Action, MouselabConfig\n",
    "from src.utils.distributions import Normal\n",
    "\n",
    "%load_ext autoreload\n",
    "%autoreload 2"
   ]
  },
  {
   "cell_type": "code",
   "execution_count": 3,
   "metadata": {},
   "outputs": [
    {
     "name": "stdout",
     "output_type": "stream",
     "text": [
      "Mean 59.64444444444445\n",
      "Median 13.0\n"
     ]
    }
   ],
   "source": [
    "# Number of projects:\n",
    "num_projects = [(40+12+22)/3, 7, 50, 25, 27, 27, 10, 24, 4, 4, 37, (20+50+150+250)/4, 4,2,5,400,2,12, (10+30)/2, 6, (5+30)/2, (1000+200)/2, 3, (5+30)/2, 8, 6, 10,\n",
    "    4, 5, 20, 14, (60+50)/2, 3, 18, 6, 37, 14, 6, (2+3)/2, 20, 20, 4, 20, 14, 5, 20, 20, 5, 45, 1500, 6, 5, 60, 10, 50, 6, 5, 100, 5, 4]\n",
    "print(\"Mean\", np.mean(num_projects))\n",
    "print(\"Median\", np.median(num_projects))"
   ]
  },
  {
   "cell_type": "code",
   "execution_count": 13,
   "metadata": {},
   "outputs": [
    {
     "name": "stdout",
     "output_type": "stream",
     "text": [
      "Mean 6.348484848484849\n",
      "[8, 7, 23, 13, 12, 6, 16, 15, 10, 14]\n"
     ]
    }
   ],
   "source": [
    "papers_with_criteria = 66\n",
    "num_papers = [3, 10, 5, 5, 9, 28, 41, 48, 9, 20, 3, 38, 38, 17, 21, 21, 7, 12, 16, 9, 4, 15, 40]\n",
    "mean_criteria = np.sum(num_papers)/papers_with_criteria\n",
    "print(\"Mean\", mean_criteria)\n",
    "top_criteria = np.argsort(num_papers)+1\n",
    "print(list(top_criteria)[-10:][::-1])\n",
    "\n",
    "utilized_in_half = [7,8,12,13,23]"
   ]
  },
  {
   "cell_type": "code",
   "execution_count": null,
   "metadata": {},
   "outputs": [],
   "source": [
    "electric_criteria = [13, 17, 12, 4]\n",
    "it_criteria = [5, 7, 49, 15, 5]\n",
    "pharmaceutical_criteria = [4]\n"
   ]
  },
  {
   "cell_type": "code",
   "execution_count": 8,
   "metadata": {},
   "outputs": [
    {
     "data": {
      "text/plain": [
       "[('Non-Specified', 19),\n",
       " ('Pharmaceutical', 8),\n",
       " ('Eletronic/Electricity', 5),\n",
       " ('Information Technology', 4),\n",
       " ('Industrial', 3),\n",
       " ('Metallurgy', 3),\n",
       " ('Chemical', 2),\n",
       " ('Private/Public Sector', 2),\n",
       " ('Eletronic/Electricity and Chemical', 1),\n",
       " ('Textile', 1),\n",
       " ('Aerospacial', 1),\n",
       " ('Spacial', 1),\n",
       " ('Biotechnology', 1),\n",
       " ('Automotive', 1),\n",
       " ('IndustrialResearch', 1),\n",
       " ('Telecommunications', 1),\n",
       " ('Nuclear', 1),\n",
       " ('Government SponsoredCivil, Mechanical, and others', 1),\n",
       " ('Manufacturing', 1),\n",
       " ('Civil, Mechanical, and others', 1),\n",
       " ('Agriculture, Innovation, Textile and others', 1),\n",
       " ('Government Sponsored', 1),\n",
       " ('Energy', 1),\n",
       " ('Military', 1),\n",
       " ('Innovation', 1),\n",
       " ('Electricity/Mechanical/Telecommunications/IT', 1)]"
      ]
     },
     "execution_count": 8,
     "metadata": {},
     "output_type": "execute_result"
    }
   ],
   "source": [
    "# Domains\n",
    "domains = [\"Eletronic/Electricity and Chemical\", \"Textile\", \"Aerospacial\", \"Spacial\", \"Chemical\", \"Chemical\", \n",
    "    \"Eletronic/Electricity\", \"Industrial\", \"Non-Specified\", \"Non-Specified\", \"Metallurgy\", \"Eletronic/Electricity\",\n",
    "    \"Non-Specified\", \"Non-Specified\", \"Biotechnology\", \"Automotive\", \"Information Technology\", \"Industrial\", \"Industrial\"\n",
    "    \"Research\", \"Pharmaceutical\", \"Non-Specified\", \"Metallurgy\", \"Pharmaceutical\", \"Non-Specified\", \"Information Technology\",\n",
    "    \"Information Technology\", \"Telecommunications\", \"Non-Specified\", \"Non-Specified\", \"Nuclear\", \"Pharmaceutical\", \"Non-Specified\",\n",
    "    \"Non-Specified\", \"Industrial\", \"Non-Specified\", \"Metallurgy\", \"Eletronic/Electricity\", \"Non-Specified\", \"Government Sponsored\"\n",
    "    \"Civil, Mechanical, and others\", \"Non-Specified\", \"Pharmaceutical\", \"Pharmaceutical\", \"Manufacturing\", \"Non-Specified\",\n",
    "    \"Pharmaceutical\", \"Information Technology\", \"Civil, Mechanical, and others\", \"Pharmaceutical\", \"Non-Specified\", \"Eletronic/Electricity\",\n",
    "    \"Agriculture, Innovation, Textile and others\", \"Private/Public Sector\", \"Non-Specified\", \"Non-Specified\", \"Eletronic/Electricity\",\n",
    "    \"Government Sponsored\", \"Non-Specified\", \"Pharmaceutical\", \"Private/Public Sector\", \"Energy\", \"Military\", \"Innovation\",\n",
    "    \"Electricity/Mechanical/Telecommunications/IT\", \"Non-Specified\"]\n",
    "\n",
    "from collections import Counter\n",
    "\n",
    "counter = Counter(domains)\n",
    "counter.most_common()\n"
   ]
  },
  {
   "cell_type": "code",
   "execution_count": 7,
   "metadata": {},
   "outputs": [
    {
     "name": "stdout",
     "output_type": "stream",
     "text": [
      "413\n"
     ]
    }
   ],
   "source": [
    "def diff_rec(str1, str2):\n",
    "    if (len(str1) == 0) and (len(str2) == 0):\n",
    "        return 0\n",
    "    elif len(str1) == 0:\n",
    "        return sum([ord(c) for c in str2])\n",
    "    elif len(str2) == 0: \n",
    "        return sum([ord(c) for c in str1])\n",
    "    elif str1[0] == str2[0]:\n",
    "        return diff_rec(str1[1:], str2[1:])\n",
    "    else:\n",
    "        diff1 = ord(str1[0]) + diff_rec(str1[1:], str2)\n",
    "        diff2 = ord(str2[0]) + diff_rec(str1, str2[1:])\n",
    "        return min(diff1, diff2)\n",
    "\n",
    "print(diff_rec(\"through\", \"trouf\"))"
   ]
  },
  {
   "cell_type": "code",
   "execution_count": 11,
   "metadata": {},
   "outputs": [],
   "source": [
    "expert_costs = [1, 1]\n",
    "expert_taus = [0.05, 0.01]\n",
    "config = MouselabConfig()\n",
    "tree = [[1, 2], [], []]\n",
    "init = [Normal(0, 1), Normal(0, 20), Normal(0, 10)]\n",
    "env = MouselabJas(tree, init, expert_costs, expert_taus, config)\n",
    "policy = JAS_voc_policy()"
   ]
  },
  {
   "cell_type": "code",
   "execution_count": 12,
   "metadata": {},
   "outputs": [
    {
     "data": {
      "text/plain": [
       "7.786556010920246"
      ]
     },
     "execution_count": 12,
     "metadata": {},
     "output_type": "execute_result"
    }
   ],
   "source": [
    "policy.myopic_voc_normal(env, Action(0, 1))"
   ]
  },
  {
   "cell_type": "code",
   "execution_count": 13,
   "metadata": {},
   "outputs": [
    {
     "data": {
      "text/plain": [
       "3.641828101973597"
      ]
     },
     "execution_count": 13,
     "metadata": {},
     "output_type": "execute_result"
    }
   ],
   "source": [
    "policy.myopic_voc_normal(env, Action(0, 2))"
   ]
  },
  {
   "cell_type": "code",
   "execution_count": 14,
   "metadata": {},
   "outputs": [
    {
     "data": {
      "text/plain": [
       "7.136496464611085"
      ]
     },
     "execution_count": 14,
     "metadata": {},
     "output_type": "execute_result"
    }
   ],
   "source": [
    "policy.myopic_voc_normal(env, Action(1, 1))"
   ]
  },
  {
   "cell_type": "code",
   "execution_count": 15,
   "metadata": {},
   "outputs": [
    {
     "data": {
      "text/plain": [
       "Action(expert=0, query=1)"
      ]
     },
     "execution_count": 15,
     "metadata": {},
     "output_type": "execute_result"
    }
   ],
   "source": [
    "policy.act(env)"
   ]
  },
  {
   "cell_type": "code",
   "execution_count": 3,
   "metadata": {},
   "outputs": [],
   "source": [
    "from src.utils.distributions import Categorical\n",
    "\n",
    "def get_cat(probs):\n",
    "    vals = [i+1 for i in range(len(probs))]\n",
    "    dist = Categorical(vals, probs)\n",
    "    return dist"
   ]
  },
  {
   "cell_type": "code",
   "execution_count": null,
   "metadata": {},
   "outputs": [],
   "source": [
    "prob1 = [0.2, 0.4, 0.3, 0.05, 0.05]\n",
    "expert_precision = [0.4, 0.3, 0.15, 0.1, 0.05]"
   ]
  }
 ],
 "metadata": {
  "kernelspec": {
   "display_name": "Python 3.10.5 ('jas')",
   "language": "python",
   "name": "python3"
  },
  "language_info": {
   "codemirror_mode": {
    "name": "ipython",
    "version": 3
   },
   "file_extension": ".py",
   "mimetype": "text/x-python",
   "name": "python",
   "nbconvert_exporter": "python",
   "pygments_lexer": "ipython3",
   "version": "3.10.6 | packaged by conda-forge | (main, Aug 22 2022, 20:29:51) [MSC v.1929 64 bit (AMD64)]"
  },
  "orig_nbformat": 4,
  "vscode": {
   "interpreter": {
    "hash": "cdc273f54b2f1f6750df25f1e10f8ad37a1a4b9d58873afdb9059fc1ead861fe"
   }
  }
 },
 "nbformat": 4,
 "nbformat_minor": 2
}
