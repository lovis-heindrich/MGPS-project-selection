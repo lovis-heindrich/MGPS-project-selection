{
 "cells": [
  {
   "cell_type": "code",
   "execution_count": 5,
   "metadata": {},
   "outputs": [
    {
     "name": "stdout",
     "output_type": "stream",
     "text": [
      "The autoreload extension is already loaded. To reload it, use:\n",
      "  %reload_ext autoreload\n"
     ]
    }
   ],
   "source": [
    "\n",
    "import json\n",
    "import pandas as pd\n",
    "import numpy as np\n",
    "from toolz import memoize\n",
    "import datetime\n",
    "import math\n",
    "\n",
    "from tqdm import tqdm\n",
    "from src.utils.mouselab_jas import MouselabJas\n",
    "from src.utils.distributions import Normal, expectation\n",
    "from src.utils.env_creation import create_tree, create_init\n",
    "from src.utils.env_export import create_json\n",
    "from src.utils.data_classes import MouselabConfig, Action\n",
    "from simulation import run_simulation\n",
    "from src.policy.jas_voc_policy import JAS_voc_policy\n",
    "from src.policy.jas_policy import RandomPolicy, ExhaustivePolicy, RandomNPolicy\n",
    "import pandas as pd\n",
    "import seaborn as sns\n",
    "from matplotlib import pyplot as plt\n",
    "from src.utils.utils import sigma_to_tau\n",
    "import numpy as np\n",
    "from src.utils.env_export import format_payoff\n",
    "\n",
    "\n",
    "sns.set(rc={'figure.figsize':(10,6)})\n",
    "sns.set(font_scale=1.5)\n",
    "sns.set_theme()\n",
    "\n",
    "%load_ext autoreload\n",
    "%autoreload 2"
   ]
  },
  {
   "cell_type": "code",
   "execution_count": 6,
   "metadata": {},
   "outputs": [],
   "source": [
    "data = json.load(open(\"./data/dataclips_3.json\"))"
   ]
  },
  {
   "cell_type": "code",
   "execution_count": 7,
   "metadata": {},
   "outputs": [],
   "source": [
    "language_index = data[\"fields\"].index(\"language\")\n",
    "response_data_index = data[\"fields\"].index(\"datastring\")\n",
    "begin_index = data[\"fields\"].index(\"beginhit\")\n",
    "end_index = data[\"fields\"].index(\"endhit\")\n",
    "\n",
    "f = '%Y-%m-%d %H:%M:%S.%f'"
   ]
  },
  {
   "cell_type": "code",
   "execution_count": 4,
   "metadata": {},
   "outputs": [],
   "source": [
    "# Fixed from paper\n",
    "num_projects = 5\n",
    "num_criteria = 6\n",
    "weights = [0.0206795, 0.0672084, 0.2227102, 0.1067428, 0.4665054, 0.1161537]\n",
    "expert_stds = [1.5616618964384956, 1.449172525995787, 1.5205992970609392, 1.5469422429523034, 1.511270787760881, 1.455189251463794]\n",
    "expert_taus = list(sigma_to_tau(np.array(expert_stds)))\n",
    "\n",
    "mu = [3.6, 3.1666666666666665, 3.6, 3.1333333333333333, 3.6666666666666665, 2.3]\n",
    "sigma = [1.3544307876819288, 1.2617266038997932, 1.3796551293211172, 1.2521246311585852, 1.5161960871578068, 0.9523111632886272]\n",
    "\n",
    "init = create_init([0]+(mu*num_projects), [0]+(sigma*num_projects))\n",
    "expert_costs = [0.002]*6\n",
    "\n",
    "config = MouselabConfig(num_projects, num_criteria, expert_costs, expert_taus, init, criteria_scale=weights, term_belief=False, max_actions=5)\n",
    "env = MouselabJas(config=config)\n",
    "voc_policy = JAS_voc_policy(discrete_observations=True, cost_weight=0.5798921379230035)"
   ]
  },
  {
   "cell_type": "code",
   "execution_count": 18,
   "metadata": {},
   "outputs": [],
   "source": [
    "def convert_action(project: int, criteria: int, expert: int, config: MouselabConfig) -> Action:\n",
    "    query = (1 + criteria) + project*config.num_criterias\n",
    "    action = Action(expert=expert, query=query)\n",
    "    return action"
   ]
  },
  {
   "cell_type": "code",
   "execution_count": 19,
   "metadata": {},
   "outputs": [
    {
     "name": "stderr",
     "output_type": "stream",
     "text": [
      "1it [00:08,  8.85s/it]"
     ]
    },
    {
     "name": "stdout",
     "output_type": "stream",
     "text": [
      "{'Age': '59', 'Gender': 'Female', 'Issues': 'None', 'Feedback': ''}\n"
     ]
    },
    {
     "name": "stderr",
     "output_type": "stream",
     "text": [
      "2it [00:16,  8.09s/it]"
     ]
    },
    {
     "name": "stdout",
     "output_type": "stream",
     "text": [
      "{'Age': '21', 'Gender': 'Male', 'Issues': '', 'Feedback': ''}\n"
     ]
    },
    {
     "name": "stderr",
     "output_type": "stream",
     "text": [
      "3it [00:23,  7.51s/it]"
     ]
    },
    {
     "name": "stdout",
     "output_type": "stream",
     "text": [
      "{'Age': '38', 'Gender': 'Male', 'Issues': 'None', 'Feedback': 'None'}\n"
     ]
    },
    {
     "name": "stderr",
     "output_type": "stream",
     "text": [
      "4it [00:25,  5.26s/it]"
     ]
    },
    {
     "name": "stdout",
     "output_type": "stream",
     "text": [
      "{'Age': '29', 'Gender': 'Male', 'Issues': 'No', 'Feedback': 'None'}\n"
     ]
    },
    {
     "name": "stderr",
     "output_type": "stream",
     "text": [
      "5it [00:31,  5.75s/it]"
     ]
    },
    {
     "name": "stdout",
     "output_type": "stream",
     "text": [
      "{'Age': '21', 'Gender': 'Male', 'Issues': 'No issues', 'Feedback': '-'}\n"
     ]
    },
    {
     "name": "stderr",
     "output_type": "stream",
     "text": [
      "6it [00:39,  6.30s/it]"
     ]
    },
    {
     "name": "stdout",
     "output_type": "stream",
     "text": [
      "{'Age': '23', 'Gender': 'male', 'Issues': '', 'Feedback': ''}\n"
     ]
    },
    {
     "name": "stderr",
     "output_type": "stream",
     "text": [
      "10it [00:42,  2.67s/it]"
     ]
    },
    {
     "name": "stdout",
     "output_type": "stream",
     "text": [
      "{'Age': '47', 'Gender': 'male', 'Issues': 'no', 'Feedback': ''}\n"
     ]
    },
    {
     "name": "stderr",
     "output_type": "stream",
     "text": [
      "12it [01:01,  4.95s/it]"
     ]
    },
    {
     "name": "stdout",
     "output_type": "stream",
     "text": [
      "{'Age': '20', 'Gender': 'Male', 'Issues': 'No it was smoooth sailing for me', 'Feedback': 'It was cool. The thrill of uncertity made it more fun like roullete'}\n"
     ]
    },
    {
     "name": "stderr",
     "output_type": "stream",
     "text": [
      "13it [01:16,  6.74s/it]"
     ]
    },
    {
     "name": "stdout",
     "output_type": "stream",
     "text": [
      "{'Age': '20', 'Gender': 'female', 'Issues': '', 'Feedback': ''}\n"
     ]
    },
    {
     "name": "stderr",
     "output_type": "stream",
     "text": [
      "14it [01:23,  6.75s/it]"
     ]
    },
    {
     "name": "stdout",
     "output_type": "stream",
     "text": [
      "{'Age': '25', 'Gender': 'FEMALE', 'Issues': 'NO', 'Feedback': 'IT WAS AMAZING'}\n"
     ]
    },
    {
     "name": "stderr",
     "output_type": "stream",
     "text": [
      "16it [01:29,  5.37s/it]"
     ]
    },
    {
     "name": "stdout",
     "output_type": "stream",
     "text": [
      "{'Age': '32', 'Gender': 'Female', 'Issues': 'None', 'Feedback': 'None'}\n"
     ]
    },
    {
     "name": "stderr",
     "output_type": "stream",
     "text": [
      "17it [01:53,  9.43s/it]"
     ]
    },
    {
     "name": "stdout",
     "output_type": "stream",
     "text": [
      "{'Age': '36', 'Gender': 'female', 'Issues': 'no', 'Feedback': ''}\n"
     ]
    },
    {
     "name": "stderr",
     "output_type": "stream",
     "text": [
      "18it [02:15, 12.30s/it]"
     ]
    },
    {
     "name": "stdout",
     "output_type": "stream",
     "text": [
      "{'Age': '25', 'Gender': 'female', 'Issues': 'no', 'Feedback': 'none'}\n"
     ]
    },
    {
     "name": "stderr",
     "output_type": "stream",
     "text": [
      "19it [02:33, 13.75s/it]"
     ]
    },
    {
     "name": "stdout",
     "output_type": "stream",
     "text": [
      "{'Age': '20', 'Gender': 'Male', 'Issues': 'No', 'Feedback': 'N/A'}\n"
     ]
    },
    {
     "name": "stderr",
     "output_type": "stream",
     "text": [
      "20it [03:01, 17.29s/it]"
     ]
    },
    {
     "name": "stdout",
     "output_type": "stream",
     "text": [
      "{'Age': '45', 'Gender': 'Male', 'Issues': 'no', 'Feedback': ''}\n"
     ]
    },
    {
     "name": "stderr",
     "output_type": "stream",
     "text": [
      "22it [03:20, 13.96s/it]"
     ]
    },
    {
     "name": "stdout",
     "output_type": "stream",
     "text": [
      "{'Age': '22', 'Gender': 'male', 'Issues': 'no', 'Feedback': ''}\n"
     ]
    },
    {
     "name": "stderr",
     "output_type": "stream",
     "text": [
      "23it [03:27, 12.49s/it]"
     ]
    },
    {
     "name": "stdout",
     "output_type": "stream",
     "text": [
      "{'Age': '40', 'Gender': 'female', 'Issues': 'no', 'Feedback': ''}\n"
     ]
    },
    {
     "name": "stderr",
     "output_type": "stream",
     "text": [
      "30it [03:49,  5.92s/it]"
     ]
    },
    {
     "name": "stdout",
     "output_type": "stream",
     "text": [
      "{'Age': '27', 'Gender': 'Male', 'Issues': 'No', 'Feedback': 'None'}\n"
     ]
    },
    {
     "name": "stderr",
     "output_type": "stream",
     "text": [
      "31it [04:05,  7.18s/it]"
     ]
    },
    {
     "name": "stdout",
     "output_type": "stream",
     "text": [
      "{'Age': '26', 'Gender': 'FEMALE', 'Issues': 'NO', 'Feedback': 'NO'}\n"
     ]
    },
    {
     "name": "stderr",
     "output_type": "stream",
     "text": [
      "32it [04:10,  6.80s/it]"
     ]
    },
    {
     "name": "stdout",
     "output_type": "stream",
     "text": [
      "{'Age': '24', 'Gender': 'female', 'Issues': 'yes', 'Feedback': 'improve your imstriclk\\n'}\n"
     ]
    },
    {
     "name": "stderr",
     "output_type": "stream",
     "text": [
      "34it [04:36,  8.68s/it]"
     ]
    },
    {
     "name": "stdout",
     "output_type": "stream",
     "text": [
      "{'Age': '25', 'Gender': 'Man', 'Issues': 'No issues.', 'Feedback': ''}\n"
     ]
    },
    {
     "name": "stderr",
     "output_type": "stream",
     "text": [
      "35it [04:42,  8.24s/it]"
     ]
    },
    {
     "name": "stdout",
     "output_type": "stream",
     "text": [
      "{'Age': '37', 'Gender': 'MAle', 'Issues': 'No issue', 'Feedback': 'Good luck with the experiment'}\n"
     ]
    },
    {
     "name": "stderr",
     "output_type": "stream",
     "text": [
      "36it [05:11, 12.42s/it]"
     ]
    },
    {
     "name": "stdout",
     "output_type": "stream",
     "text": [
      "{'Age': '57', 'Gender': 'Male', 'Issues': 'No.', 'Feedback': 'I noticed the identical nature of the scores and chose from the experts who appeared to have the highest star ratings. I sought their advice on the one factor with the largest scaleability.'}\n"
     ]
    },
    {
     "name": "stderr",
     "output_type": "stream",
     "text": [
      "37it [05:18, 11.33s/it]"
     ]
    },
    {
     "name": "stdout",
     "output_type": "stream",
     "text": [
      "{'Age': '30', 'Gender': 'Male', 'Issues': 'No. ', 'Feedback': ''}\n"
     ]
    },
    {
     "name": "stderr",
     "output_type": "stream",
     "text": [
      "39it [05:36, 10.26s/it]"
     ]
    },
    {
     "name": "stdout",
     "output_type": "stream",
     "text": [
      "{'Age': '23', 'Gender': 'Male', 'Issues': 'None', 'Feedback': 'The variables were too randomized and tools too powerless to make me do anything beyond educated guesses, but I imagine that was the scope of the experiment. So no complaints.'}\n"
     ]
    },
    {
     "name": "stderr",
     "output_type": "stream",
     "text": [
      "40it [05:39,  8.73s/it]"
     ]
    },
    {
     "name": "stdout",
     "output_type": "stream",
     "text": [
      "{'Age': '25', 'Gender': 'F', 'Issues': 'No', 'Feedback': 'No'}\n"
     ]
    },
    {
     "name": "stderr",
     "output_type": "stream",
     "text": [
      "41it [05:50,  9.35s/it]"
     ]
    },
    {
     "name": "stdout",
     "output_type": "stream",
     "text": [
      "{'Age': '32', 'Gender': 'male', 'Issues': 'no', 'Feedback': ''}\n"
     ]
    },
    {
     "name": "stderr",
     "output_type": "stream",
     "text": [
      "42it [06:10, 11.98s/it]"
     ]
    },
    {
     "name": "stdout",
     "output_type": "stream",
     "text": [
      "{'Age': '31', 'Gender': 'female', 'Issues': 'no', 'Feedback': 'thank you'}\n"
     ]
    },
    {
     "name": "stderr",
     "output_type": "stream",
     "text": [
      "43it [06:15, 10.18s/it]"
     ]
    },
    {
     "name": "stdout",
     "output_type": "stream",
     "text": [
      "{'Age': '44', 'Gender': 'Female', 'Issues': 'No', 'Feedback': ''}\n"
     ]
    },
    {
     "name": "stderr",
     "output_type": "stream",
     "text": [
      "44it [06:35, 12.97s/it]"
     ]
    },
    {
     "name": "stdout",
     "output_type": "stream",
     "text": [
      "{'Age': '33', 'Gender': 'Male', 'Issues': 'None', 'Feedback': 'None'}\n"
     ]
    },
    {
     "name": "stderr",
     "output_type": "stream",
     "text": [
      "46it [06:42,  8.78s/it]"
     ]
    },
    {
     "name": "stdout",
     "output_type": "stream",
     "text": [
      "{'Age': '58', 'Gender': 'Female', 'Issues': 'No ', 'Feedback': ''}\n"
     ]
    },
    {
     "name": "stderr",
     "output_type": "stream",
     "text": [
      "47it [07:11, 13.52s/it]"
     ]
    },
    {
     "name": "stdout",
     "output_type": "stream",
     "text": [
      "{'Age': '18', 'Gender': 'Male', 'Issues': 'No', 'Feedback': ''}\n"
     ]
    },
    {
     "name": "stderr",
     "output_type": "stream",
     "text": [
      "48it [07:38, 16.99s/it]"
     ]
    },
    {
     "name": "stdout",
     "output_type": "stream",
     "text": [
      "{'Age': '27', 'Gender': 'Male', 'Issues': '', 'Feedback': ''}\n"
     ]
    },
    {
     "name": "stderr",
     "output_type": "stream",
     "text": [
      "49it [07:44, 13.92s/it]"
     ]
    },
    {
     "name": "stdout",
     "output_type": "stream",
     "text": [
      "{'Age': '21', 'Gender': 'Female', 'Issues': 'No', 'Feedback': 'No'}\n"
     ]
    },
    {
     "name": "stderr",
     "output_type": "stream",
     "text": [
      "50it [08:04, 15.67s/it]"
     ]
    },
    {
     "name": "stdout",
     "output_type": "stream",
     "text": [
      "{'Age': '36', 'Gender': 'woman', 'Issues': 'no', 'Feedback': ''}\n"
     ]
    },
    {
     "name": "stderr",
     "output_type": "stream",
     "text": [
      "51it [08:29, 18.43s/it]"
     ]
    },
    {
     "name": "stdout",
     "output_type": "stream",
     "text": [
      "{'Age': '29', 'Gender': 'male', 'Issues': 'no', 'Feedback': '-'}\n"
     ]
    },
    {
     "name": "stderr",
     "output_type": "stream",
     "text": [
      "52it [08:56, 20.78s/it]"
     ]
    },
    {
     "name": "stdout",
     "output_type": "stream",
     "text": [
      "{'Age': '24', 'Gender': 'Female', 'Issues': 'Nope, it was well constructed and clear ', 'Feedback': 'Great game!'}\n"
     ]
    },
    {
     "name": "stderr",
     "output_type": "stream",
     "text": [
      "53it [09:23, 22.73s/it]"
     ]
    },
    {
     "name": "stdout",
     "output_type": "stream",
     "text": [
      "{'Age': '20', 'Gender': 'Male', 'Issues': 'No', 'Feedback': ''}\n"
     ]
    },
    {
     "name": "stderr",
     "output_type": "stream",
     "text": [
      "54it [09:49, 23.72s/it]"
     ]
    },
    {
     "name": "stdout",
     "output_type": "stream",
     "text": [
      "{'Age': '25', 'Gender': 'Male', 'Issues': 'Not really', 'Feedback': 'It was very interesting study <3'}\n"
     ]
    },
    {
     "name": "stderr",
     "output_type": "stream",
     "text": [
      "55it [10:19, 25.50s/it]"
     ]
    },
    {
     "name": "stdout",
     "output_type": "stream",
     "text": [
      "{'Age': '22', 'Gender': 'male', 'Issues': 'No', 'Feedback': 'Nice experiment'}\n"
     ]
    },
    {
     "name": "stderr",
     "output_type": "stream",
     "text": [
      "56it [10:47, 26.20s/it]"
     ]
    },
    {
     "name": "stdout",
     "output_type": "stream",
     "text": [
      "{'Age': '22', 'Gender': 'Male', 'Issues': 'No issues but I think that instruction could be a little easier to understand ', 'Feedback': ''}\n"
     ]
    },
    {
     "name": "stderr",
     "output_type": "stream",
     "text": [
      "57it [11:10, 25.33s/it]"
     ]
    },
    {
     "name": "stdout",
     "output_type": "stream",
     "text": [
      "{'Age': '20', 'Gender': 'Female', 'Issues': 'no', 'Feedback': 'no'}\n"
     ]
    },
    {
     "name": "stderr",
     "output_type": "stream",
     "text": [
      "59it [11:37, 19.89s/it]"
     ]
    },
    {
     "name": "stdout",
     "output_type": "stream",
     "text": [
      "{'Age': '22', 'Gender': 'Female', 'Issues': 'No', 'Feedback': 'No'}\n"
     ]
    },
    {
     "name": "stderr",
     "output_type": "stream",
     "text": [
      "60it [12:06, 22.05s/it]"
     ]
    },
    {
     "name": "stdout",
     "output_type": "stream",
     "text": [
      "{'Age': '23', 'Gender': 'female', 'Issues': 'no', 'Feedback': 'no'}\n"
     ]
    },
    {
     "name": "stderr",
     "output_type": "stream",
     "text": [
      "61it [12:19, 19.57s/it]"
     ]
    },
    {
     "name": "stdout",
     "output_type": "stream",
     "text": [
      "{'Age': '29', 'Gender': 'Male', 'Issues': 'no', 'Feedback': 'no'}\n"
     ]
    },
    {
     "name": "stderr",
     "output_type": "stream",
     "text": [
      "62it [12:26, 16.32s/it]"
     ]
    },
    {
     "name": "stdout",
     "output_type": "stream",
     "text": [
      "{'Age': '23', 'Gender': 'male', 'Issues': 'no', 'Feedback': 'no'}\n"
     ]
    },
    {
     "name": "stderr",
     "output_type": "stream",
     "text": [
      "63it [12:29, 12.50s/it]"
     ]
    },
    {
     "name": "stdout",
     "output_type": "stream",
     "text": [
      "{'Age': '30', 'Gender': 'female', 'Issues': 'n/a', 'Feedback': 'n/a'}\n"
     ]
    },
    {
     "name": "stderr",
     "output_type": "stream",
     "text": [
      "64it [12:40, 12.00s/it]"
     ]
    },
    {
     "name": "stdout",
     "output_type": "stream",
     "text": [
      "{'Age': '25', 'Gender': 'Female', 'Issues': 'No, everything was clear ', 'Feedback': ':)'}\n"
     ]
    },
    {
     "name": "stderr",
     "output_type": "stream",
     "text": [
      "65it [12:50, 11.44s/it]"
     ]
    },
    {
     "name": "stdout",
     "output_type": "stream",
     "text": [
      "{'Age': '24', 'Gender': 'female', 'Issues': 'no', 'Feedback': 'suggesting you use \"they\" instead of \"he\" when referring to the expert'}\n"
     ]
    },
    {
     "name": "stderr",
     "output_type": "stream",
     "text": [
      "66it [13:01, 11.37s/it]"
     ]
    },
    {
     "name": "stdout",
     "output_type": "stream",
     "text": [
      "{'Age': '24', 'Gender': 'female', 'Issues': 'no', 'Feedback': 'thank you for the detailed explanation'}\n"
     ]
    },
    {
     "name": "stderr",
     "output_type": "stream",
     "text": [
      "67it [13:11, 11.07s/it]"
     ]
    },
    {
     "name": "stdout",
     "output_type": "stream",
     "text": [
      "{'Age': '43', 'Gender': 'male', 'Issues': 'no', 'Feedback': 'Thank you!'}\n"
     ]
    },
    {
     "name": "stderr",
     "output_type": "stream",
     "text": [
      "68it [13:22, 11.05s/it]"
     ]
    },
    {
     "name": "stdout",
     "output_type": "stream",
     "text": [
      "{'Age': '34', 'Gender': 'Male', 'Issues': 'No', 'Feedback': ''}\n"
     ]
    },
    {
     "name": "stderr",
     "output_type": "stream",
     "text": [
      "69it [13:34, 11.32s/it]"
     ]
    },
    {
     "name": "stdout",
     "output_type": "stream",
     "text": [
      "{'Age': '22', 'Gender': 'Female', 'Issues': 'no', 'Feedback': ''}\n"
     ]
    },
    {
     "name": "stderr",
     "output_type": "stream",
     "text": [
      "70it [13:45, 11.12s/it]"
     ]
    },
    {
     "name": "stdout",
     "output_type": "stream",
     "text": [
      "{'Age': '22', 'Gender': 'Male', 'Issues': 'Not at all', 'Feedback': ' '}\n"
     ]
    },
    {
     "name": "stderr",
     "output_type": "stream",
     "text": [
      "71it [13:52,  9.93s/it]"
     ]
    },
    {
     "name": "stdout",
     "output_type": "stream",
     "text": [
      "{'Age': '34', 'Gender': 'female', 'Issues': 'everything was good', 'Feedback': 'thank you, have a good day'}\n"
     ]
    },
    {
     "name": "stderr",
     "output_type": "stream",
     "text": [
      "72it [14:04, 10.56s/it]"
     ]
    },
    {
     "name": "stdout",
     "output_type": "stream",
     "text": [
      "{'Age': '24', 'Gender': 'Male', 'Issues': '', 'Feedback': ''}\n"
     ]
    },
    {
     "name": "stderr",
     "output_type": "stream",
     "text": [
      "73it [14:13, 10.01s/it]"
     ]
    },
    {
     "name": "stdout",
     "output_type": "stream",
     "text": [
      "{'Age': '23', 'Gender': 'm', 'Issues': '', 'Feedback': ''}\n"
     ]
    },
    {
     "name": "stderr",
     "output_type": "stream",
     "text": [
      "74it [14:15,  7.85s/it]"
     ]
    },
    {
     "name": "stdout",
     "output_type": "stream",
     "text": [
      "{'Age': '23', 'Gender': 'female', 'Issues': 'no', 'Feedback': 'no'}\n"
     ]
    },
    {
     "name": "stderr",
     "output_type": "stream",
     "text": [
      "75it [14:22,  7.36s/it]"
     ]
    },
    {
     "name": "stdout",
     "output_type": "stream",
     "text": [
      "{'Age': '28', 'Gender': 'Male', 'Issues': 'N/A', 'Feedback': 'N/A'}\n"
     ]
    },
    {
     "name": "stderr",
     "output_type": "stream",
     "text": [
      "78it [14:33,  5.29s/it]"
     ]
    },
    {
     "name": "stdout",
     "output_type": "stream",
     "text": [
      "{'Age': '36', 'Gender': 'Male', 'Issues': 'No', 'Feedback': ''}\n"
     ]
    },
    {
     "name": "stderr",
     "output_type": "stream",
     "text": [
      "79it [14:43,  6.39s/it]"
     ]
    },
    {
     "name": "stdout",
     "output_type": "stream",
     "text": [
      "{'Age': '26', 'Gender': 'female', 'Issues': '', 'Feedback': 'the study was a bit confusing'}\n"
     ]
    },
    {
     "name": "stderr",
     "output_type": "stream",
     "text": [
      "80it [14:47,  5.69s/it]"
     ]
    },
    {
     "name": "stdout",
     "output_type": "stream",
     "text": [
      "{'Age': '25', 'Gender': 'Female', 'Issues': 'no', 'Feedback': 'n/a'}\n"
     ]
    },
    {
     "name": "stderr",
     "output_type": "stream",
     "text": [
      "81it [14:59,  7.30s/it]"
     ]
    },
    {
     "name": "stdout",
     "output_type": "stream",
     "text": [
      "{'Age': '26', 'Gender': 'Female', 'Issues': 'No', 'Feedback': 'No'}\n"
     ]
    },
    {
     "name": "stderr",
     "output_type": "stream",
     "text": [
      "82it [15:12,  8.76s/it]"
     ]
    },
    {
     "name": "stdout",
     "output_type": "stream",
     "text": [
      "{'Age': '34', 'Gender': 'm', 'Issues': 'no', 'Feedback': 'interesting maths ))'}\n"
     ]
    },
    {
     "name": "stderr",
     "output_type": "stream",
     "text": [
      "83it [15:25, 10.01s/it]"
     ]
    },
    {
     "name": "stdout",
     "output_type": "stream",
     "text": [
      "{'Age': '22', 'Gender': 'Male', 'Issues': '', 'Feedback': ''}\n"
     ]
    },
    {
     "name": "stderr",
     "output_type": "stream",
     "text": [
      "86it [15:36,  6.67s/it]"
     ]
    },
    {
     "name": "stdout",
     "output_type": "stream",
     "text": [
      "{'Age': '48', 'Gender': 'Male', 'Issues': 'No', 'Feedback': ''}\n"
     ]
    },
    {
     "name": "stderr",
     "output_type": "stream",
     "text": [
      "87it [15:45,  6.99s/it]"
     ]
    },
    {
     "name": "stdout",
     "output_type": "stream",
     "text": [
      "{'Age': '23', 'Gender': 'feminine', 'Issues': 'no', 'Feedback': 'no thanks'}\n"
     ]
    },
    {
     "name": "stderr",
     "output_type": "stream",
     "text": [
      "88it [15:57,  8.22s/it]"
     ]
    },
    {
     "name": "stdout",
     "output_type": "stream",
     "text": [
      "{'Age': '27', 'Gender': 'female', 'Issues': 'no', 'Feedback': 'none'}\n"
     ]
    },
    {
     "name": "stderr",
     "output_type": "stream",
     "text": [
      "89it [16:09,  9.09s/it]"
     ]
    },
    {
     "name": "stdout",
     "output_type": "stream",
     "text": [
      "{'Age': '34', 'Gender': 'Female', 'Issues': 'no', 'Feedback': 'It was an interesting survey'}\n"
     ]
    },
    {
     "name": "stderr",
     "output_type": "stream",
     "text": [
      "90it [16:18,  9.16s/it]"
     ]
    },
    {
     "name": "stdout",
     "output_type": "stream",
     "text": [
      "{'Age': '34', 'Gender': 'Male', 'Issues': 'No', 'Feedback': 'Very interesting Experiment'}\n"
     ]
    },
    {
     "name": "stderr",
     "output_type": "stream",
     "text": [
      "91it [16:29,  9.64s/it]"
     ]
    },
    {
     "name": "stdout",
     "output_type": "stream",
     "text": [
      "{'Age': '30', 'Gender': 'Female', 'Issues': 'I did not experience any issues', 'Feedback': 'This was a very strange game. I would like to know what sort of information you are able to find out about people.'}\n"
     ]
    },
    {
     "name": "stderr",
     "output_type": "stream",
     "text": [
      "92it [16:36,  8.97s/it]"
     ]
    },
    {
     "name": "stdout",
     "output_type": "stream",
     "text": [
      "{'Age': '24', 'Gender': 'Male', 'Issues': 'No', 'Feedback': 'No'}\n"
     ]
    },
    {
     "name": "stderr",
     "output_type": "stream",
     "text": [
      "93it [17:03, 13.89s/it]"
     ]
    },
    {
     "name": "stdout",
     "output_type": "stream",
     "text": [
      "{'Age': '20', 'Gender': 'female', 'Issues': 'No, everything was alright.', 'Feedback': 'It was definitely an interesting experiment.'}\n"
     ]
    },
    {
     "name": "stderr",
     "output_type": "stream",
     "text": [
      "96it [17:19,  9.32s/it]"
     ]
    },
    {
     "name": "stdout",
     "output_type": "stream",
     "text": [
      "{'Age': '26', 'Gender': 'Female', 'Issues': 'No', 'Feedback': ''}\n"
     ]
    },
    {
     "name": "stderr",
     "output_type": "stream",
     "text": [
      "97it [17:47, 13.17s/it]"
     ]
    },
    {
     "name": "stdout",
     "output_type": "stream",
     "text": [
      "{'Age': '44', 'Gender': 'Male', 'Issues': 'No. All inctructions was clear. No issues.', 'Feedback': ''}\n"
     ]
    },
    {
     "name": "stderr",
     "output_type": "stream",
     "text": [
      "98it [18:09, 15.23s/it]"
     ]
    },
    {
     "name": "stdout",
     "output_type": "stream",
     "text": [
      "{'Age': '25', 'Gender': 'female', 'Issues': 'no', 'Feedback': 'none'}\n"
     ]
    },
    {
     "name": "stderr",
     "output_type": "stream",
     "text": [
      "99it [18:14, 12.65s/it]"
     ]
    },
    {
     "name": "stdout",
     "output_type": "stream",
     "text": [
      "{'Age': '43', 'Gender': 'Female', 'Issues': 'N/A', 'Feedback': 'Difficult game'}\n"
     ]
    },
    {
     "name": "stderr",
     "output_type": "stream",
     "text": [
      "100it [18:39, 15.71s/it]"
     ]
    },
    {
     "name": "stdout",
     "output_type": "stream",
     "text": [
      "{'Age': '20', 'Gender': 'Female', 'Issues': 'No', 'Feedback': ''}\n"
     ]
    },
    {
     "name": "stderr",
     "output_type": "stream",
     "text": [
      "101it [19:02, 17.92s/it]"
     ]
    },
    {
     "name": "stdout",
     "output_type": "stream",
     "text": [
      "{'Age': '24', 'Gender': 'Female', 'Issues': 'Took time to load', 'Feedback': 'None'}\n"
     ]
    },
    {
     "name": "stderr",
     "output_type": "stream",
     "text": [
      "103it [19:31, 11.37s/it]"
     ]
    },
    {
     "name": "stdout",
     "output_type": "stream",
     "text": [
      "{'Age': '27', 'Gender': 'Male', 'Issues': '', 'Feedback': ''}\n",
      "Responses: 80\n"
     ]
    },
    {
     "name": "stderr",
     "output_type": "stream",
     "text": [
      "\n"
     ]
    }
   ],
   "source": [
    "df_index = [\"Participant\", \"TrialId\", \"Score\", \"ExpectedScore\", \"NumClicks\", \"Actions\", \"Selection\",\n",
    "        \"Seed\", \"ClickAgreement\"]    \n",
    "df_data = []\n",
    "\n",
    "bonus_data = {}\n",
    "known_workers = []\n",
    "good_responses = 0\n",
    "demographics = []\n",
    "\n",
    "participant_actions = []\n",
    "\n",
    "# Parse raw mturk data into dataframe\n",
    "for p_index, p_data in tqdm(enumerate(data[\"values\"])):\n",
    "    # Filter out empty responses\n",
    "    language = p_data[language_index]\n",
    "    response_data = p_data[response_data_index]\n",
    "    if p_data[begin_index] and p_data[end_index]:\n",
    "        begin = datetime.datetime.strptime(p_data[begin_index], f)\n",
    "        end = datetime.datetime.strptime(p_data[end_index], f)\n",
    "        duration = (end - begin).total_seconds()\n",
    "    else:\n",
    "        duration = None\n",
    "    if (response_data != None):\n",
    "        p_res_obj = json.loads(response_data)\n",
    "        if (not p_res_obj[\"workerId\"].startswith(\"debug\")):\n",
    "            condition = p_res_obj[\"condition\"]\n",
    "            worker = p_index # p_res_obj[\"workerId\"]#\n",
    "            if worker in known_workers:\n",
    "                print(\"Duplicate worker\", worker)\n",
    "            else: \n",
    "                known_workers.append(worker)\n",
    "            p_res = p_res_obj[\"data\"]\n",
    "            participant_responses = []\n",
    "            if \"quiz_failures\" in p_res_obj[\"questiondata\"].keys():\n",
    "                quiz_failures = p_res_obj[\"questiondata\"][\"quiz_failures\"]\n",
    "            else:\n",
    "                quiz_failures = 0\n",
    "            if \"final_bonus\" in p_res_obj[\"questiondata\"].keys():\n",
    "                bonus =  p_res_obj[\"questiondata\"][\"final_bonus\"]\n",
    "            else:\n",
    "                bonus = 0\n",
    "            participant_survey = {\"Participant\": worker, \"Condition\": condition, \"Language\": language, \"QuizAttempts\": 0, \"QuizFailures\": quiz_failures, \"Bonus\": bonus, \"Duration\": duration}\n",
    "            completed_test_trials = sum([1 if ('trial_id' in  p_res[i]['trialdata'].keys() and p_res[i]['trialdata']['trial_id'].startswith(\"test\")) else 0 for i in range(len(p_res))])\n",
    "            if (quiz_failures < 3) and (completed_test_trials == 10):\n",
    "                for i in range(len(p_res)):\n",
    "                    # Get test trials\n",
    "                    if 'trial_id' in p_res[i]['trialdata'].keys() and p_res[i]['trialdata']['trial_id'].startswith(\"test\"):\n",
    "                        trial_id = p_res[i]['trialdata']['trial_id']\n",
    "                        seed = int(p_res[i]['trialdata']['seed'])\n",
    "                        ground_truth = p_res[i]['trialdata']['ground_truth']\n",
    "                        # project, criteria, expert\n",
    "                        clicks = p_res[i]['trialdata'][\"clicks\"]\n",
    "                        num_clicks = len(clicks)\n",
    "                        selected_project = p_res[i]['trialdata'][\"selected_project\"]\n",
    "                        term_reward = p_res[i]['trialdata'][\"reward\"]\n",
    "                        expected_reward = p_res[i]['trialdata'][\"expected_reward\"]\n",
    "                        # Calculate real env rewards\n",
    "                        env.reset(seed=seed)\n",
    "                        actions = [convert_action(*click, config) for click in clicks]\n",
    "                        participant_actions.extend(actions)\n",
    "                        cost = 0\n",
    "                        # Click agreement\n",
    "                        click_agreement = []\n",
    "                        for action in actions:\n",
    "                            optimal_actions = voc_policy.get_best_actions(env)\n",
    "                            if action in optimal_actions:\n",
    "                                click_agreement.append(1)\n",
    "                            else:\n",
    "                                click_agreement.append(0)\n",
    "                            _, reward, _, _ = env.step(action)\n",
    "                            cost += reward\n",
    "                        optimal_actions = voc_policy.get_best_actions(env)\n",
    "                        if env.term_action in optimal_actions:\n",
    "                            click_agreement.append(1)\n",
    "                        else:\n",
    "                            click_agreement.append(0)\n",
    "                        path = np.array(range(1, config.num_criterias+1))+(selected_project*config.num_criterias)\n",
    "                        env_expected_reward = cost + env.expected_path_value(path, env.state)\n",
    "                        env_term_reward = cost + env.path_value(path)\n",
    "                        assert np.all(np.isclose(ground_truth, env.ground_truth.tolist()))\n",
    "                        assert np.all(np.isclose(np.array(format_payoff(config.num_projects, config.num_criterias, env.expert_truths.tolist())), p_res[i]['trialdata']['payoff_matrix']))\n",
    "                        assert np.isclose(term_reward, env_term_reward)\n",
    "                        assert np.isclose(expected_reward, env_expected_reward)\n",
    "                        \n",
    "                        #[\"Participant\", \"TrialId\", \"Score\", \"ExpectedScore\", \"NumClicks\", \"Actions\", \"Selection\", \"Seed\"] \n",
    "                        df_data.append([worker, trial_id, term_reward, expected_reward, num_clicks, clicks, selected_project, seed, np.mean(click_agreement)])\n",
    "                    elif 'trial_id' in p_res[i]['trialdata'].keys() and p_res[i]['trialdata']['trial_id'].startswith(\"train\"):\n",
    "                        pass\n",
    "                    elif p_res[i]['trialdata'][\"trial_type\"] == \"survey-text\":\n",
    "                        #print(p_res[i]['trialdata'].keys())\n",
    "                        print(p_res[i]['trialdata'][\"response\"])\n",
    "                        for key, val in p_res[i]['trialdata'].items():\n",
    "                            pass\n",
    "                            #print(key, val)\n",
    "                    \n",
    "\n",
    "df = pd.DataFrame(df_data, columns=df_index)\n",
    "print(\"Responses:\", len(df[\"Participant\"].unique()))"
   ]
  },
  {
   "cell_type": "code",
   "execution_count": 23,
   "metadata": {},
   "outputs": [
    {
     "name": "stderr",
     "output_type": "stream",
     "text": [
      "C:\\Users\\lheindrich\\AppData\\Local\\Temp\\ipykernel_25568\\2616027.py:1: FutureWarning: The default value of numeric_only in DataFrameGroupBy.mean is deprecated. In a future version, numeric_only will default to False. Either specify numeric_only or select only columns which should be valid for the function.\n",
      "  df.groupby(\"Participant\").mean()\n"
     ]
    },
    {
     "data": {
      "text/html": [
       "<div>\n",
       "<style scoped>\n",
       "    .dataframe tbody tr th:only-of-type {\n",
       "        vertical-align: middle;\n",
       "    }\n",
       "\n",
       "    .dataframe tbody tr th {\n",
       "        vertical-align: top;\n",
       "    }\n",
       "\n",
       "    .dataframe thead th {\n",
       "        text-align: right;\n",
       "    }\n",
       "</style>\n",
       "<table border=\"1\" class=\"dataframe\">\n",
       "  <thead>\n",
       "    <tr style=\"text-align: right;\">\n",
       "      <th></th>\n",
       "      <th>Score</th>\n",
       "      <th>ExpectedScore</th>\n",
       "      <th>NumClicks</th>\n",
       "      <th>Selection</th>\n",
       "      <th>Seed</th>\n",
       "      <th>ClickAgreement</th>\n",
       "    </tr>\n",
       "    <tr>\n",
       "      <th>Participant</th>\n",
       "      <th></th>\n",
       "      <th></th>\n",
       "      <th></th>\n",
       "      <th></th>\n",
       "      <th></th>\n",
       "      <th></th>\n",
       "    </tr>\n",
       "  </thead>\n",
       "  <tbody>\n",
       "    <tr>\n",
       "      <th>0</th>\n",
       "      <td>3.935127</td>\n",
       "      <td>3.690650</td>\n",
       "      <td>5.0</td>\n",
       "      <td>2.1</td>\n",
       "      <td>15.5</td>\n",
       "      <td>0.166667</td>\n",
       "    </tr>\n",
       "    <tr>\n",
       "      <th>1</th>\n",
       "      <td>3.830818</td>\n",
       "      <td>3.641995</td>\n",
       "      <td>3.4</td>\n",
       "      <td>1.4</td>\n",
       "      <td>15.5</td>\n",
       "      <td>0.033333</td>\n",
       "    </tr>\n",
       "    <tr>\n",
       "      <th>2</th>\n",
       "      <td>3.717115</td>\n",
       "      <td>3.598912</td>\n",
       "      <td>2.7</td>\n",
       "      <td>1.0</td>\n",
       "      <td>15.5</td>\n",
       "      <td>0.000000</td>\n",
       "    </tr>\n",
       "    <tr>\n",
       "      <th>3</th>\n",
       "      <td>3.459099</td>\n",
       "      <td>3.401164</td>\n",
       "      <td>0.0</td>\n",
       "      <td>2.2</td>\n",
       "      <td>15.5</td>\n",
       "      <td>0.000000</td>\n",
       "    </tr>\n",
       "    <tr>\n",
       "      <th>4</th>\n",
       "      <td>3.968477</td>\n",
       "      <td>3.656017</td>\n",
       "      <td>2.8</td>\n",
       "      <td>1.7</td>\n",
       "      <td>15.5</td>\n",
       "      <td>0.066667</td>\n",
       "    </tr>\n",
       "    <tr>\n",
       "      <th>...</th>\n",
       "      <td>...</td>\n",
       "      <td>...</td>\n",
       "      <td>...</td>\n",
       "      <td>...</td>\n",
       "      <td>...</td>\n",
       "      <td>...</td>\n",
       "    </tr>\n",
       "    <tr>\n",
       "      <th>97</th>\n",
       "      <td>3.706930</td>\n",
       "      <td>3.532166</td>\n",
       "      <td>5.0</td>\n",
       "      <td>1.8</td>\n",
       "      <td>15.5</td>\n",
       "      <td>0.200000</td>\n",
       "    </tr>\n",
       "    <tr>\n",
       "      <th>98</th>\n",
       "      <td>3.435311</td>\n",
       "      <td>3.401164</td>\n",
       "      <td>0.0</td>\n",
       "      <td>2.5</td>\n",
       "      <td>15.5</td>\n",
       "      <td>0.000000</td>\n",
       "    </tr>\n",
       "    <tr>\n",
       "      <th>99</th>\n",
       "      <td>3.922275</td>\n",
       "      <td>3.715833</td>\n",
       "      <td>5.0</td>\n",
       "      <td>2.4</td>\n",
       "      <td>15.5</td>\n",
       "      <td>0.383333</td>\n",
       "    </tr>\n",
       "    <tr>\n",
       "      <th>100</th>\n",
       "      <td>3.709821</td>\n",
       "      <td>3.445381</td>\n",
       "      <td>4.0</td>\n",
       "      <td>2.1</td>\n",
       "      <td>15.5</td>\n",
       "      <td>0.133333</td>\n",
       "    </tr>\n",
       "    <tr>\n",
       "      <th>101</th>\n",
       "      <td>3.941252</td>\n",
       "      <td>3.626980</td>\n",
       "      <td>4.9</td>\n",
       "      <td>3.0</td>\n",
       "      <td>15.5</td>\n",
       "      <td>0.406667</td>\n",
       "    </tr>\n",
       "  </tbody>\n",
       "</table>\n",
       "<p>80 rows × 6 columns</p>\n",
       "</div>"
      ],
      "text/plain": [
       "                Score  ExpectedScore  NumClicks  Selection  Seed  \\\n",
       "Participant                                                        \n",
       "0            3.935127       3.690650        5.0        2.1  15.5   \n",
       "1            3.830818       3.641995        3.4        1.4  15.5   \n",
       "2            3.717115       3.598912        2.7        1.0  15.5   \n",
       "3            3.459099       3.401164        0.0        2.2  15.5   \n",
       "4            3.968477       3.656017        2.8        1.7  15.5   \n",
       "...               ...            ...        ...        ...   ...   \n",
       "97           3.706930       3.532166        5.0        1.8  15.5   \n",
       "98           3.435311       3.401164        0.0        2.5  15.5   \n",
       "99           3.922275       3.715833        5.0        2.4  15.5   \n",
       "100          3.709821       3.445381        4.0        2.1  15.5   \n",
       "101          3.941252       3.626980        4.9        3.0  15.5   \n",
       "\n",
       "             ClickAgreement  \n",
       "Participant                  \n",
       "0                  0.166667  \n",
       "1                  0.033333  \n",
       "2                  0.000000  \n",
       "3                  0.000000  \n",
       "4                  0.066667  \n",
       "...                     ...  \n",
       "97                 0.200000  \n",
       "98                 0.000000  \n",
       "99                 0.383333  \n",
       "100                0.133333  \n",
       "101                0.406667  \n",
       "\n",
       "[80 rows x 6 columns]"
      ]
     },
     "execution_count": 23,
     "metadata": {},
     "output_type": "execute_result"
    }
   ],
   "source": [
    "df.groupby(\"Participant\").mean()"
   ]
  },
  {
   "cell_type": "code",
   "execution_count": 24,
   "metadata": {},
   "outputs": [
    {
     "name": "stderr",
     "output_type": "stream",
     "text": [
      "C:\\Users\\lheindrich\\AppData\\Local\\Temp\\ipykernel_25568\\1129004770.py:1: FutureWarning: The default value of numeric_only in DataFrameGroupBy.mean is deprecated. In a future version, numeric_only will default to False. Either specify numeric_only or select only columns which should be valid for the function.\n",
      "  sns.histplot(df.groupby(\"Participant\").mean(), x=\"ClickAgreement\")\n"
     ]
    },
    {
     "data": {
      "text/plain": [
       "<AxesSubplot: xlabel='ClickAgreement', ylabel='Count'>"
      ]
     },
     "execution_count": 24,
     "metadata": {},
     "output_type": "execute_result"
    },
    {
     "data": {
      "image/png": "[encoded data removed]",
      "text/plain": [
       "<Figure size 1000x600 with 1 Axes>"
      ]
     },
     "metadata": {},
     "output_type": "display_data"
    }
   ],
   "source": [
    "sns.histplot(df.groupby(\"Participant\").mean(), x=\"ClickAgreement\")"
   ]
  },
  {
   "cell_type": "code",
   "execution_count": 11,
   "metadata": {},
   "outputs": [
    {
     "name": "stderr",
     "output_type": "stream",
     "text": [
      "  0%|          | 0/10 [00:00<?, ?it/s]"
     ]
    },
    {
     "name": "stdout",
     "output_type": "stream",
     "text": [
      "Action(expert=1, query=17) 5.0\n",
      "Action(expert=5, query=17) 4.0\n",
      "Action(expert=1, query=11) 3.0\n",
      "Action(expert=1, query=5) 5.0\n"
     ]
    },
    {
     "name": "stderr",
     "output_type": "stream",
     "text": [
      " 10%|█         | 1/10 [00:00<00:08,  1.06it/s]"
     ]
    },
    {
     "name": "stdout",
     "output_type": "stream",
     "text": [
      "Action(expert=5, query=5) 4.0\n",
      "Action(expert=6, query=31) 0.0\n",
      "[Action(expert=1, query=17), Action(expert=5, query=17), Action(expert=1, query=11), Action(expert=1, query=5), Action(expert=5, query=5)]\n",
      "Action(expert=1, query=5) 5.0\n",
      "Action(expert=5, query=5) 3.0\n",
      "Action(expert=1, query=23) 4.0\n"
     ]
    },
    {
     "name": "stderr",
     "output_type": "stream",
     "text": [
      " 20%|██        | 2/10 [00:01<00:07,  1.09it/s]"
     ]
    },
    {
     "name": "stdout",
     "output_type": "stream",
     "text": [
      "Action(expert=1, query=11) 3.0\n",
      "Action(expert=1, query=17) 5.0\n",
      "Action(expert=6, query=31) 0.0\n",
      "[Action(expert=1, query=5), Action(expert=5, query=5), Action(expert=1, query=23), Action(expert=1, query=11), Action(expert=1, query=17)]\n",
      "Action(expert=1, query=5) 5.0\n",
      "Action(expert=5, query=5) 5.0\n"
     ]
    },
    {
     "name": "stderr",
     "output_type": "stream",
     "text": [
      " 30%|███       | 3/10 [00:02<00:05,  1.28it/s]"
     ]
    },
    {
     "name": "stdout",
     "output_type": "stream",
     "text": [
      "Action(expert=6, query=31) 0.0\n",
      "[Action(expert=1, query=5), Action(expert=5, query=5)]\n",
      "Action(expert=1, query=5) 1.0\n",
      "Action(expert=1, query=11) 2.0\n",
      "Action(expert=1, query=29) 3.0\n"
     ]
    },
    {
     "name": "stderr",
     "output_type": "stream",
     "text": [
      " 40%|████      | 4/10 [00:03<00:05,  1.20it/s]"
     ]
    },
    {
     "name": "stdout",
     "output_type": "stream",
     "text": [
      "Action(expert=1, query=23) 4.0\n",
      "Action(expert=1, query=17) 5.0\n",
      "Action(expert=6, query=31) 0.0\n",
      "[Action(expert=1, query=5), Action(expert=1, query=11), Action(expert=1, query=29), Action(expert=1, query=23), Action(expert=1, query=17)]\n",
      "Action(expert=1, query=11) 3.0\n",
      "Action(expert=1, query=29) 5.0\n"
     ]
    },
    {
     "name": "stderr",
     "output_type": "stream",
     "text": [
      " 50%|█████     | 5/10 [00:04<00:04,  1.24it/s]"
     ]
    },
    {
     "name": "stdout",
     "output_type": "stream",
     "text": [
      "Action(expert=5, query=29) 5.0\n",
      "Action(expert=6, query=31) 0.0\n",
      "[Action(expert=1, query=11), Action(expert=1, query=29), Action(expert=5, query=29)]\n",
      "Action(expert=1, query=29) 5.0\n",
      "Action(expert=5, query=29) 3.0\n",
      "Action(expert=1, query=23) 3.0\n"
     ]
    },
    {
     "name": "stderr",
     "output_type": "stream",
     "text": [
      " 60%|██████    | 6/10 [00:05<00:03,  1.16it/s]"
     ]
    },
    {
     "name": "stdout",
     "output_type": "stream",
     "text": [
      "Action(expert=1, query=5) 4.0\n",
      "Action(expert=1, query=17) 2.0\n",
      "Action(expert=6, query=31) 0.0\n",
      "[Action(expert=1, query=29), Action(expert=5, query=29), Action(expert=1, query=23), Action(expert=1, query=5), Action(expert=1, query=17)]\n",
      "Action(expert=1, query=29) 4.0\n",
      "Action(expert=1, query=5) 4.0\n",
      "Action(expert=1, query=23) 4.0\n",
      "Action(expert=1, query=11) 5.0\n"
     ]
    },
    {
     "name": "stderr",
     "output_type": "stream",
     "text": [
      " 70%|███████   | 7/10 [00:06<00:02,  1.14it/s]"
     ]
    },
    {
     "name": "stdout",
     "output_type": "stream",
     "text": [
      "Action(expert=5, query=11) 5.0\n",
      "Action(expert=6, query=31) 0.0\n",
      "[Action(expert=1, query=29), Action(expert=1, query=5), Action(expert=1, query=23), Action(expert=1, query=11), Action(expert=5, query=11)]\n",
      "Action(expert=1, query=23) 4.0\n",
      "Action(expert=1, query=29) 5.0\n",
      "Action(expert=5, query=29) 5.0\n"
     ]
    },
    {
     "name": "stderr",
     "output_type": "stream",
     "text": [
      " 80%|████████  | 8/10 [00:06<00:01,  1.20it/s]"
     ]
    },
    {
     "name": "stdout",
     "output_type": "stream",
     "text": [
      "Action(expert=6, query=31) 0.0\n",
      "[Action(expert=1, query=23), Action(expert=1, query=29), Action(expert=5, query=29)]\n",
      "Action(expert=1, query=5) 5.0\n",
      "Action(expert=5, query=5) 1.0\n",
      "Action(expert=1, query=17) 5.0\n"
     ]
    },
    {
     "name": "stderr",
     "output_type": "stream",
     "text": [
      " 90%|█████████ | 9/10 [00:07<00:00,  1.16it/s]"
     ]
    },
    {
     "name": "stdout",
     "output_type": "stream",
     "text": [
      "Action(expert=5, query=17) 5.0\n",
      "Action(expert=6, query=31) 0.0\n",
      "[Action(expert=1, query=5), Action(expert=5, query=5), Action(expert=1, query=17), Action(expert=5, query=17)]\n",
      "Action(expert=1, query=23) 5.0\n",
      "Action(expert=5, query=23) 5.0\n"
     ]
    },
    {
     "name": "stderr",
     "output_type": "stream",
     "text": [
      "100%|██████████| 10/10 [00:08<00:00,  1.21it/s]"
     ]
    },
    {
     "name": "stdout",
     "output_type": "stream",
     "text": [
      "Action(expert=6, query=31) 0.0\n",
      "[Action(expert=1, query=23), Action(expert=5, query=23)]\n",
      "      NumClicks      Seed     Score  ExpectedScore\n",
      "mean   3.900000  15.50000  4.085070       3.751739\n",
      "std    1.286684   3.02765  0.504705       0.107547\n"
     ]
    },
    {
     "name": "stderr",
     "output_type": "stream",
     "text": [
      "\n"
     ]
    }
   ],
   "source": [
    "# Cost weight 0.5798921379230035 for discrete with max 5 actions\n",
    "voc_policy = JAS_voc_policy(discrete_observations=True, cost_weight=0.5798921379230035)\n",
    "res, simulation_actions = run_simulation(env, voc_policy, start_seed=11, n=10)\n",
    "res = res.drop([\"reward\", \"runtime\"], axis=1)\n",
    "res = res.rename({\"actions\": \"NumClicks\", \"seed\": \"Seed\", \"true_reward\": \"Score\", \"expected_reward\": \"ExpectedScore\"}, axis=1)\n",
    "print(res.agg([\"mean\", \"std\"]))\n",
    "res[\"Type\"] = \"MGPO\""
   ]
  },
  {
   "cell_type": "code",
   "execution_count": 23,
   "metadata": {},
   "outputs": [],
   "source": [
    "def query_to_criteria(query):\n",
    "    return (query-1)%config.num_criterias\n",
    "\n",
    "all_actions = []\n",
    "for episode in simulation_actions:\n",
    "    for action in episode:\n",
    "        all_actions.append([action.expert, query_to_criteria(action.query), action.query, \"MGPO\"])\n",
    "for action in participant_actions:\n",
    "    all_actions.append([action.expert, query_to_criteria(action.query), action.query, \"Participant\"])\n"
   ]
  },
  {
   "cell_type": "code",
   "execution_count": 24,
   "metadata": {},
   "outputs": [
    {
     "data": {
      "text/plain": [
       "Text(0.5, 1.0, 'Criteria frequency')"
      ]
     },
     "execution_count": 24,
     "metadata": {},
     "output_type": "execute_result"
    },
    {
     "data": {
      "image/png": "[encoded data removed]",
      "text/plain": [
       "<Figure size 900x400 with 2 Axes>"
      ]
     },
     "metadata": {},
     "output_type": "display_data"
    }
   ],
   "source": [
    "action_df = pd.DataFrame(all_actions, columns=[\"Expert\", \"Criteria\", \"Query\", \"Type\"])\n",
    "\n",
    "fig, axes =plt.subplots(1,2, figsize=(9,4))\n",
    "axes = axes.flatten()\n",
    "\n",
    "g = sns.histplot(action_df, x=\"Expert\", stat=\"probability\", discrete=True, common_bins=True, multiple=\"dodge\", shrink=.9, common_norm = False, hue=\"Type\", ax=axes[0])\n",
    "g.set_title(\"Expert frequency\")\n",
    "\n",
    "g = sns.histplot(action_df, x=\"Criteria\", stat=\"probability\", discrete=True, common_bins=True, multiple=\"dodge\", shrink=.9, common_norm = False, hue=\"Type\", ax=axes[1])\n",
    "g.set_title(\"Criteria frequency\")"
   ]
  },
  {
   "attachments": {},
   "cell_type": "markdown",
   "metadata": {},
   "source": [
    "### Characteristics of the optimal strategy: \n",
    "- Only investigate Criteria 5\n",
    "- Only ask expert 1 and 5\n",
    "- If first expert 1 reveals \"5\", ask expert 5 about the same node\n",
    "    - If both say \"5\", terminate\n",
    "    - Else, ask expert 1 about a different node\n",
    "- Else, ask expert 1 about a different node"
   ]
  },
  {
   "cell_type": "code",
   "execution_count": 73,
   "metadata": {},
   "outputs": [
    {
     "data": {
      "image/svg+xml": "<?xml version=\"1.0\" encoding=\"UTF-8\" standalone=\"no\"?>\n<!DOCTYPE svg PUBLIC \"-//W3C//DTD SVG 1.1//EN\"\n \"http://www.w3.org/Graphics/SVG/1.1/DTD/svg11.dtd\">\n<!-- Generated by graphviz version 6.0.1 (0)\n -->\n<!-- Pages: 1 -->\n<svg width=\"350pt\" height=\"476pt\"\n viewBox=\"0.00 0.00 350.00 476.00\" xmlns=\"http://www.w3.org/2000/svg\" xmlns:xlink=\"http://www.w3.org/1999/xlink\">\n<g id=\"graph0\" class=\"graph\" transform=\"scale(1 1) rotate(0) translate(4 472)\">\n<polygon fill=\"white\" stroke=\"none\" points=\"-4,4 -4,-472 346,-472 346,4 -4,4\"/>\n<!-- 0 -->\n<g id=\"node1\" class=\"node\">\n<title>0</title>\n<ellipse fill=\"grey\" stroke=\"grey\" cx=\"171\" cy=\"-450\" rx=\"27\" ry=\"18\"/>\n<text text-anchor=\"middle\" x=\"171\" y=\"-446.3\" font-family=\"Times New Roman,serif\" font-size=\"14.00\">0</text>\n</g>\n<!-- 1 -->\n<g id=\"node2\" class=\"node\">\n<title>1</title>\n<ellipse fill=\"grey\" stroke=\"grey\" cx=\"27\" cy=\"-378\" rx=\"27\" ry=\"18\"/>\n<text text-anchor=\"middle\" x=\"27\" y=\"-374.3\" font-family=\"Times New Roman,serif\" font-size=\"14.00\">1</text>\n</g>\n<!-- 0&#45;&gt;1 -->\n<g id=\"edge1\" class=\"edge\">\n<title>0&#45;&gt;1</title>\n<path fill=\"none\" stroke=\"black\" d=\"M149.75,-438.67C125.4,-426.83 85.28,-407.33 57.57,-393.86\"/>\n<polygon fill=\"black\" stroke=\"black\" points=\"58.86,-390.6 48.33,-389.37 55.8,-396.89 58.86,-390.6\"/>\n</g>\n<!-- 7 -->\n<g id=\"node3\" class=\"node\">\n<title>7</title>\n<ellipse fill=\"grey\" stroke=\"grey\" cx=\"99\" cy=\"-378\" rx=\"27\" ry=\"18\"/>\n<text text-anchor=\"middle\" x=\"99\" y=\"-374.3\" font-family=\"Times New Roman,serif\" font-size=\"14.00\">7</text>\n</g>\n<!-- 0&#45;&gt;7 -->\n<g id=\"edge2\" class=\"edge\">\n<title>0&#45;&gt;7</title>\n<path fill=\"none\" stroke=\"black\" d=\"M156.43,-434.83C146.25,-424.94 132.48,-411.55 120.97,-400.36\"/>\n<polygon fill=\"black\" stroke=\"black\" points=\"123.41,-397.85 113.8,-393.38 118.53,-402.87 123.41,-397.85\"/>\n</g>\n<!-- 13 -->\n<g id=\"node4\" class=\"node\">\n<title>13</title>\n<ellipse fill=\"grey\" stroke=\"grey\" cx=\"171\" cy=\"-378\" rx=\"27\" ry=\"18\"/>\n<text text-anchor=\"middle\" x=\"171\" y=\"-374.3\" font-family=\"Times New Roman,serif\" font-size=\"14.00\">13</text>\n</g>\n<!-- 0&#45;&gt;13 -->\n<g id=\"edge3\" class=\"edge\">\n<title>0&#45;&gt;13</title>\n<path fill=\"none\" stroke=\"black\" d=\"M171,-431.7C171,-423.98 171,-414.71 171,-406.11\"/>\n<polygon fill=\"black\" stroke=\"black\" points=\"174.5,-406.1 171,-396.1 167.5,-406.1 174.5,-406.1\"/>\n</g>\n<!-- 19 -->\n<g id=\"node5\" class=\"node\">\n<title>19</title>\n<ellipse fill=\"grey\" stroke=\"grey\" cx=\"243\" cy=\"-378\" rx=\"27\" ry=\"18\"/>\n<text text-anchor=\"middle\" x=\"243\" y=\"-374.3\" font-family=\"Times New Roman,serif\" font-size=\"14.00\">19</text>\n</g>\n<!-- 0&#45;&gt;19 -->\n<g id=\"edge4\" class=\"edge\">\n<title>0&#45;&gt;19</title>\n<path fill=\"none\" stroke=\"black\" d=\"M185.57,-434.83C195.75,-424.94 209.52,-411.55 221.03,-400.36\"/>\n<polygon fill=\"black\" stroke=\"black\" points=\"223.47,-402.87 228.2,-393.38 218.59,-397.85 223.47,-402.87\"/>\n</g>\n<!-- 25 -->\n<g id=\"node6\" class=\"node\">\n<title>25</title>\n<ellipse fill=\"grey\" stroke=\"grey\" cx=\"315\" cy=\"-378\" rx=\"27\" ry=\"18\"/>\n<text text-anchor=\"middle\" x=\"315\" y=\"-374.3\" font-family=\"Times New Roman,serif\" font-size=\"14.00\">25</text>\n</g>\n<!-- 0&#45;&gt;25 -->\n<g id=\"edge5\" class=\"edge\">\n<title>0&#45;&gt;25</title>\n<path fill=\"none\" stroke=\"black\" d=\"M192.25,-438.67C216.6,-426.83 256.72,-407.33 284.43,-393.86\"/>\n<polygon fill=\"black\" stroke=\"black\" points=\"286.2,-396.89 293.67,-389.37 283.14,-390.6 286.2,-396.89\"/>\n</g>\n<!-- 2 -->\n<g id=\"node7\" class=\"node\">\n<title>2</title>\n<ellipse fill=\"grey\" stroke=\"grey\" cx=\"27\" cy=\"-306\" rx=\"27\" ry=\"18\"/>\n<text text-anchor=\"middle\" x=\"27\" y=\"-302.3\" font-family=\"Times New Roman,serif\" font-size=\"14.00\">2</text>\n</g>\n<!-- 1&#45;&gt;2 -->\n<g id=\"edge6\" class=\"edge\">\n<title>1&#45;&gt;2</title>\n<path fill=\"none\" stroke=\"black\" d=\"M27,-359.7C27,-351.98 27,-342.71 27,-334.11\"/>\n<polygon fill=\"black\" stroke=\"black\" points=\"30.5,-334.1 27,-324.1 23.5,-334.1 30.5,-334.1\"/>\n</g>\n<!-- 8 -->\n<g id=\"node12\" class=\"node\">\n<title>8</title>\n<ellipse fill=\"grey\" stroke=\"grey\" cx=\"99\" cy=\"-306\" rx=\"27\" ry=\"18\"/>\n<text text-anchor=\"middle\" x=\"99\" y=\"-302.3\" font-family=\"Times New Roman,serif\" font-size=\"14.00\">8</text>\n</g>\n<!-- 7&#45;&gt;8 -->\n<g id=\"edge11\" class=\"edge\">\n<title>7&#45;&gt;8</title>\n<path fill=\"none\" stroke=\"black\" d=\"M99,-359.7C99,-351.98 99,-342.71 99,-334.11\"/>\n<polygon fill=\"black\" stroke=\"black\" points=\"102.5,-334.1 99,-324.1 95.5,-334.1 102.5,-334.1\"/>\n</g>\n<!-- 14 -->\n<g id=\"node17\" class=\"node\">\n<title>14</title>\n<ellipse fill=\"grey\" stroke=\"grey\" cx=\"171\" cy=\"-306\" rx=\"27\" ry=\"18\"/>\n<text text-anchor=\"middle\" x=\"171\" y=\"-302.3\" font-family=\"Times New Roman,serif\" font-size=\"14.00\">14</text>\n</g>\n<!-- 13&#45;&gt;14 -->\n<g id=\"edge16\" class=\"edge\">\n<title>13&#45;&gt;14</title>\n<path fill=\"none\" stroke=\"black\" d=\"M171,-359.7C171,-351.98 171,-342.71 171,-334.11\"/>\n<polygon fill=\"black\" stroke=\"black\" points=\"174.5,-334.1 171,-324.1 167.5,-334.1 174.5,-334.1\"/>\n</g>\n<!-- 20 -->\n<g id=\"node22\" class=\"node\">\n<title>20</title>\n<ellipse fill=\"grey\" stroke=\"grey\" cx=\"243\" cy=\"-306\" rx=\"27\" ry=\"18\"/>\n<text text-anchor=\"middle\" x=\"243\" y=\"-302.3\" font-family=\"Times New Roman,serif\" font-size=\"14.00\">20</text>\n</g>\n<!-- 19&#45;&gt;20 -->\n<g id=\"edge21\" class=\"edge\">\n<title>19&#45;&gt;20</title>\n<path fill=\"none\" stroke=\"black\" d=\"M243,-359.7C243,-351.98 243,-342.71 243,-334.11\"/>\n<polygon fill=\"black\" stroke=\"black\" points=\"246.5,-334.1 243,-324.1 239.5,-334.1 246.5,-334.1\"/>\n</g>\n<!-- 26 -->\n<g id=\"node27\" class=\"node\">\n<title>26</title>\n<ellipse fill=\"grey\" stroke=\"grey\" cx=\"315\" cy=\"-306\" rx=\"27\" ry=\"18\"/>\n<text text-anchor=\"middle\" x=\"315\" y=\"-302.3\" font-family=\"Times New Roman,serif\" font-size=\"14.00\">26</text>\n</g>\n<!-- 25&#45;&gt;26 -->\n<g id=\"edge26\" class=\"edge\">\n<title>25&#45;&gt;26</title>\n<path fill=\"none\" stroke=\"black\" d=\"M315,-359.7C315,-351.98 315,-342.71 315,-334.11\"/>\n<polygon fill=\"black\" stroke=\"black\" points=\"318.5,-334.1 315,-324.1 311.5,-334.1 318.5,-334.1\"/>\n</g>\n<!-- 3 -->\n<g id=\"node8\" class=\"node\">\n<title>3</title>\n<ellipse fill=\"grey\" stroke=\"grey\" cx=\"27\" cy=\"-234\" rx=\"27\" ry=\"18\"/>\n<text text-anchor=\"middle\" x=\"27\" y=\"-230.3\" font-family=\"Times New Roman,serif\" font-size=\"14.00\">3</text>\n</g>\n<!-- 2&#45;&gt;3 -->\n<g id=\"edge7\" class=\"edge\">\n<title>2&#45;&gt;3</title>\n<path fill=\"none\" stroke=\"black\" d=\"M27,-287.7C27,-279.98 27,-270.71 27,-262.11\"/>\n<polygon fill=\"black\" stroke=\"black\" points=\"30.5,-262.1 27,-252.1 23.5,-262.1 30.5,-262.1\"/>\n</g>\n<!-- 4 -->\n<g id=\"node9\" class=\"node\">\n<title>4</title>\n<ellipse fill=\"grey\" stroke=\"grey\" cx=\"27\" cy=\"-162\" rx=\"27\" ry=\"18\"/>\n<text text-anchor=\"middle\" x=\"27\" y=\"-158.3\" font-family=\"Times New Roman,serif\" font-size=\"14.00\">4</text>\n</g>\n<!-- 3&#45;&gt;4 -->\n<g id=\"edge8\" class=\"edge\">\n<title>3&#45;&gt;4</title>\n<path fill=\"none\" stroke=\"black\" d=\"M27,-215.7C27,-207.98 27,-198.71 27,-190.11\"/>\n<polygon fill=\"black\" stroke=\"black\" points=\"30.5,-190.1 27,-180.1 23.5,-190.1 30.5,-190.1\"/>\n</g>\n<!-- 5 -->\n<g id=\"node10\" class=\"node\">\n<title>5</title>\n<ellipse fill=\"grey\" stroke=\"grey\" cx=\"27\" cy=\"-90\" rx=\"27\" ry=\"18\"/>\n<text text-anchor=\"middle\" x=\"27\" y=\"-86.3\" font-family=\"Times New Roman,serif\" font-size=\"14.00\">5</text>\n</g>\n<!-- 4&#45;&gt;5 -->\n<g id=\"edge9\" class=\"edge\">\n<title>4&#45;&gt;5</title>\n<path fill=\"none\" stroke=\"black\" d=\"M27,-143.7C27,-135.98 27,-126.71 27,-118.11\"/>\n<polygon fill=\"black\" stroke=\"black\" points=\"30.5,-118.1 27,-108.1 23.5,-118.1 30.5,-118.1\"/>\n</g>\n<!-- 6 -->\n<g id=\"node11\" class=\"node\">\n<title>6</title>\n<ellipse fill=\"grey\" stroke=\"grey\" cx=\"27\" cy=\"-18\" rx=\"27\" ry=\"18\"/>\n<text text-anchor=\"middle\" x=\"27\" y=\"-14.3\" font-family=\"Times New Roman,serif\" font-size=\"14.00\">6</text>\n</g>\n<!-- 5&#45;&gt;6 -->\n<g id=\"edge10\" class=\"edge\">\n<title>5&#45;&gt;6</title>\n<path fill=\"none\" stroke=\"black\" d=\"M27,-71.7C27,-63.98 27,-54.71 27,-46.11\"/>\n<polygon fill=\"black\" stroke=\"black\" points=\"30.5,-46.1 27,-36.1 23.5,-46.1 30.5,-46.1\"/>\n</g>\n<!-- 9 -->\n<g id=\"node13\" class=\"node\">\n<title>9</title>\n<ellipse fill=\"grey\" stroke=\"grey\" cx=\"99\" cy=\"-234\" rx=\"27\" ry=\"18\"/>\n<text text-anchor=\"middle\" x=\"99\" y=\"-230.3\" font-family=\"Times New Roman,serif\" font-size=\"14.00\">9</text>\n</g>\n<!-- 8&#45;&gt;9 -->\n<g id=\"edge12\" class=\"edge\">\n<title>8&#45;&gt;9</title>\n<path fill=\"none\" stroke=\"black\" d=\"M99,-287.7C99,-279.98 99,-270.71 99,-262.11\"/>\n<polygon fill=\"black\" stroke=\"black\" points=\"102.5,-262.1 99,-252.1 95.5,-262.1 102.5,-262.1\"/>\n</g>\n<!-- 10 -->\n<g id=\"node14\" class=\"node\">\n<title>10</title>\n<ellipse fill=\"grey\" stroke=\"grey\" cx=\"99\" cy=\"-162\" rx=\"27\" ry=\"18\"/>\n<text text-anchor=\"middle\" x=\"99\" y=\"-158.3\" font-family=\"Times New Roman,serif\" font-size=\"14.00\">10</text>\n</g>\n<!-- 9&#45;&gt;10 -->\n<g id=\"edge13\" class=\"edge\">\n<title>9&#45;&gt;10</title>\n<path fill=\"none\" stroke=\"black\" d=\"M99,-215.7C99,-207.98 99,-198.71 99,-190.11\"/>\n<polygon fill=\"black\" stroke=\"black\" points=\"102.5,-190.1 99,-180.1 95.5,-190.1 102.5,-190.1\"/>\n</g>\n<!-- 11 -->\n<g id=\"node15\" class=\"node\">\n<title>11</title>\n<ellipse fill=\"grey\" stroke=\"grey\" cx=\"99\" cy=\"-90\" rx=\"27\" ry=\"18\"/>\n<text text-anchor=\"middle\" x=\"99\" y=\"-86.3\" font-family=\"Times New Roman,serif\" font-size=\"14.00\">11</text>\n</g>\n<!-- 10&#45;&gt;11 -->\n<g id=\"edge14\" class=\"edge\">\n<title>10&#45;&gt;11</title>\n<path fill=\"none\" stroke=\"black\" d=\"M99,-143.7C99,-135.98 99,-126.71 99,-118.11\"/>\n<polygon fill=\"black\" stroke=\"black\" points=\"102.5,-118.1 99,-108.1 95.5,-118.1 102.5,-118.1\"/>\n</g>\n<!-- 12 -->\n<g id=\"node16\" class=\"node\">\n<title>12</title>\n<ellipse fill=\"grey\" stroke=\"grey\" cx=\"99\" cy=\"-18\" rx=\"27\" ry=\"18\"/>\n<text text-anchor=\"middle\" x=\"99\" y=\"-14.3\" font-family=\"Times New Roman,serif\" font-size=\"14.00\">12</text>\n</g>\n<!-- 11&#45;&gt;12 -->\n<g id=\"edge15\" class=\"edge\">\n<title>11&#45;&gt;12</title>\n<path fill=\"none\" stroke=\"black\" d=\"M99,-71.7C99,-63.98 99,-54.71 99,-46.11\"/>\n<polygon fill=\"black\" stroke=\"black\" points=\"102.5,-46.1 99,-36.1 95.5,-46.1 102.5,-46.1\"/>\n</g>\n<!-- 15 -->\n<g id=\"node18\" class=\"node\">\n<title>15</title>\n<ellipse fill=\"grey\" stroke=\"grey\" cx=\"171\" cy=\"-234\" rx=\"27\" ry=\"18\"/>\n<text text-anchor=\"middle\" x=\"171\" y=\"-230.3\" font-family=\"Times New Roman,serif\" font-size=\"14.00\">15</text>\n</g>\n<!-- 14&#45;&gt;15 -->\n<g id=\"edge17\" class=\"edge\">\n<title>14&#45;&gt;15</title>\n<path fill=\"none\" stroke=\"black\" d=\"M171,-287.7C171,-279.98 171,-270.71 171,-262.11\"/>\n<polygon fill=\"black\" stroke=\"black\" points=\"174.5,-262.1 171,-252.1 167.5,-262.1 174.5,-262.1\"/>\n</g>\n<!-- 16 -->\n<g id=\"node19\" class=\"node\">\n<title>16</title>\n<ellipse fill=\"grey\" stroke=\"grey\" cx=\"171\" cy=\"-162\" rx=\"27\" ry=\"18\"/>\n<text text-anchor=\"middle\" x=\"171\" y=\"-158.3\" font-family=\"Times New Roman,serif\" font-size=\"14.00\">16</text>\n</g>\n<!-- 15&#45;&gt;16 -->\n<g id=\"edge18\" class=\"edge\">\n<title>15&#45;&gt;16</title>\n<path fill=\"none\" stroke=\"black\" d=\"M171,-215.7C171,-207.98 171,-198.71 171,-190.11\"/>\n<polygon fill=\"black\" stroke=\"black\" points=\"174.5,-190.1 171,-180.1 167.5,-190.1 174.5,-190.1\"/>\n</g>\n<!-- 17 -->\n<g id=\"node20\" class=\"node\">\n<title>17</title>\n<ellipse fill=\"grey\" stroke=\"grey\" cx=\"171\" cy=\"-90\" rx=\"27\" ry=\"18\"/>\n<text text-anchor=\"middle\" x=\"171\" y=\"-86.3\" font-family=\"Times New Roman,serif\" font-size=\"14.00\">17</text>\n</g>\n<!-- 16&#45;&gt;17 -->\n<g id=\"edge19\" class=\"edge\">\n<title>16&#45;&gt;17</title>\n<path fill=\"none\" stroke=\"black\" d=\"M171,-143.7C171,-135.98 171,-126.71 171,-118.11\"/>\n<polygon fill=\"black\" stroke=\"black\" points=\"174.5,-118.1 171,-108.1 167.5,-118.1 174.5,-118.1\"/>\n</g>\n<!-- 18 -->\n<g id=\"node21\" class=\"node\">\n<title>18</title>\n<ellipse fill=\"grey\" stroke=\"grey\" cx=\"171\" cy=\"-18\" rx=\"27\" ry=\"18\"/>\n<text text-anchor=\"middle\" x=\"171\" y=\"-14.3\" font-family=\"Times New Roman,serif\" font-size=\"14.00\">18</text>\n</g>\n<!-- 17&#45;&gt;18 -->\n<g id=\"edge20\" class=\"edge\">\n<title>17&#45;&gt;18</title>\n<path fill=\"none\" stroke=\"black\" d=\"M171,-71.7C171,-63.98 171,-54.71 171,-46.11\"/>\n<polygon fill=\"black\" stroke=\"black\" points=\"174.5,-46.1 171,-36.1 167.5,-46.1 174.5,-46.1\"/>\n</g>\n<!-- 21 -->\n<g id=\"node23\" class=\"node\">\n<title>21</title>\n<ellipse fill=\"grey\" stroke=\"grey\" cx=\"243\" cy=\"-234\" rx=\"27\" ry=\"18\"/>\n<text text-anchor=\"middle\" x=\"243\" y=\"-230.3\" font-family=\"Times New Roman,serif\" font-size=\"14.00\">21</text>\n</g>\n<!-- 20&#45;&gt;21 -->\n<g id=\"edge22\" class=\"edge\">\n<title>20&#45;&gt;21</title>\n<path fill=\"none\" stroke=\"black\" d=\"M243,-287.7C243,-279.98 243,-270.71 243,-262.11\"/>\n<polygon fill=\"black\" stroke=\"black\" points=\"246.5,-262.1 243,-252.1 239.5,-262.1 246.5,-262.1\"/>\n</g>\n<!-- 22 -->\n<g id=\"node24\" class=\"node\">\n<title>22</title>\n<ellipse fill=\"grey\" stroke=\"grey\" cx=\"243\" cy=\"-162\" rx=\"27\" ry=\"18\"/>\n<text text-anchor=\"middle\" x=\"243\" y=\"-158.3\" font-family=\"Times New Roman,serif\" font-size=\"14.00\">22</text>\n</g>\n<!-- 21&#45;&gt;22 -->\n<g id=\"edge23\" class=\"edge\">\n<title>21&#45;&gt;22</title>\n<path fill=\"none\" stroke=\"black\" d=\"M243,-215.7C243,-207.98 243,-198.71 243,-190.11\"/>\n<polygon fill=\"black\" stroke=\"black\" points=\"246.5,-190.1 243,-180.1 239.5,-190.1 246.5,-190.1\"/>\n</g>\n<!-- 23 -->\n<g id=\"node25\" class=\"node\">\n<title>23</title>\n<ellipse fill=\"grey\" stroke=\"grey\" cx=\"243\" cy=\"-90\" rx=\"27\" ry=\"18\"/>\n<text text-anchor=\"middle\" x=\"243\" y=\"-86.3\" font-family=\"Times New Roman,serif\" font-size=\"14.00\">23</text>\n</g>\n<!-- 22&#45;&gt;23 -->\n<g id=\"edge24\" class=\"edge\">\n<title>22&#45;&gt;23</title>\n<path fill=\"none\" stroke=\"black\" d=\"M243,-143.7C243,-135.98 243,-126.71 243,-118.11\"/>\n<polygon fill=\"black\" stroke=\"black\" points=\"246.5,-118.1 243,-108.1 239.5,-118.1 246.5,-118.1\"/>\n</g>\n<!-- 24 -->\n<g id=\"node26\" class=\"node\">\n<title>24</title>\n<ellipse fill=\"grey\" stroke=\"grey\" cx=\"243\" cy=\"-18\" rx=\"27\" ry=\"18\"/>\n<text text-anchor=\"middle\" x=\"243\" y=\"-14.3\" font-family=\"Times New Roman,serif\" font-size=\"14.00\">24</text>\n</g>\n<!-- 23&#45;&gt;24 -->\n<g id=\"edge25\" class=\"edge\">\n<title>23&#45;&gt;24</title>\n<path fill=\"none\" stroke=\"black\" d=\"M243,-71.7C243,-63.98 243,-54.71 243,-46.11\"/>\n<polygon fill=\"black\" stroke=\"black\" points=\"246.5,-46.1 243,-36.1 239.5,-46.1 246.5,-46.1\"/>\n</g>\n<!-- 27 -->\n<g id=\"node28\" class=\"node\">\n<title>27</title>\n<ellipse fill=\"grey\" stroke=\"grey\" cx=\"315\" cy=\"-234\" rx=\"27\" ry=\"18\"/>\n<text text-anchor=\"middle\" x=\"315\" y=\"-230.3\" font-family=\"Times New Roman,serif\" font-size=\"14.00\">27</text>\n</g>\n<!-- 26&#45;&gt;27 -->\n<g id=\"edge27\" class=\"edge\">\n<title>26&#45;&gt;27</title>\n<path fill=\"none\" stroke=\"black\" d=\"M315,-287.7C315,-279.98 315,-270.71 315,-262.11\"/>\n<polygon fill=\"black\" stroke=\"black\" points=\"318.5,-262.1 315,-252.1 311.5,-262.1 318.5,-262.1\"/>\n</g>\n<!-- 28 -->\n<g id=\"node29\" class=\"node\">\n<title>28</title>\n<ellipse fill=\"grey\" stroke=\"grey\" cx=\"315\" cy=\"-162\" rx=\"27\" ry=\"18\"/>\n<text text-anchor=\"middle\" x=\"315\" y=\"-158.3\" font-family=\"Times New Roman,serif\" font-size=\"14.00\">28</text>\n</g>\n<!-- 27&#45;&gt;28 -->\n<g id=\"edge28\" class=\"edge\">\n<title>27&#45;&gt;28</title>\n<path fill=\"none\" stroke=\"black\" d=\"M315,-215.7C315,-207.98 315,-198.71 315,-190.11\"/>\n<polygon fill=\"black\" stroke=\"black\" points=\"318.5,-190.1 315,-180.1 311.5,-190.1 318.5,-190.1\"/>\n</g>\n<!-- 29 -->\n<g id=\"node30\" class=\"node\">\n<title>29</title>\n<ellipse fill=\"grey\" stroke=\"grey\" cx=\"315\" cy=\"-90\" rx=\"27\" ry=\"18\"/>\n<text text-anchor=\"middle\" x=\"315\" y=\"-86.3\" font-family=\"Times New Roman,serif\" font-size=\"14.00\">29</text>\n</g>\n<!-- 28&#45;&gt;29 -->\n<g id=\"edge29\" class=\"edge\">\n<title>28&#45;&gt;29</title>\n<path fill=\"none\" stroke=\"black\" d=\"M315,-143.7C315,-135.98 315,-126.71 315,-118.11\"/>\n<polygon fill=\"black\" stroke=\"black\" points=\"318.5,-118.1 315,-108.1 311.5,-118.1 318.5,-118.1\"/>\n</g>\n<!-- 30 -->\n<g id=\"node31\" class=\"node\">\n<title>30</title>\n<ellipse fill=\"grey\" stroke=\"grey\" cx=\"315\" cy=\"-18\" rx=\"27\" ry=\"18\"/>\n<text text-anchor=\"middle\" x=\"315\" y=\"-14.3\" font-family=\"Times New Roman,serif\" font-size=\"14.00\">30</text>\n</g>\n<!-- 29&#45;&gt;30 -->\n<g id=\"edge30\" class=\"edge\">\n<title>29&#45;&gt;30</title>\n<path fill=\"none\" stroke=\"black\" d=\"M315,-71.7C315,-63.98 315,-54.71 315,-46.11\"/>\n<polygon fill=\"black\" stroke=\"black\" points=\"318.5,-46.1 315,-36.1 311.5,-46.1 318.5,-46.1\"/>\n</g>\n</g>\n</svg>\n",
      "text/plain": [
       "<graphviz.graphs.Digraph at 0x1f8fd25ca90>"
      ]
     },
     "execution_count": 73,
     "metadata": {},
     "output_type": "execute_result"
    }
   ],
   "source": [
    "env.reset()\n",
    "env._render()"
   ]
  },
  {
   "cell_type": "code",
   "execution_count": 37,
   "metadata": {},
   "outputs": [
    {
     "name": "stdout",
     "output_type": "stream",
     "text": [
      "      NumClicks       Seed     Score  ExpectedScore\n",
      "mean    3.29750  15.500000  3.681972       3.530881\n",
      "std     2.02401   2.874078  0.718900       0.187646\n"
     ]
    }
   ],
   "source": [
    "participant_res = df[[\"NumClicks\", \"Seed\", \"Score\", \"ExpectedScore\"]].copy()\n",
    "print(participant_res.agg([\"mean\", \"std\"]))\n",
    "participant_res[\"Type\"] = \"Participants\"\n"
   ]
  },
  {
   "cell_type": "code",
   "execution_count": 65,
   "metadata": {},
   "outputs": [
    {
     "data": {
      "image/png": "[encoded data removed]",
      "text/plain": [
       "<Figure size 1800x400 with 4 Axes>"
      ]
     },
     "metadata": {},
     "output_type": "display_data"
    }
   ],
   "source": [
    "combined_df = pd.concat([res, participant_res])\n",
    "\n",
    "participant_res_trimmed = participant_res[participant_res[\"NumClicks\"]>=3]\n",
    "combined_df_trimmed = pd.concat([res, participant_res_trimmed])\n",
    "\n",
    "fig, axes =plt.subplots(1,4, figsize=(18,4))\n",
    "axes = axes.flatten()\n",
    "\n",
    "g = sns.histplot(combined_df, x=\"NumClicks\", stat=\"probability\", discrete=True, common_bins=True, multiple=\"dodge\", shrink=.9, common_norm = False, hue=\"Type\", ax=axes[0])\n",
    "g.set_title(\"Number of clicks\")\n",
    "env.reset()\n",
    "\n",
    "g = sns.barplot(combined_df, y=\"ExpectedScore\", x=\"Type\", ax=axes[1])\n",
    "g.set_ylim(3,4.5)\n",
    "g.axhline(env.expected_term_reward(env.state), color=\"black\")\n",
    "g.set_title(\"Expected Score\")\n",
    "\n",
    "g = sns.barplot(combined_df_trimmed, y=\"ExpectedScore\", x=\"Type\", ax=axes[2])\n",
    "g.set_ylim(3,4.5)\n",
    "g.axhline(env.expected_term_reward(env.state), color=\"black\")\n",
    "g.set_title(\"Expected Score \\nwhere NumClicks >= 3\")\n",
    "\n",
    "g = sns.barplot(combined_df, y=\"Score\", x=\"Type\", ax=axes[3])\n",
    "g.set_ylim(3,4.5)\n",
    "g.axhline(env.expected_term_reward(env.state), color=\"black\")\n",
    "g.set_title(\"True Score\")\n",
    "\n",
    "plt.show()"
   ]
  },
  {
   "cell_type": "code",
   "execution_count": 9,
   "metadata": {},
   "outputs": [
    {
     "name": "stderr",
     "output_type": "stream",
     "text": [
      "C:\\Users\\lheindrich\\AppData\\Local\\Temp\\ipykernel_23832\\1370106099.py:1: FutureWarning: ['TrialId', 'Actions'] did not aggregate successfully. If any error is raised this will raise in a future version of pandas. Drop these columns/ops to avoid this warning.\n",
      "  participant_scores = df.groupby(\"Participant\").agg([\"mean\", \"std\"])\n"
     ]
    }
   ],
   "source": [
    "participant_scores = df.groupby(\"Participant\").agg([\"mean\", \"std\"])"
   ]
  },
  {
   "cell_type": "code",
   "execution_count": 16,
   "metadata": {},
   "outputs": [
    {
     "data": {
      "text/html": [
       "<div>\n",
       "<style scoped>\n",
       "    .dataframe tbody tr th:only-of-type {\n",
       "        vertical-align: middle;\n",
       "    }\n",
       "\n",
       "    .dataframe tbody tr th {\n",
       "        vertical-align: top;\n",
       "    }\n",
       "\n",
       "    .dataframe thead tr th {\n",
       "        text-align: left;\n",
       "    }\n",
       "\n",
       "    .dataframe thead tr:last-of-type th {\n",
       "        text-align: right;\n",
       "    }\n",
       "</style>\n",
       "<table border=\"1\" class=\"dataframe\">\n",
       "  <thead>\n",
       "    <tr>\n",
       "      <th></th>\n",
       "      <th colspan=\"2\" halign=\"left\">Score</th>\n",
       "      <th colspan=\"2\" halign=\"left\">ExpectedScore</th>\n",
       "      <th colspan=\"2\" halign=\"left\">NumClicks</th>\n",
       "      <th colspan=\"2\" halign=\"left\">Selection</th>\n",
       "      <th colspan=\"2\" halign=\"left\">Seed</th>\n",
       "    </tr>\n",
       "    <tr>\n",
       "      <th></th>\n",
       "      <th>mean</th>\n",
       "      <th>std</th>\n",
       "      <th>mean</th>\n",
       "      <th>std</th>\n",
       "      <th>mean</th>\n",
       "      <th>std</th>\n",
       "      <th>mean</th>\n",
       "      <th>std</th>\n",
       "      <th>mean</th>\n",
       "      <th>std</th>\n",
       "    </tr>\n",
       "    <tr>\n",
       "      <th>Participant</th>\n",
       "      <th></th>\n",
       "      <th></th>\n",
       "      <th></th>\n",
       "      <th></th>\n",
       "      <th></th>\n",
       "      <th></th>\n",
       "      <th></th>\n",
       "      <th></th>\n",
       "      <th></th>\n",
       "      <th></th>\n",
       "    </tr>\n",
       "  </thead>\n",
       "  <tbody>\n",
       "    <tr>\n",
       "      <th>0</th>\n",
       "      <td>3.935127</td>\n",
       "      <td>0.444445</td>\n",
       "      <td>3.690650</td>\n",
       "      <td>0.076789</td>\n",
       "      <td>5.0</td>\n",
       "      <td>0.000000</td>\n",
       "      <td>2.1</td>\n",
       "      <td>1.370320</td>\n",
       "      <td>15.5</td>\n",
       "      <td>3.02765</td>\n",
       "    </tr>\n",
       "    <tr>\n",
       "      <th>1</th>\n",
       "      <td>3.830818</td>\n",
       "      <td>0.600608</td>\n",
       "      <td>3.641995</td>\n",
       "      <td>0.189835</td>\n",
       "      <td>3.4</td>\n",
       "      <td>1.173788</td>\n",
       "      <td>1.4</td>\n",
       "      <td>0.843274</td>\n",
       "      <td>15.5</td>\n",
       "      <td>3.02765</td>\n",
       "    </tr>\n",
       "    <tr>\n",
       "      <th>2</th>\n",
       "      <td>3.717115</td>\n",
       "      <td>0.653587</td>\n",
       "      <td>3.598912</td>\n",
       "      <td>0.131987</td>\n",
       "      <td>2.7</td>\n",
       "      <td>0.823273</td>\n",
       "      <td>1.0</td>\n",
       "      <td>1.247219</td>\n",
       "      <td>15.5</td>\n",
       "      <td>3.02765</td>\n",
       "    </tr>\n",
       "    <tr>\n",
       "      <th>3</th>\n",
       "      <td>3.459099</td>\n",
       "      <td>0.538862</td>\n",
       "      <td>3.401164</td>\n",
       "      <td>0.000000</td>\n",
       "      <td>0.0</td>\n",
       "      <td>0.000000</td>\n",
       "      <td>2.2</td>\n",
       "      <td>1.398412</td>\n",
       "      <td>15.5</td>\n",
       "      <td>3.02765</td>\n",
       "    </tr>\n",
       "    <tr>\n",
       "      <th>4</th>\n",
       "      <td>3.968477</td>\n",
       "      <td>0.634093</td>\n",
       "      <td>3.656017</td>\n",
       "      <td>0.106005</td>\n",
       "      <td>2.8</td>\n",
       "      <td>1.316561</td>\n",
       "      <td>1.7</td>\n",
       "      <td>1.159502</td>\n",
       "      <td>15.5</td>\n",
       "      <td>3.02765</td>\n",
       "    </tr>\n",
       "    <tr>\n",
       "      <th>...</th>\n",
       "      <td>...</td>\n",
       "      <td>...</td>\n",
       "      <td>...</td>\n",
       "      <td>...</td>\n",
       "      <td>...</td>\n",
       "      <td>...</td>\n",
       "      <td>...</td>\n",
       "      <td>...</td>\n",
       "      <td>...</td>\n",
       "      <td>...</td>\n",
       "    </tr>\n",
       "    <tr>\n",
       "      <th>97</th>\n",
       "      <td>3.706930</td>\n",
       "      <td>0.909851</td>\n",
       "      <td>3.532166</td>\n",
       "      <td>0.320513</td>\n",
       "      <td>5.0</td>\n",
       "      <td>0.000000</td>\n",
       "      <td>1.8</td>\n",
       "      <td>1.398412</td>\n",
       "      <td>15.5</td>\n",
       "      <td>3.02765</td>\n",
       "    </tr>\n",
       "    <tr>\n",
       "      <th>98</th>\n",
       "      <td>3.435311</td>\n",
       "      <td>1.038284</td>\n",
       "      <td>3.401164</td>\n",
       "      <td>0.000000</td>\n",
       "      <td>0.0</td>\n",
       "      <td>0.000000</td>\n",
       "      <td>2.5</td>\n",
       "      <td>1.433721</td>\n",
       "      <td>15.5</td>\n",
       "      <td>3.02765</td>\n",
       "    </tr>\n",
       "    <tr>\n",
       "      <th>99</th>\n",
       "      <td>3.922275</td>\n",
       "      <td>0.470476</td>\n",
       "      <td>3.715833</td>\n",
       "      <td>0.000621</td>\n",
       "      <td>5.0</td>\n",
       "      <td>0.000000</td>\n",
       "      <td>2.4</td>\n",
       "      <td>1.264911</td>\n",
       "      <td>15.5</td>\n",
       "      <td>3.02765</td>\n",
       "    </tr>\n",
       "    <tr>\n",
       "      <th>100</th>\n",
       "      <td>3.709821</td>\n",
       "      <td>0.584997</td>\n",
       "      <td>3.445381</td>\n",
       "      <td>0.146048</td>\n",
       "      <td>4.0</td>\n",
       "      <td>2.108185</td>\n",
       "      <td>2.1</td>\n",
       "      <td>1.728840</td>\n",
       "      <td>15.5</td>\n",
       "      <td>3.02765</td>\n",
       "    </tr>\n",
       "    <tr>\n",
       "      <th>101</th>\n",
       "      <td>3.941252</td>\n",
       "      <td>0.230875</td>\n",
       "      <td>3.626980</td>\n",
       "      <td>0.168627</td>\n",
       "      <td>4.9</td>\n",
       "      <td>0.316228</td>\n",
       "      <td>3.0</td>\n",
       "      <td>0.816497</td>\n",
       "      <td>15.5</td>\n",
       "      <td>3.02765</td>\n",
       "    </tr>\n",
       "  </tbody>\n",
       "</table>\n",
       "<p>80 rows × 10 columns</p>\n",
       "</div>"
      ],
      "text/plain": [
       "                Score           ExpectedScore           NumClicks            \\\n",
       "                 mean       std          mean       std      mean       std   \n",
       "Participant                                                                   \n",
       "0            3.935127  0.444445      3.690650  0.076789       5.0  0.000000   \n",
       "1            3.830818  0.600608      3.641995  0.189835       3.4  1.173788   \n",
       "2            3.717115  0.653587      3.598912  0.131987       2.7  0.823273   \n",
       "3            3.459099  0.538862      3.401164  0.000000       0.0  0.000000   \n",
       "4            3.968477  0.634093      3.656017  0.106005       2.8  1.316561   \n",
       "...               ...       ...           ...       ...       ...       ...   \n",
       "97           3.706930  0.909851      3.532166  0.320513       5.0  0.000000   \n",
       "98           3.435311  1.038284      3.401164  0.000000       0.0  0.000000   \n",
       "99           3.922275  0.470476      3.715833  0.000621       5.0  0.000000   \n",
       "100          3.709821  0.584997      3.445381  0.146048       4.0  2.108185   \n",
       "101          3.941252  0.230875      3.626980  0.168627       4.9  0.316228   \n",
       "\n",
       "            Selection            Seed           \n",
       "                 mean       std  mean      std  \n",
       "Participant                                     \n",
       "0                 2.1  1.370320  15.5  3.02765  \n",
       "1                 1.4  0.843274  15.5  3.02765  \n",
       "2                 1.0  1.247219  15.5  3.02765  \n",
       "3                 2.2  1.398412  15.5  3.02765  \n",
       "4                 1.7  1.159502  15.5  3.02765  \n",
       "...               ...       ...   ...      ...  \n",
       "97                1.8  1.398412  15.5  3.02765  \n",
       "98                2.5  1.433721  15.5  3.02765  \n",
       "99                2.4  1.264911  15.5  3.02765  \n",
       "100               2.1  1.728840  15.5  3.02765  \n",
       "101               3.0  0.816497  15.5  3.02765  \n",
       "\n",
       "[80 rows x 10 columns]"
      ]
     },
     "execution_count": 16,
     "metadata": {},
     "output_type": "execute_result"
    }
   ],
   "source": [
    "participant_scores"
   ]
  },
  {
   "cell_type": "code",
   "execution_count": 17,
   "metadata": {},
   "outputs": [
    {
     "data": {
      "text/html": [
       "<div>\n",
       "<style scoped>\n",
       "    .dataframe tbody tr th:only-of-type {\n",
       "        vertical-align: middle;\n",
       "    }\n",
       "\n",
       "    .dataframe tbody tr th {\n",
       "        vertical-align: top;\n",
       "    }\n",
       "\n",
       "    .dataframe thead tr th {\n",
       "        text-align: left;\n",
       "    }\n",
       "\n",
       "    .dataframe thead tr:last-of-type th {\n",
       "        text-align: right;\n",
       "    }\n",
       "</style>\n",
       "<table border=\"1\" class=\"dataframe\">\n",
       "  <thead>\n",
       "    <tr>\n",
       "      <th></th>\n",
       "      <th colspan=\"2\" halign=\"left\">Score</th>\n",
       "      <th colspan=\"2\" halign=\"left\">ExpectedScore</th>\n",
       "      <th colspan=\"2\" halign=\"left\">NumClicks</th>\n",
       "      <th colspan=\"2\" halign=\"left\">Selection</th>\n",
       "      <th colspan=\"2\" halign=\"left\">Seed</th>\n",
       "    </tr>\n",
       "    <tr>\n",
       "      <th></th>\n",
       "      <th>mean</th>\n",
       "      <th>std</th>\n",
       "      <th>mean</th>\n",
       "      <th>std</th>\n",
       "      <th>mean</th>\n",
       "      <th>std</th>\n",
       "      <th>mean</th>\n",
       "      <th>std</th>\n",
       "      <th>mean</th>\n",
       "      <th>std</th>\n",
       "    </tr>\n",
       "    <tr>\n",
       "      <th>Participant</th>\n",
       "      <th></th>\n",
       "      <th></th>\n",
       "      <th></th>\n",
       "      <th></th>\n",
       "      <th></th>\n",
       "      <th></th>\n",
       "      <th></th>\n",
       "      <th></th>\n",
       "      <th></th>\n",
       "      <th></th>\n",
       "    </tr>\n",
       "  </thead>\n",
       "  <tbody>\n",
       "    <tr>\n",
       "      <th>80</th>\n",
       "      <td>4.154553</td>\n",
       "      <td>0.541421</td>\n",
       "      <td>3.521751</td>\n",
       "      <td>0.142100</td>\n",
       "      <td>5.0</td>\n",
       "      <td>0.000000</td>\n",
       "      <td>2.6</td>\n",
       "      <td>1.264911</td>\n",
       "      <td>15.5</td>\n",
       "      <td>3.02765</td>\n",
       "    </tr>\n",
       "    <tr>\n",
       "      <th>81</th>\n",
       "      <td>4.142450</td>\n",
       "      <td>0.426249</td>\n",
       "      <td>3.691450</td>\n",
       "      <td>0.077093</td>\n",
       "      <td>4.6</td>\n",
       "      <td>0.966092</td>\n",
       "      <td>2.5</td>\n",
       "      <td>1.433721</td>\n",
       "      <td>15.5</td>\n",
       "      <td>3.02765</td>\n",
       "    </tr>\n",
       "    <tr>\n",
       "      <th>91</th>\n",
       "      <td>4.079858</td>\n",
       "      <td>0.542910</td>\n",
       "      <td>3.720976</td>\n",
       "      <td>0.002800</td>\n",
       "      <td>2.3</td>\n",
       "      <td>1.159502</td>\n",
       "      <td>1.9</td>\n",
       "      <td>1.370320</td>\n",
       "      <td>15.5</td>\n",
       "      <td>3.02765</td>\n",
       "    </tr>\n",
       "    <tr>\n",
       "      <th>90</th>\n",
       "      <td>4.078694</td>\n",
       "      <td>0.668906</td>\n",
       "      <td>3.543544</td>\n",
       "      <td>0.121341</td>\n",
       "      <td>5.0</td>\n",
       "      <td>0.000000</td>\n",
       "      <td>2.3</td>\n",
       "      <td>1.702939</td>\n",
       "      <td>15.5</td>\n",
       "      <td>3.02765</td>\n",
       "    </tr>\n",
       "    <tr>\n",
       "      <th>59</th>\n",
       "      <td>4.042940</td>\n",
       "      <td>0.312845</td>\n",
       "      <td>3.749503</td>\n",
       "      <td>0.052321</td>\n",
       "      <td>5.0</td>\n",
       "      <td>0.000000</td>\n",
       "      <td>2.2</td>\n",
       "      <td>1.229273</td>\n",
       "      <td>15.5</td>\n",
       "      <td>3.02765</td>\n",
       "    </tr>\n",
       "    <tr>\n",
       "      <th>...</th>\n",
       "      <td>...</td>\n",
       "      <td>...</td>\n",
       "      <td>...</td>\n",
       "      <td>...</td>\n",
       "      <td>...</td>\n",
       "      <td>...</td>\n",
       "      <td>...</td>\n",
       "      <td>...</td>\n",
       "      <td>...</td>\n",
       "      <td>...</td>\n",
       "    </tr>\n",
       "    <tr>\n",
       "      <th>41</th>\n",
       "      <td>3.209696</td>\n",
       "      <td>0.900599</td>\n",
       "      <td>3.247743</td>\n",
       "      <td>0.442606</td>\n",
       "      <td>5.0</td>\n",
       "      <td>0.000000</td>\n",
       "      <td>0.0</td>\n",
       "      <td>0.000000</td>\n",
       "      <td>15.5</td>\n",
       "      <td>3.02765</td>\n",
       "    </tr>\n",
       "    <tr>\n",
       "      <th>39</th>\n",
       "      <td>3.191295</td>\n",
       "      <td>0.976806</td>\n",
       "      <td>3.435621</td>\n",
       "      <td>0.081904</td>\n",
       "      <td>0.3</td>\n",
       "      <td>0.674949</td>\n",
       "      <td>2.6</td>\n",
       "      <td>1.173788</td>\n",
       "      <td>15.5</td>\n",
       "      <td>3.02765</td>\n",
       "    </tr>\n",
       "    <tr>\n",
       "      <th>82</th>\n",
       "      <td>3.169525</td>\n",
       "      <td>0.941334</td>\n",
       "      <td>3.525364</td>\n",
       "      <td>0.140156</td>\n",
       "      <td>4.8</td>\n",
       "      <td>0.632456</td>\n",
       "      <td>2.1</td>\n",
       "      <td>1.595131</td>\n",
       "      <td>15.5</td>\n",
       "      <td>3.02765</td>\n",
       "    </tr>\n",
       "    <tr>\n",
       "      <th>66</th>\n",
       "      <td>3.049475</td>\n",
       "      <td>0.783129</td>\n",
       "      <td>3.474709</td>\n",
       "      <td>0.139943</td>\n",
       "      <td>3.8</td>\n",
       "      <td>1.316561</td>\n",
       "      <td>1.2</td>\n",
       "      <td>1.549193</td>\n",
       "      <td>15.5</td>\n",
       "      <td>3.02765</td>\n",
       "    </tr>\n",
       "    <tr>\n",
       "      <th>33</th>\n",
       "      <td>2.767298</td>\n",
       "      <td>1.078759</td>\n",
       "      <td>3.387380</td>\n",
       "      <td>0.288652</td>\n",
       "      <td>4.8</td>\n",
       "      <td>0.421637</td>\n",
       "      <td>1.8</td>\n",
       "      <td>1.549193</td>\n",
       "      <td>15.5</td>\n",
       "      <td>3.02765</td>\n",
       "    </tr>\n",
       "  </tbody>\n",
       "</table>\n",
       "<p>80 rows × 10 columns</p>\n",
       "</div>"
      ],
      "text/plain": [
       "                Score           ExpectedScore           NumClicks            \\\n",
       "                 mean       std          mean       std      mean       std   \n",
       "Participant                                                                   \n",
       "80           4.154553  0.541421      3.521751  0.142100       5.0  0.000000   \n",
       "81           4.142450  0.426249      3.691450  0.077093       4.6  0.966092   \n",
       "91           4.079858  0.542910      3.720976  0.002800       2.3  1.159502   \n",
       "90           4.078694  0.668906      3.543544  0.121341       5.0  0.000000   \n",
       "59           4.042940  0.312845      3.749503  0.052321       5.0  0.000000   \n",
       "...               ...       ...           ...       ...       ...       ...   \n",
       "41           3.209696  0.900599      3.247743  0.442606       5.0  0.000000   \n",
       "39           3.191295  0.976806      3.435621  0.081904       0.3  0.674949   \n",
       "82           3.169525  0.941334      3.525364  0.140156       4.8  0.632456   \n",
       "66           3.049475  0.783129      3.474709  0.139943       3.8  1.316561   \n",
       "33           2.767298  1.078759      3.387380  0.288652       4.8  0.421637   \n",
       "\n",
       "            Selection            Seed           \n",
       "                 mean       std  mean      std  \n",
       "Participant                                     \n",
       "80                2.6  1.264911  15.5  3.02765  \n",
       "81                2.5  1.433721  15.5  3.02765  \n",
       "91                1.9  1.370320  15.5  3.02765  \n",
       "90                2.3  1.702939  15.5  3.02765  \n",
       "59                2.2  1.229273  15.5  3.02765  \n",
       "...               ...       ...   ...      ...  \n",
       "41                0.0  0.000000  15.5  3.02765  \n",
       "39                2.6  1.173788  15.5  3.02765  \n",
       "82                2.1  1.595131  15.5  3.02765  \n",
       "66                1.2  1.549193  15.5  3.02765  \n",
       "33                1.8  1.549193  15.5  3.02765  \n",
       "\n",
       "[80 rows x 10 columns]"
      ]
     },
     "execution_count": 17,
     "metadata": {},
     "output_type": "execute_result"
    }
   ],
   "source": [
    "participant_scores = participant_scores.sort_values((\"Score\", \"mean\"), ascending=False)\n",
    "participant_scores"
   ]
  },
  {
   "cell_type": "code",
   "execution_count": 18,
   "metadata": {},
   "outputs": [
    {
     "name": "stdout",
     "output_type": "stream",
     "text": [
      "80,0.75\n",
      "81,0.75\n",
      "91,0.75\n",
      "90,0.75\n",
      "59,0.75\n",
      "11,0.75\n",
      "65,0.75\n",
      "18,0.75\n",
      "89,0.75\n",
      "52,0.75\n",
      "9,0.75\n",
      "4,0.75\n",
      "50,0.75\n",
      "67,0.75\n",
      "101,0.75\n",
      "0,0.75\n",
      "99,0.75\n",
      "54,0.75\n",
      "92,0.75\n",
      "55,0.75\n",
      "86,0.75\n",
      "58,0.75\n",
      "35,0.75\n",
      "71,0.75\n",
      "72,0.75\n",
      "1,0.75\n",
      "56,0.75\n",
      "43,0.75\n",
      "78,0.75\n",
      "49,0.75\n",
      "69,0.75\n",
      "74,0.75\n",
      "63,0.75\n",
      "88,0.75\n",
      "68,0.75\n",
      "77,0.75\n",
      "70,0.75\n",
      "31,0.75\n",
      "21,0.75\n",
      "2,0.75\n",
      "53,0.25\n",
      "61,0.25\n",
      "100,0.25\n",
      "97,0.25\n",
      "46,0.25\n",
      "96,0.25\n",
      "17,0.25\n",
      "47,0.25\n",
      "48,0.25\n",
      "36,0.25\n",
      "64,0.25\n",
      "5,0.25\n",
      "60,0.25\n",
      "29,0.25\n",
      "40,0.25\n",
      "85,0.25\n",
      "15,0.25\n",
      "22,0.25\n",
      "87,0.25\n",
      "12,0.25\n",
      "62,0.25\n",
      "16,0.25\n",
      "73,0.25\n",
      "3,0.25\n",
      "42,0.25\n",
      "98,0.25\n",
      "19,0.25\n",
      "34,0.25\n",
      "95,0.25\n",
      "38,0.25\n",
      "45,0.25\n",
      "13,0.25\n",
      "79,0.25\n",
      "51,0.25\n",
      "30,0.25\n",
      "41,0.25\n",
      "39,0.25\n",
      "82,0.25\n",
      "66,0.25\n",
      "33,0.25\n"
     ]
    }
   ],
   "source": [
    "sorted_participants = participant_scores.index.tolist()\n",
    "half_participants = math.ceil(len(sorted_participants)/2)\n",
    "high_bonus = sorted_participants[:half_participants]\n",
    "low_bonus = sorted_participants[half_participants:]\n",
    "for id in high_bonus:\n",
    "    print(f\"{id},0.75\")\n",
    "for id in low_bonus:\n",
    "    print(f\"{id},0.25\")"
   ]
  },
  {
   "cell_type": "code",
   "execution_count": null,
   "metadata": {},
   "outputs": [],
   "source": []
  }
 ],
 "metadata": {
  "kernelspec": {
   "display_name": "jas",
   "language": "python",
   "name": "python3"
  },
  "language_info": {
   "codemirror_mode": {
    "name": "ipython",
    "version": 3
   },
   "file_extension": ".py",
   "mimetype": "text/x-python",
   "name": "python",
   "nbconvert_exporter": "python",
   "pygments_lexer": "ipython3",
   "version": "3.10.6"
  },
  "orig_nbformat": 4
 },
 "nbformat": 4,
 "nbformat_minor": 2
}
